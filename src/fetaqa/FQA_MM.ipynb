{
 "cells": [
  {
   "cell_type": "code",
   "execution_count": 1,
   "metadata": {},
   "outputs": [],
   "source": [
    "import json \n",
    "all_tables = []\n",
    "with open(\"/home/suyash/final_repo/fetaqa_MM_cleaned/new_outputs/og_tables/fetaQA-v1_dev.jsonl\") as f:\n",
    "    for line in f:\n",
    "        all_tables.append(json.loads(line))\n",
    "\n",
    "with open(\"/home/suyash/final_repo/fetaqa_MM_cleaned/new_outputs/og_tables/fetaQA-v1_train.jsonl\") as f:\n",
    "    for line in f:\n",
    "        all_tables.append(json.loads(line))\n",
    "\n",
    "with open(\"/home/suyash/final_repo/fetaqa_MM_cleaned/new_outputs/og_tables/fetaQA-v1_test.jsonl\") as f:\n",
    "    for line in f:\n",
    "        all_tables.append(json.loads(line))"
   ]
  },
  {
   "cell_type": "code",
   "execution_count": 2,
   "metadata": {},
   "outputs": [
    {
     "name": "stdout",
     "output_type": "stream",
     "text": [
      "10330\n"
     ]
    }
   ],
   "source": [
    "print(len(all_tables))"
   ]
  },
  {
   "cell_type": "code",
   "execution_count": 13,
   "metadata": {},
   "outputs": [],
   "source": [
    "# write all tables to a file \n",
    "with open(\"/home/suyash/final_repo/fetaqa_MM_cleaned/new_outputs/all_tables.jsonl\", \"w\") as f:\n",
    "    for table in all_tables:\n",
    "        f.write(json.dumps(table) + \"\\n\")"
   ]
  },
  {
   "cell_type": "code",
   "execution_count": null,
   "metadata": {},
   "outputs": [],
   "source": [
    "revision_ids_queries = {}\n",
    "URL = \"https://en.wikipedia.org/w/api.php?action=query&titles={title}&prop=revisions&rvlimit=500&rvstart=2020-05-05T07%3A59%3A00Z&rvdir=older&format=json&redirects=1\"\n",
    "for table in all_tables:\n",
    "    page_title = table['page_wikipedia_url'].split(\"en.wikipedia.org/wiki/\")[1]\n",
    "    revision_ids_queries[page_title] = URL.format(title=page_title)"
   ]
  },
  {
   "cell_type": "code",
   "execution_count": null,
   "metadata": {},
   "outputs": [],
   "source": [
    "len(revision_ids_queries)"
   ]
  },
  {
   "cell_type": "code",
   "execution_count": null,
   "metadata": {},
   "outputs": [],
   "source": [
    "json.dump(revision_ids_queries, open(\"/home2/jainit/FeTAQA_MM/new_outputs/input_asyncio/revision_ids_queries.json\", \"w\"))"
   ]
  },
  {
   "cell_type": "code",
   "execution_count": 2,
   "metadata": {},
   "outputs": [
    {
     "name": "stderr",
     "output_type": "stream",
     "text": [
      "0it [00:00, ?it/s]"
     ]
    },
    {
     "name": "stderr",
     "output_type": "stream",
     "text": [
      "10it [00:00, 20.95it/s]"
     ]
    },
    {
     "name": "stdout",
     "output_type": "stream",
     "text": [
      "not found\n",
      "https://en.wikipedia.org/w/api.php?action=query&titles=Natalie_Cohen&prop=revisions&rvlimit=500&rvstart=2020-05-05T07%3A59%3A00Z&rvdir=older&format=json&redirects=1\n"
     ]
    },
    {
     "name": "stderr",
     "output_type": "stream",
     "text": [
      "41it [00:02, 21.89it/s]"
     ]
    },
    {
     "name": "stdout",
     "output_type": "stream",
     "text": [
      "not found\n",
      "https://en.wikipedia.org/w/api.php?action=query&titles=Chapra,_Nadia_(Vidhan_Sabha_constituency)&prop=revisions&rvlimit=500&rvstart=2020-05-05T07%3A59%3A00Z&rvdir=older&format=json&redirects=1\n"
     ]
    },
    {
     "name": "stderr",
     "output_type": "stream",
     "text": [
      "59it [00:02, 31.29it/s]"
     ]
    },
    {
     "name": "stdout",
     "output_type": "stream",
     "text": [
      "not found\n",
      "https://en.wikipedia.org/w/api.php?action=query&titles=Donna_Allen&prop=revisions&rvlimit=500&rvstart=2020-05-05T07%3A59%3A00Z&rvdir=older&format=json&redirects=1\n"
     ]
    },
    {
     "name": "stderr",
     "output_type": "stream",
     "text": [
      "151it [00:07, 26.29it/s]"
     ]
    },
    {
     "name": "stdout",
     "output_type": "stream",
     "text": [
      "No tables found matching pattern '.+'\n",
      "Path :  /home/suyash/final_repo/fetaqa_MM_cleaned/output/tables/210284.html\n"
     ]
    },
    {
     "name": "stderr",
     "output_type": "stream",
     "text": [
      "225it [00:11, 17.46it/s]"
     ]
    },
    {
     "name": "stdout",
     "output_type": "stream",
     "text": [
      "not found\n",
      "https://en.wikipedia.org/w/api.php?action=query&titles=Phil_Mathews&prop=revisions&rvlimit=500&rvstart=2020-05-05T07%3A59%3A00Z&rvdir=older&format=json&redirects=1\n",
      "not found\n",
      "https://en.wikipedia.org/w/api.php?action=query&titles=Phil_Mathews&prop=revisions&rvlimit=500&rvstart=2020-05-05T07%3A59%3A00Z&rvdir=older&format=json&redirects=1\n"
     ]
    },
    {
     "name": "stderr",
     "output_type": "stream",
     "text": [
      "280it [00:14, 16.15it/s]"
     ]
    },
    {
     "name": "stdout",
     "output_type": "stream",
     "text": [
      "No tables found matching pattern '.+'\n",
      "Path :  /home/suyash/final_repo/fetaqa_MM_cleaned/output/tables/65400.html\n"
     ]
    },
    {
     "name": "stderr",
     "output_type": "stream",
     "text": [
      "331it [00:17, 16.19it/s]"
     ]
    },
    {
     "name": "stdout",
     "output_type": "stream",
     "text": [
      "not found\n",
      "https://en.wikipedia.org/w/api.php?action=query&titles=Aeroflot&prop=revisions&rvlimit=500&rvstart=2020-05-05T07%3A59%3A00Z&rvdir=older&format=json&redirects=1\n"
     ]
    },
    {
     "name": "stderr",
     "output_type": "stream",
     "text": [
      "382it [00:20, 20.45it/s]"
     ]
    },
    {
     "name": "stdout",
     "output_type": "stream",
     "text": [
      "not found\n",
      "https://en.wikipedia.org/w/api.php?action=query&titles=Celia_Kaye&prop=revisions&rvlimit=500&rvstart=2020-05-05T07%3A59%3A00Z&rvdir=older&format=json&redirects=1\n"
     ]
    },
    {
     "name": "stderr",
     "output_type": "stream",
     "text": [
      "392it [00:20, 18.63it/s]"
     ]
    },
    {
     "name": "stdout",
     "output_type": "stream",
     "text": [
      "No tables found matching pattern '.+'\n",
      "Path :  /home/suyash/final_repo/fetaqa_MM_cleaned/output/tables/223659.html\n"
     ]
    },
    {
     "name": "stderr",
     "output_type": "stream",
     "text": [
      "407it [00:21, 18.00it/s]"
     ]
    },
    {
     "name": "stdout",
     "output_type": "stream",
     "text": [
      "not found\n",
      "https://en.wikipedia.org/w/api.php?action=query&titles=Hurricane_Ida&prop=revisions&rvlimit=500&rvstart=2020-05-05T07%3A59%3A00Z&rvdir=older&format=json&redirects=1\n"
     ]
    },
    {
     "name": "stderr",
     "output_type": "stream",
     "text": [
      "543it [00:45, 11.03it/s]"
     ]
    },
    {
     "name": "stdout",
     "output_type": "stream",
     "text": [
      "not found\n",
      "https://en.wikipedia.org/w/api.php?action=query&titles=Raquel_Gonz%C3%A1lez&prop=revisions&rvlimit=500&rvstart=2020-05-05T07%3A59%3A00Z&rvdir=older&format=json&redirects=1\n"
     ]
    },
    {
     "name": "stderr",
     "output_type": "stream",
     "text": [
      "571it [00:49,  6.95it/s]"
     ]
    },
    {
     "name": "stdout",
     "output_type": "stream",
     "text": [
      "not found\n",
      "https://en.wikipedia.org/w/api.php?action=query&titles=Rashida_Jones&prop=revisions&rvlimit=500&rvstart=2020-05-05T07%3A59%3A00Z&rvdir=older&format=json&redirects=1\n"
     ]
    },
    {
     "name": "stderr",
     "output_type": "stream",
     "text": [
      "701it [01:11,  9.36it/s]"
     ]
    },
    {
     "name": "stdout",
     "output_type": "stream",
     "text": [
      "No tables found matching pattern '.+'\n",
      "Path :  /home/suyash/final_repo/fetaqa_MM_cleaned/output/tables/44572.html\n"
     ]
    },
    {
     "name": "stderr",
     "output_type": "stream",
     "text": [
      "706it [01:12,  6.89it/s]"
     ]
    },
    {
     "name": "stdout",
     "output_type": "stream",
     "text": [
      "No tables found matching pattern '.+'\n",
      "Path :  /home/suyash/final_repo/fetaqa_MM_cleaned/output/tables/5881.html\n"
     ]
    },
    {
     "name": "stderr",
     "output_type": "stream",
     "text": [
      "743it [01:16,  7.81it/s]"
     ]
    },
    {
     "name": "stdout",
     "output_type": "stream",
     "text": [
      "No tables found matching pattern '.+'\n",
      "Path :  /home/suyash/final_repo/fetaqa_MM_cleaned/output/tables/219254.html\n"
     ]
    },
    {
     "name": "stderr",
     "output_type": "stream",
     "text": [
      "756it [01:19,  6.74it/s]"
     ]
    },
    {
     "name": "stdout",
     "output_type": "stream",
     "text": [
      "not found\n",
      "https://en.wikipedia.org/w/api.php?action=query&titles=Anthony_Gonzalez&prop=revisions&rvlimit=500&rvstart=2020-05-05T07%3A59%3A00Z&rvdir=older&format=json&redirects=1\n",
      "not found\n",
      "https://en.wikipedia.org/w/api.php?action=query&titles=Anthony_Gonzalez&prop=revisions&rvlimit=500&rvstart=2020-05-05T07%3A59%3A00Z&rvdir=older&format=json&redirects=1\n"
     ]
    },
    {
     "name": "stderr",
     "output_type": "stream",
     "text": [
      "772it [01:21,  9.03it/s]"
     ]
    },
    {
     "name": "stdout",
     "output_type": "stream",
     "text": [
      "not found\n",
      "https://en.wikipedia.org/w/api.php?action=query&titles=Regine_Velasquez_filmography&prop=revisions&rvlimit=500&rvstart=2020-05-05T07%3A59%3A00Z&rvdir=older&format=json&redirects=1\n"
     ]
    },
    {
     "name": "stderr",
     "output_type": "stream",
     "text": [
      "954it [01:51,  5.81it/s]"
     ]
    },
    {
     "name": "stdout",
     "output_type": "stream",
     "text": [
      "list index out of range\n",
      "Path :  /home/suyash/final_repo/fetaqa_MM_cleaned/output/tables/61121.html\n",
      "list index out of range\n",
      "Path :  /home/suyash/final_repo/fetaqa_MM_cleaned/output/tables/61125.html\n"
     ]
    },
    {
     "name": "stderr",
     "output_type": "stream",
     "text": [
      "965it [01:53,  4.55it/s]"
     ]
    },
    {
     "name": "stdout",
     "output_type": "stream",
     "text": [
      "No tables found matching pattern '.+'\n",
      "Path :  /home/suyash/final_repo/fetaqa_MM_cleaned/output/tables/224319.html\n"
     ]
    },
    {
     "name": "stderr",
     "output_type": "stream",
     "text": [
      "977it [01:55,  4.95it/s]"
     ]
    },
    {
     "name": "stdout",
     "output_type": "stream",
     "text": [
      "No tables found matching pattern '.+'\n",
      "Path :  /home/suyash/final_repo/fetaqa_MM_cleaned/output/tables/12608.html\n"
     ]
    },
    {
     "name": "stderr",
     "output_type": "stream",
     "text": [
      "1039it [02:07,  3.06it/s]"
     ]
    },
    {
     "name": "stdout",
     "output_type": "stream",
     "text": [
      "No tables found matching pattern '.+'\n",
      "Path :  /home/suyash/final_repo/fetaqa_MM_cleaned/output/tables/1402.html\n"
     ]
    },
    {
     "name": "stderr",
     "output_type": "stream",
     "text": [
      "1067it [02:14,  2.51it/s]"
     ]
    },
    {
     "name": "stdout",
     "output_type": "stream",
     "text": [
      "not found\n",
      "https://en.wikipedia.org/w/api.php?action=query&titles=Love_Island_(series_1)&prop=revisions&rvlimit=500&rvstart=2020-05-05T07%3A59%3A00Z&rvdir=older&format=json&redirects=1\n",
      "not found\n",
      "https://en.wikipedia.org/w/api.php?action=query&titles=Love_Island_(series_1)&prop=revisions&rvlimit=500&rvstart=2020-05-05T07%3A59%3A00Z&rvdir=older&format=json&redirects=1\n"
     ]
    },
    {
     "name": "stderr",
     "output_type": "stream",
     "text": [
      "1079it [02:17,  4.50it/s]"
     ]
    },
    {
     "name": "stdout",
     "output_type": "stream",
     "text": [
      "not found\n",
      "https://en.wikipedia.org/w/api.php?action=query&titles=Russell_Malone&prop=revisions&rvlimit=500&rvstart=2020-05-05T07%3A59%3A00Z&rvdir=older&format=json&redirects=1\n"
     ]
    },
    {
     "name": "stderr",
     "output_type": "stream",
     "text": [
      "1165it [02:38,  8.32it/s]"
     ]
    },
    {
     "name": "stdout",
     "output_type": "stream",
     "text": [
      "not found\n",
      "https://en.wikipedia.org/w/api.php?action=query&titles=Frank_Arnold&prop=revisions&rvlimit=500&rvstart=2020-05-05T07%3A59%3A00Z&rvdir=older&format=json&redirects=1\n",
      "not found\n",
      "https://en.wikipedia.org/w/api.php?action=query&titles=Frank_Arnold&prop=revisions&rvlimit=500&rvstart=2020-05-05T07%3A59%3A00Z&rvdir=older&format=json&redirects=1\n"
     ]
    },
    {
     "name": "stderr",
     "output_type": "stream",
     "text": [
      "1284it [03:03,  4.56it/s]"
     ]
    },
    {
     "name": "stdout",
     "output_type": "stream",
     "text": [
      "not found\n",
      "https://en.wikipedia.org/w/api.php?action=query&titles=2014%E2%80%9315_F.C._Halifax_Town_season&prop=revisions&rvlimit=500&rvstart=2020-05-05T07%3A59%3A00Z&rvdir=older&format=json&redirects=1\n"
     ]
    },
    {
     "name": "stderr",
     "output_type": "stream",
     "text": [
      "1316it [03:11,  9.57it/s]"
     ]
    },
    {
     "name": "stdout",
     "output_type": "stream",
     "text": [
      "not found\n",
      "https://en.wikipedia.org/w/api.php?action=query&titles=Problem_(song)&prop=revisions&rvlimit=500&rvstart=2020-05-05T07%3A59%3A00Z&rvdir=older&format=json&redirects=1\n",
      "not found\n",
      "https://en.wikipedia.org/w/api.php?action=query&titles=Problem_(song)&prop=revisions&rvlimit=500&rvstart=2020-05-05T07%3A59%3A00Z&rvdir=older&format=json&redirects=1\n"
     ]
    },
    {
     "name": "stderr",
     "output_type": "stream",
     "text": [
      "1321it [03:12,  5.86it/s]"
     ]
    },
    {
     "name": "stdout",
     "output_type": "stream",
     "text": [
      "No tables found matching pattern '.+'\n",
      "Path :  /home/suyash/final_repo/fetaqa_MM_cleaned/output/tables/234659.html\n"
     ]
    },
    {
     "name": "stderr",
     "output_type": "stream",
     "text": [
      "1338it [03:15,  4.97it/s]"
     ]
    },
    {
     "name": "stdout",
     "output_type": "stream",
     "text": [
      "not found\n",
      "https://en.wikipedia.org/w/api.php?action=query&titles=NatWest_Series&prop=revisions&rvlimit=500&rvstart=2020-05-05T07%3A59%3A00Z&rvdir=older&format=json&redirects=1\n"
     ]
    },
    {
     "name": "stderr",
     "output_type": "stream",
     "text": [
      "1400it [03:32,  4.61it/s]"
     ]
    },
    {
     "name": "stdout",
     "output_type": "stream",
     "text": [
      "No tables found matching pattern '.+'\n",
      "Path :  /home/suyash/final_repo/fetaqa_MM_cleaned/output/tables/201332.html\n",
      "No tables found matching pattern '.+'\n",
      "Path :  /home/suyash/final_repo/fetaqa_MM_cleaned/output/tables/201333.html\n"
     ]
    },
    {
     "name": "stderr",
     "output_type": "stream",
     "text": [
      "1459it [03:44,  5.58it/s]"
     ]
    },
    {
     "name": "stdout",
     "output_type": "stream",
     "text": [
      "not found\n",
      "https://en.wikipedia.org/w/api.php?action=query&titles=Naina_Sarwar&prop=revisions&rvlimit=500&rvstart=2020-05-05T07%3A59%3A00Z&rvdir=older&format=json&redirects=1\n"
     ]
    },
    {
     "name": "stderr",
     "output_type": "stream",
     "text": [
      "1469it [03:48,  2.64it/s]"
     ]
    },
    {
     "name": "stdout",
     "output_type": "stream",
     "text": [
      "No tables found matching pattern '.+'\n",
      "Path :  /home/suyash/final_repo/fetaqa_MM_cleaned/output/tables/36746.html\n"
     ]
    },
    {
     "name": "stderr",
     "output_type": "stream",
     "text": [
      "1503it [03:55,  6.02it/s]"
     ]
    },
    {
     "name": "stdout",
     "output_type": "stream",
     "text": [
      "not found\n",
      "https://en.wikipedia.org/w/api.php?action=query&titles=Krepost_Sveaborg&prop=revisions&rvlimit=500&rvstart=2020-05-05T07%3A59%3A00Z&rvdir=older&format=json&redirects=1\n"
     ]
    },
    {
     "name": "stderr",
     "output_type": "stream",
     "text": [
      "1569it [04:09,  5.57it/s]"
     ]
    },
    {
     "name": "stdout",
     "output_type": "stream",
     "text": [
      "No tables found matching pattern '.+'\n",
      "Path :  /home/suyash/final_repo/fetaqa_MM_cleaned/output/tables/13982.html\n",
      "No tables found matching pattern '.+'\n",
      "Path :  /home/suyash/final_repo/fetaqa_MM_cleaned/output/tables/13983.html\n"
     ]
    },
    {
     "name": "stderr",
     "output_type": "stream",
     "text": [
      "1571it [04:09,  6.36it/s]"
     ]
    },
    {
     "name": "stdout",
     "output_type": "stream",
     "text": [
      "No tables found matching pattern '.+'\n",
      "Path :  /home/suyash/final_repo/fetaqa_MM_cleaned/output/tables/14491.html\n"
     ]
    },
    {
     "name": "stderr",
     "output_type": "stream",
     "text": [
      "1591it [04:14,  2.42it/s]"
     ]
    },
    {
     "name": "stdout",
     "output_type": "stream",
     "text": [
      "not found\n",
      "https://en.wikipedia.org/w/api.php?action=query&titles=Ulka_Gupta&prop=revisions&rvlimit=500&rvstart=2020-05-05T07%3A59%3A00Z&rvdir=older&format=json&redirects=1\n"
     ]
    },
    {
     "name": "stderr",
     "output_type": "stream",
     "text": [
      "1657it [04:29,  6.72it/s]"
     ]
    },
    {
     "name": "stdout",
     "output_type": "stream",
     "text": [
      "not found\n",
      "https://en.wikipedia.org/w/api.php?action=query&titles=Tony_Richards_(footballer)&prop=revisions&rvlimit=500&rvstart=2020-05-05T07%3A59%3A00Z&rvdir=older&format=json&redirects=1\n"
     ]
    },
    {
     "name": "stderr",
     "output_type": "stream",
     "text": [
      "1748it [04:49,  6.55it/s]"
     ]
    },
    {
     "name": "stdout",
     "output_type": "stream",
     "text": [
      "No tables found matching pattern '.+'\n",
      "Path :  /home/suyash/final_repo/fetaqa_MM_cleaned/output/tables/33845.html\n"
     ]
    },
    {
     "name": "stderr",
     "output_type": "stream",
     "text": [
      "1827it [05:05,  2.73it/s]"
     ]
    },
    {
     "name": "stdout",
     "output_type": "stream",
     "text": [
      "not found\n",
      "https://en.wikipedia.org/w/api.php?action=query&titles=Fatma_Serdar&prop=revisions&rvlimit=500&rvstart=2020-05-05T07%3A59%3A00Z&rvdir=older&format=json&redirects=1\n"
     ]
    },
    {
     "name": "stderr",
     "output_type": "stream",
     "text": [
      "1923it [05:30,  9.07it/s]"
     ]
    },
    {
     "name": "stdout",
     "output_type": "stream",
     "text": [
      "No tables found matching pattern '.+'\n",
      "Path :  /home/suyash/final_repo/fetaqa_MM_cleaned/output/tables/14871.html\n",
      "No tables found matching pattern '.+'\n",
      "Path :  /home/suyash/final_repo/fetaqa_MM_cleaned/output/tables/14876.html\n"
     ]
    },
    {
     "name": "stderr",
     "output_type": "stream",
     "text": [
      "1943it [05:35,  5.65it/s]"
     ]
    },
    {
     "name": "stdout",
     "output_type": "stream",
     "text": [
      "not found\n",
      "https://en.wikipedia.org/w/api.php?action=query&titles=Salony_Jain&prop=revisions&rvlimit=500&rvstart=2020-05-05T07%3A59%3A00Z&rvdir=older&format=json&redirects=1\n",
      "not found\n",
      "https://en.wikipedia.org/w/api.php?action=query&titles=Emma_Laura&prop=revisions&rvlimit=500&rvstart=2020-05-05T07%3A59%3A00Z&rvdir=older&format=json&redirects=1\n"
     ]
    },
    {
     "name": "stderr",
     "output_type": "stream",
     "text": [
      "2056it [06:08,  3.21it/s]"
     ]
    },
    {
     "name": "stdout",
     "output_type": "stream",
     "text": [
      "No tables found matching pattern '.+'\n",
      "Path :  /home/suyash/final_repo/fetaqa_MM_cleaned/output/tables/29896.html\n"
     ]
    },
    {
     "name": "stderr",
     "output_type": "stream",
     "text": [
      "2152it [06:31,  5.14it/s]"
     ]
    },
    {
     "name": "stdout",
     "output_type": "stream",
     "text": [
      "list index out of range\n",
      "Path :  /home/suyash/final_repo/fetaqa_MM_cleaned/output/tables/35688.html\n"
     ]
    },
    {
     "name": "stderr",
     "output_type": "stream",
     "text": [
      "2160it [06:32,  4.99it/s]"
     ]
    },
    {
     "name": "stdout",
     "output_type": "stream",
     "text": [
      "not found\n",
      "https://en.wikipedia.org/w/api.php?action=query&titles=The_Holographic_Principle_World_Tour&prop=revisions&rvlimit=500&rvstart=2020-05-05T07%3A59%3A00Z&rvdir=older&format=json&redirects=1\n"
     ]
    },
    {
     "name": "stderr",
     "output_type": "stream",
     "text": [
      "2217it [06:42,  9.39it/s]"
     ]
    },
    {
     "name": "stdout",
     "output_type": "stream",
     "text": [
      "not found\n",
      "https://en.wikipedia.org/w/api.php?action=query&titles=Spencer_Martin&prop=revisions&rvlimit=500&rvstart=2020-05-05T07%3A59%3A00Z&rvdir=older&format=json&redirects=1\n"
     ]
    },
    {
     "name": "stderr",
     "output_type": "stream",
     "text": [
      "2266it [06:51,  6.73it/s]"
     ]
    },
    {
     "name": "stdout",
     "output_type": "stream",
     "text": [
      "No tables found matching pattern '.+'\n",
      "Path :  /home/suyash/final_repo/fetaqa_MM_cleaned/output/tables/27652.html\n",
      "No tables found matching pattern '.+'\n",
      "Path :  /home/suyash/final_repo/fetaqa_MM_cleaned/output/tables/27653.html\n"
     ]
    },
    {
     "name": "stderr",
     "output_type": "stream",
     "text": [
      "2268it [06:52,  7.00it/s]"
     ]
    },
    {
     "name": "stdout",
     "output_type": "stream",
     "text": [
      "No tables found matching pattern '.+'\n",
      "Path :  /home/suyash/final_repo/fetaqa_MM_cleaned/output/tables/228070.html\n",
      "No tables found matching pattern '.+'\n",
      "Path :  /home/suyash/final_repo/fetaqa_MM_cleaned/output/tables/228072.html\n"
     ]
    },
    {
     "name": "stderr",
     "output_type": "stream",
     "text": [
      "2278it [06:54,  5.87it/s]"
     ]
    },
    {
     "name": "stdout",
     "output_type": "stream",
     "text": [
      "No tables found matching pattern '.+'\n",
      "Path :  /home/suyash/final_repo/fetaqa_MM_cleaned/output/tables/200439.html\n",
      "No tables found matching pattern '.+'\n",
      "Path :  /home/suyash/final_repo/fetaqa_MM_cleaned/output/tables/200440.html\n"
     ]
    },
    {
     "name": "stderr",
     "output_type": "stream",
     "text": [
      "2294it [06:59,  1.79it/s]"
     ]
    },
    {
     "name": "stdout",
     "output_type": "stream",
     "text": [
      "No tables found matching pattern '.+'\n",
      "Path :  /home/suyash/final_repo/fetaqa_MM_cleaned/output/tables/231993.html\n",
      "No tables found matching pattern '.+'\n",
      "Path :  /home/suyash/final_repo/fetaqa_MM_cleaned/output/tables/231996.html\n",
      "No tables found matching pattern '.+'\n",
      "Path :  /home/suyash/final_repo/fetaqa_MM_cleaned/output/tables/231998.html\n"
     ]
    },
    {
     "name": "stderr",
     "output_type": "stream",
     "text": [
      "2299it [07:00,  3.54it/s]"
     ]
    },
    {
     "name": "stdout",
     "output_type": "stream",
     "text": [
      "not found\n",
      "https://en.wikipedia.org/w/api.php?action=query&titles=Matthew_Temple&prop=revisions&rvlimit=500&rvstart=2020-05-05T07%3A59%3A00Z&rvdir=older&format=json&redirects=1\n"
     ]
    },
    {
     "name": "stderr",
     "output_type": "stream",
     "text": [
      "2317it [07:05,  4.39it/s]"
     ]
    },
    {
     "name": "stdout",
     "output_type": "stream",
     "text": [
      "not found\n",
      "https://en.wikipedia.org/w/api.php?action=query&titles=1974_Wyoming_Secretary_of_State_election&prop=revisions&rvlimit=500&rvstart=2020-05-05T07%3A59%3A00Z&rvdir=older&format=json&redirects=1\n"
     ]
    },
    {
     "name": "stderr",
     "output_type": "stream",
     "text": [
      "2347it [07:10,  6.03it/s]"
     ]
    },
    {
     "name": "stdout",
     "output_type": "stream",
     "text": [
      "No tables found matching pattern '.+'\n",
      "Path :  /home/suyash/final_repo/fetaqa_MM_cleaned/output/tables/66753.html\n"
     ]
    },
    {
     "name": "stderr",
     "output_type": "stream",
     "text": [
      "2369it [07:15,  8.13it/s]"
     ]
    },
    {
     "name": "stdout",
     "output_type": "stream",
     "text": [
      "not found\n",
      "https://en.wikipedia.org/w/api.php?action=query&titles=List_of_Super_Mario_speedrunning_records&prop=revisions&rvlimit=500&rvstart=2020-05-05T07%3A59%3A00Z&rvdir=older&format=json&redirects=1\n"
     ]
    },
    {
     "name": "stderr",
     "output_type": "stream",
     "text": [
      "2387it [07:17,  9.24it/s]"
     ]
    },
    {
     "name": "stdout",
     "output_type": "stream",
     "text": [
      "not found\n",
      "https://en.wikipedia.org/w/api.php?action=query&titles=Naina_Sarwar&prop=revisions&rvlimit=500&rvstart=2020-05-05T07%3A59%3A00Z&rvdir=older&format=json&redirects=1\n",
      "No tables found matching pattern '.+'\n",
      "Path :  /home/suyash/final_repo/fetaqa_MM_cleaned/output/tables/231286.html\n",
      "No tables found matching pattern '.+'\n",
      "Path :  /home/suyash/final_repo/fetaqa_MM_cleaned/output/tables/231287.html\n"
     ]
    },
    {
     "name": "stderr",
     "output_type": "stream",
     "text": [
      "2425it [07:27,  5.35it/s]"
     ]
    },
    {
     "name": "stdout",
     "output_type": "stream",
     "text": [
      "not found\n",
      "https://en.wikipedia.org/w/api.php?action=query&titles=Li_Hao_(footballer)&prop=revisions&rvlimit=500&rvstart=2020-05-05T07%3A59%3A00Z&rvdir=older&format=json&redirects=1\n"
     ]
    },
    {
     "name": "stderr",
     "output_type": "stream",
     "text": [
      "2473it [07:38,  8.46it/s]"
     ]
    },
    {
     "name": "stdout",
     "output_type": "stream",
     "text": [
      "No tables found matching pattern '.+'\n",
      "Path :  /home/suyash/final_repo/fetaqa_MM_cleaned/output/tables/11481.html\n"
     ]
    },
    {
     "name": "stderr",
     "output_type": "stream",
     "text": [
      "2484it [07:40,  6.08it/s]"
     ]
    },
    {
     "name": "stdout",
     "output_type": "stream",
     "text": [
      "not found\n",
      "https://en.wikipedia.org/w/api.php?action=query&titles=Randheer_Rai&prop=revisions&rvlimit=500&rvstart=2020-05-05T07%3A59%3A00Z&rvdir=older&format=json&redirects=1\n"
     ]
    },
    {
     "name": "stderr",
     "output_type": "stream",
     "text": [
      "2524it [07:48,  8.83it/s]"
     ]
    },
    {
     "name": "stdout",
     "output_type": "stream",
     "text": [
      "No tables found matching pattern '.+'\n",
      "Path :  /home/suyash/final_repo/fetaqa_MM_cleaned/output/tables/216563.html\n"
     ]
    },
    {
     "name": "stderr",
     "output_type": "stream",
     "text": [
      "2568it [08:01,  4.69it/s]"
     ]
    },
    {
     "name": "stdout",
     "output_type": "stream",
     "text": [
      "list index out of range\n",
      "Path :  /home/suyash/final_repo/fetaqa_MM_cleaned/output/tables/36716.html\n",
      "list index out of range\n",
      "Path :  /home/suyash/final_repo/fetaqa_MM_cleaned/output/tables/36718.html\n"
     ]
    },
    {
     "name": "stderr",
     "output_type": "stream",
     "text": [
      "2629it [08:11,  6.44it/s]"
     ]
    },
    {
     "name": "stdout",
     "output_type": "stream",
     "text": [
      "not found\n",
      "https://en.wikipedia.org/w/api.php?action=query&titles=Reform_Party_of_Florida&prop=revisions&rvlimit=500&rvstart=2020-05-05T07%3A59%3A00Z&rvdir=older&format=json&redirects=1\n"
     ]
    },
    {
     "name": "stderr",
     "output_type": "stream",
     "text": [
      "2650it [08:15,  7.02it/s]"
     ]
    },
    {
     "name": "stdout",
     "output_type": "stream",
     "text": [
      "list index out of range\n",
      "Path :  /home/suyash/final_repo/fetaqa_MM_cleaned/output/tables/40190.html\n",
      "list index out of range\n",
      "Path :  /home/suyash/final_repo/fetaqa_MM_cleaned/output/tables/40192.html\n"
     ]
    },
    {
     "name": "stderr",
     "output_type": "stream",
     "text": [
      "2657it [08:16,  6.89it/s]"
     ]
    },
    {
     "name": "stdout",
     "output_type": "stream",
     "text": [
      "No tables found matching pattern '.+'\n",
      "Path :  /home/suyash/final_repo/fetaqa_MM_cleaned/output/tables/54253.html\n",
      "No tables found matching pattern '.+'\n",
      "Path :  /home/suyash/final_repo/fetaqa_MM_cleaned/output/tables/54254.html\n"
     ]
    },
    {
     "name": "stderr",
     "output_type": "stream",
     "text": [
      "2689it [08:24,  6.04it/s]"
     ]
    },
    {
     "name": "stdout",
     "output_type": "stream",
     "text": [
      "not found\n",
      "https://en.wikipedia.org/w/api.php?action=query&titles=KRMS&prop=revisions&rvlimit=500&rvstart=2020-05-05T07%3A59%3A00Z&rvdir=older&format=json&redirects=1\n"
     ]
    },
    {
     "name": "stderr",
     "output_type": "stream",
     "text": [
      "2698it [08:27,  3.42it/s]"
     ]
    },
    {
     "name": "stdout",
     "output_type": "stream",
     "text": [
      "No tables found matching pattern '.+'\n",
      "Path :  /home/suyash/final_repo/fetaqa_MM_cleaned/output/tables/43686.html\n"
     ]
    },
    {
     "name": "stderr",
     "output_type": "stream",
     "text": [
      "2729it [08:31,  5.27it/s]"
     ]
    },
    {
     "name": "stdout",
     "output_type": "stream",
     "text": [
      "not found\n",
      "https://en.wikipedia.org/w/api.php?action=query&titles=Aneesha_Ummer&prop=revisions&rvlimit=500&rvstart=2020-05-05T07%3A59%3A00Z&rvdir=older&format=json&redirects=1\n"
     ]
    },
    {
     "name": "stderr",
     "output_type": "stream",
     "text": [
      "2741it [08:34,  5.07it/s]"
     ]
    },
    {
     "name": "stdout",
     "output_type": "stream",
     "text": [
      "No tables found matching pattern '.+'\n",
      "Path :  /home/suyash/final_repo/fetaqa_MM_cleaned/output/tables/219447.html\n",
      "No tables found matching pattern '.+'\n",
      "Path :  /home/suyash/final_repo/fetaqa_MM_cleaned/output/tables/219449.html\n"
     ]
    },
    {
     "name": "stderr",
     "output_type": "stream",
     "text": [
      "2816it [08:48,  2.66it/s]"
     ]
    },
    {
     "name": "stdout",
     "output_type": "stream",
     "text": [
      "not found\n",
      "https://en.wikipedia.org/w/api.php?action=query&titles=2012%E2%80%9313_Gateshead_F.C._season&prop=revisions&rvlimit=500&rvstart=2020-05-05T07%3A59%3A00Z&rvdir=older&format=json&redirects=1\n"
     ]
    },
    {
     "name": "stderr",
     "output_type": "stream",
     "text": [
      "2907it [09:10,  6.58it/s]"
     ]
    },
    {
     "name": "stdout",
     "output_type": "stream",
     "text": [
      "No tables found matching pattern '.+'\n",
      "Path :  /home/suyash/final_repo/fetaqa_MM_cleaned/output/tables/232084.html\n",
      "No tables found matching pattern '.+'\n",
      "Path :  /home/suyash/final_repo/fetaqa_MM_cleaned/output/tables/232085.html\n",
      "No tables found matching pattern '.+'\n",
      "Path :  /home/suyash/final_repo/fetaqa_MM_cleaned/output/tables/232086.html\n",
      "No tables found matching pattern '.+'\n",
      "Path :  /home/suyash/final_repo/fetaqa_MM_cleaned/output/tables/232087.html\n",
      "No tables found matching pattern '.+'\n",
      "Path :  /home/suyash/final_repo/fetaqa_MM_cleaned/output/tables/232088.html\n",
      "No tables found matching pattern '.+'\n",
      "Path :  /home/suyash/final_repo/fetaqa_MM_cleaned/output/tables/232089.html\n",
      "No tables found matching pattern '.+'\n",
      "Path :  /home/suyash/final_repo/fetaqa_MM_cleaned/output/tables/232090.html\n",
      "No tables found matching pattern '.+'\n",
      "Path :  /home/suyash/final_repo/fetaqa_MM_cleaned/output/tables/232091.html\n",
      "No tables found matching pattern '.+'\n",
      "Path :  /home/suyash/final_repo/fetaqa_MM_cleaned/output/tables/232092.html\n",
      "No tables found matching pattern '.+'\n",
      "Path :  /home/suyash/final_repo/fetaqa_MM_cleaned/output/tables/232093.html\n",
      "No tables found matching pattern '.+'\n",
      "Path :  /home/suyash/final_repo/fetaqa_MM_cleaned/output/tables/232094.html\n",
      "No tables found matching pattern '.+'\n",
      "Path :  /home/suyash/final_repo/fetaqa_MM_cleaned/output/tables/232095.html\n",
      "No tables found matching pattern '.+'\n",
      "Path :  /home/suyash/final_repo/fetaqa_MM_cleaned/output/tables/232096.html\n",
      "No tables found matching pattern '.+'\n",
      "Path :  /home/suyash/final_repo/fetaqa_MM_cleaned/output/tables/232097.html\n",
      "No tables found matching pattern '.+'\n",
      "Path :  /home/suyash/final_repo/fetaqa_MM_cleaned/output/tables/232098.html\n",
      "No tables found matching pattern '.+'\n",
      "Path :  /home/suyash/final_repo/fetaqa_MM_cleaned/output/tables/232099.html\n",
      "No tables found matching pattern '.+'\n",
      "Path :  /home/suyash/final_repo/fetaqa_MM_cleaned/output/tables/232100.html\n",
      "No tables found matching pattern '.+'\n",
      "Path :  /home/suyash/final_repo/fetaqa_MM_cleaned/output/tables/232101.html\n",
      "No tables found matching pattern '.+'\n",
      "Path :  /home/suyash/final_repo/fetaqa_MM_cleaned/output/tables/232102.html\n",
      "No tables found matching pattern '.+'\n",
      "Path :  /home/suyash/final_repo/fetaqa_MM_cleaned/output/tables/232103.html\n",
      "No tables found matching pattern '.+'\n",
      "Path :  /home/suyash/final_repo/fetaqa_MM_cleaned/output/tables/232104.html\n",
      "No tables found matching pattern '.+'\n",
      "Path :  /home/suyash/final_repo/fetaqa_MM_cleaned/output/tables/232105.html\n",
      "No tables found matching pattern '.+'\n",
      "Path :  /home/suyash/final_repo/fetaqa_MM_cleaned/output/tables/232106.html\n",
      "No tables found matching pattern '.+'\n",
      "Path :  /home/suyash/final_repo/fetaqa_MM_cleaned/output/tables/232107.html\n",
      "No tables found matching pattern '.+'\n",
      "Path :  /home/suyash/final_repo/fetaqa_MM_cleaned/output/tables/232108.html\n",
      "No tables found matching pattern '.+'\n",
      "Path :  /home/suyash/final_repo/fetaqa_MM_cleaned/output/tables/232109.html\n",
      "No tables found matching pattern '.+'\n",
      "Path :  /home/suyash/final_repo/fetaqa_MM_cleaned/output/tables/232110.html\n",
      "No tables found matching pattern '.+'\n",
      "Path :  /home/suyash/final_repo/fetaqa_MM_cleaned/output/tables/232111.html\n",
      "No tables found matching pattern '.+'\n",
      "Path :  /home/suyash/final_repo/fetaqa_MM_cleaned/output/tables/232112.html\n",
      "No tables found matching pattern '.+'\n",
      "Path :  /home/suyash/final_repo/fetaqa_MM_cleaned/output/tables/232113.html\n",
      "No tables found matching pattern '.+'\n",
      "Path :  /home/suyash/final_repo/fetaqa_MM_cleaned/output/tables/232114.html\n",
      "No tables found matching pattern '.+'\n",
      "Path :  /home/suyash/final_repo/fetaqa_MM_cleaned/output/tables/232115.html\n",
      "No tables found matching pattern '.+'\n",
      "Path :  /home/suyash/final_repo/fetaqa_MM_cleaned/output/tables/232116.html\n",
      "No tables found matching pattern '.+'\n",
      "Path :  /home/suyash/final_repo/fetaqa_MM_cleaned/output/tables/232117.html\n",
      "No tables found matching pattern '.+'\n",
      "Path :  /home/suyash/final_repo/fetaqa_MM_cleaned/output/tables/232118.html\n",
      "No tables found matching pattern '.+'\n",
      "Path :  /home/suyash/final_repo/fetaqa_MM_cleaned/output/tables/232119.html\n",
      "No tables found matching pattern '.+'\n",
      "Path :  /home/suyash/final_repo/fetaqa_MM_cleaned/output/tables/232120.html\n",
      "No tables found matching pattern '.+'\n",
      "Path :  /home/suyash/final_repo/fetaqa_MM_cleaned/output/tables/232121.html\n",
      "No tables found matching pattern '.+'\n",
      "Path :  /home/suyash/final_repo/fetaqa_MM_cleaned/output/tables/232122.html\n",
      "No tables found matching pattern '.+'\n",
      "Path :  /home/suyash/final_repo/fetaqa_MM_cleaned/output/tables/232123.html\n",
      "No tables found matching pattern '.+'\n",
      "Path :  /home/suyash/final_repo/fetaqa_MM_cleaned/output/tables/232124.html\n",
      "No tables found matching pattern '.+'\n",
      "Path :  /home/suyash/final_repo/fetaqa_MM_cleaned/output/tables/232125.html\n",
      "No tables found matching pattern '.+'\n",
      "Path :  /home/suyash/final_repo/fetaqa_MM_cleaned/output/tables/232126.html\n",
      "No tables found matching pattern '.+'\n",
      "Path :  /home/suyash/final_repo/fetaqa_MM_cleaned/output/tables/232127.html\n",
      "No tables found matching pattern '.+'\n",
      "Path :  /home/suyash/final_repo/fetaqa_MM_cleaned/output/tables/232128.html\n",
      "No tables found matching pattern '.+'\n",
      "Path :  /home/suyash/final_repo/fetaqa_MM_cleaned/output/tables/232129.html\n",
      "No tables found matching pattern '.+'\n",
      "Path :  /home/suyash/final_repo/fetaqa_MM_cleaned/output/tables/232130.html\n",
      "No tables found matching pattern '.+'\n",
      "Path :  /home/suyash/final_repo/fetaqa_MM_cleaned/output/tables/232131.html\n"
     ]
    },
    {
     "name": "stderr",
     "output_type": "stream",
     "text": [
      "2908it [09:11,  2.88it/s]"
     ]
    },
    {
     "name": "stdout",
     "output_type": "stream",
     "text": [
      "not found\n",
      "https://en.wikipedia.org/w/api.php?action=query&titles=Thomas_Fire&prop=revisions&rvlimit=500&rvstart=2020-05-05T07%3A59%3A00Z&rvdir=older&format=json&redirects=1\n"
     ]
    },
    {
     "name": "stderr",
     "output_type": "stream",
     "text": [
      "2916it [09:13,  4.87it/s]"
     ]
    },
    {
     "name": "stdout",
     "output_type": "stream",
     "text": [
      "not found\n",
      "https://en.wikipedia.org/w/api.php?action=query&titles=List_of_JALways_destinations&prop=revisions&rvlimit=500&rvstart=2020-05-05T07%3A59%3A00Z&rvdir=older&format=json&redirects=1\n"
     ]
    },
    {
     "name": "stderr",
     "output_type": "stream",
     "text": [
      "3014it [09:34, 10.61it/s]"
     ]
    },
    {
     "name": "stdout",
     "output_type": "stream",
     "text": [
      "not found\n",
      "https://en.wikipedia.org/w/api.php?action=query&titles=Paul_Burns&prop=revisions&rvlimit=500&rvstart=2020-05-05T07%3A59%3A00Z&rvdir=older&format=json&redirects=1\n"
     ]
    },
    {
     "name": "stderr",
     "output_type": "stream",
     "text": [
      "3026it [09:36,  3.80it/s]"
     ]
    },
    {
     "name": "stdout",
     "output_type": "stream",
     "text": [
      "list index out of range\n",
      "Path :  /home/suyash/final_repo/fetaqa_MM_cleaned/output/tables/224885.html\n",
      "No tables found matching pattern '.+'\n",
      "Path :  /home/suyash/final_repo/fetaqa_MM_cleaned/output/tables/224920.html\n"
     ]
    },
    {
     "name": "stderr",
     "output_type": "stream",
     "text": [
      "3048it [09:42,  5.61it/s]"
     ]
    },
    {
     "name": "stdout",
     "output_type": "stream",
     "text": [
      "not found\n",
      "https://en.wikipedia.org/w/api.php?action=query&titles=Deniss_Petrovs&prop=revisions&rvlimit=500&rvstart=2020-05-05T07%3A59%3A00Z&rvdir=older&format=json&redirects=1\n"
     ]
    },
    {
     "name": "stderr",
     "output_type": "stream",
     "text": [
      "3106it [09:56,  3.11it/s]"
     ]
    },
    {
     "name": "stdout",
     "output_type": "stream",
     "text": [
      "not found\n",
      "https://en.wikipedia.org/w/api.php?action=query&titles=Bj%C3%B6rn_Forslund&prop=revisions&rvlimit=500&rvstart=2020-05-05T07%3A59%3A00Z&rvdir=older&format=json&redirects=1\n"
     ]
    },
    {
     "name": "stderr",
     "output_type": "stream",
     "text": [
      "3174it [10:12,  7.86it/s]"
     ]
    },
    {
     "name": "stdout",
     "output_type": "stream",
     "text": [
      "not found\n",
      "https://en.wikipedia.org/w/api.php?action=query&titles=MCC_tour_of_Australia_in_1962%E2%80%9363&prop=revisions&rvlimit=500&rvstart=2020-05-05T07%3A59%3A00Z&rvdir=older&format=json&redirects=1\n"
     ]
    },
    {
     "name": "stderr",
     "output_type": "stream",
     "text": [
      "3226it [10:28,  7.82it/s]"
     ]
    },
    {
     "name": "stdout",
     "output_type": "stream",
     "text": [
      "No tables found matching pattern '.+'\n",
      "Path :  /home/suyash/final_repo/fetaqa_MM_cleaned/output/tables/201711.html\n",
      "No tables found matching pattern '.+'\n",
      "Path :  /home/suyash/final_repo/fetaqa_MM_cleaned/output/tables/201712.html\n"
     ]
    },
    {
     "name": "stderr",
     "output_type": "stream",
     "text": [
      "3310it [10:46,  6.03it/s]"
     ]
    },
    {
     "name": "stdout",
     "output_type": "stream",
     "text": [
      "No tables found matching pattern '.+'\n",
      "Path :  /home/suyash/final_repo/fetaqa_MM_cleaned/output/tables/201860.html\n"
     ]
    },
    {
     "name": "stderr",
     "output_type": "stream",
     "text": [
      "3359it [10:59,  5.31it/s]"
     ]
    },
    {
     "name": "stdout",
     "output_type": "stream",
     "text": [
      "not found\n",
      "https://en.wikipedia.org/w/api.php?action=query&titles=1990_Wyoming_Secretary_of_State_election&prop=revisions&rvlimit=500&rvstart=2020-05-05T07%3A59%3A00Z&rvdir=older&format=json&redirects=1\n"
     ]
    },
    {
     "name": "stderr",
     "output_type": "stream",
     "text": [
      "3440it [11:15,  6.38it/s]"
     ]
    },
    {
     "name": "stdout",
     "output_type": "stream",
     "text": [
      "No tables found matching pattern '.+'\n",
      "Path :  /home/suyash/final_repo/fetaqa_MM_cleaned/output/tables/40154.html\n"
     ]
    },
    {
     "name": "stderr",
     "output_type": "stream",
     "text": [
      "3494it [11:31,  3.61it/s]"
     ]
    },
    {
     "name": "stdout",
     "output_type": "stream",
     "text": [
      "not found\n",
      "https://en.wikipedia.org/w/api.php?action=query&titles=Black_Dog_(song)&prop=revisions&rvlimit=500&rvstart=2020-05-05T07%3A59%3A00Z&rvdir=older&format=json&redirects=1\n",
      "not found\n",
      "https://en.wikipedia.org/w/api.php?action=query&titles=Black_Dog_(song)&prop=revisions&rvlimit=500&rvstart=2020-05-05T07%3A59%3A00Z&rvdir=older&format=json&redirects=1\n"
     ]
    },
    {
     "name": "stderr",
     "output_type": "stream",
     "text": [
      "3571it [11:51,  6.14it/s]"
     ]
    },
    {
     "name": "stdout",
     "output_type": "stream",
     "text": [
      "not found\n",
      "https://en.wikipedia.org/w/api.php?action=query&titles=Ralph_Graham&prop=revisions&rvlimit=500&rvstart=2020-05-05T07%3A59%3A00Z&rvdir=older&format=json&redirects=1\n"
     ]
    },
    {
     "name": "stderr",
     "output_type": "stream",
     "text": [
      "3604it [12:06,  3.91it/s]"
     ]
    },
    {
     "name": "stdout",
     "output_type": "stream",
     "text": [
      "No tables found matching pattern '.+'\n",
      "Path :  /home/suyash/final_repo/fetaqa_MM_cleaned/output/tables/200766.html\n"
     ]
    },
    {
     "name": "stderr",
     "output_type": "stream",
     "text": [
      "3651it [12:15,  6.04it/s]"
     ]
    },
    {
     "name": "stdout",
     "output_type": "stream",
     "text": [
      "not found\n",
      "https://en.wikipedia.org/w/api.php?action=query&titles=Eddie_Brown_(arena_football)&prop=revisions&rvlimit=500&rvstart=2020-05-05T07%3A59%3A00Z&rvdir=older&format=json&redirects=1\n"
     ]
    },
    {
     "name": "stderr",
     "output_type": "stream",
     "text": [
      "3656it [12:16,  8.35it/s]"
     ]
    },
    {
     "name": "stdout",
     "output_type": "stream",
     "text": [
      "not found\n",
      "https://en.wikipedia.org/w/api.php?action=query&titles=John_Chalmers&prop=revisions&rvlimit=500&rvstart=2020-05-05T07%3A59%3A00Z&rvdir=older&format=json&redirects=1\n",
      "not found\n",
      "https://en.wikipedia.org/w/api.php?action=query&titles=John_Chalmers&prop=revisions&rvlimit=500&rvstart=2020-05-05T07%3A59%3A00Z&rvdir=older&format=json&redirects=1\n"
     ]
    },
    {
     "name": "stderr",
     "output_type": "stream",
     "text": [
      "3715it [12:28,  8.14it/s]"
     ]
    },
    {
     "name": "stdout",
     "output_type": "stream",
     "text": [
      "No tables found matching pattern '.+'\n",
      "Path :  /home/suyash/final_repo/fetaqa_MM_cleaned/output/tables/47905.html\n"
     ]
    },
    {
     "name": "stderr",
     "output_type": "stream",
     "text": [
      "3753it [12:37,  4.95it/s]"
     ]
    },
    {
     "name": "stdout",
     "output_type": "stream",
     "text": [
      "not found\n",
      "https://en.wikipedia.org/w/api.php?action=query&titles=Free_Yourself_(song)&prop=revisions&rvlimit=500&rvstart=2020-05-05T07%3A59%3A00Z&rvdir=older&format=json&redirects=1\n",
      "not found\n",
      "https://en.wikipedia.org/w/api.php?action=query&titles=Free_Yourself_(song)&prop=revisions&rvlimit=500&rvstart=2020-05-05T07%3A59%3A00Z&rvdir=older&format=json&redirects=1\n"
     ]
    },
    {
     "name": "stderr",
     "output_type": "stream",
     "text": [
      "3756it [12:38,  5.84it/s]"
     ]
    },
    {
     "name": "stdout",
     "output_type": "stream",
     "text": [
      "No tables found matching pattern '.+'\n",
      "Path :  /home/suyash/final_repo/fetaqa_MM_cleaned/output/tables/211897.html\n",
      "No tables found matching pattern '.+'\n",
      "Path :  /home/suyash/final_repo/fetaqa_MM_cleaned/output/tables/211898.html\n"
     ]
    },
    {
     "name": "stderr",
     "output_type": "stream",
     "text": [
      "3802it [12:48,  6.70it/s]"
     ]
    },
    {
     "name": "stdout",
     "output_type": "stream",
     "text": [
      "not found\n",
      "https://en.wikipedia.org/w/api.php?action=query&titles=Andy_Jones_(footballer)&prop=revisions&rvlimit=500&rvstart=2020-05-05T07%3A59%3A00Z&rvdir=older&format=json&redirects=1\n",
      "not found\n",
      "https://en.wikipedia.org/w/api.php?action=query&titles=Andy_Jones_(footballer)&prop=revisions&rvlimit=500&rvstart=2020-05-05T07%3A59%3A00Z&rvdir=older&format=json&redirects=1\n"
     ]
    },
    {
     "name": "stderr",
     "output_type": "stream",
     "text": [
      "3863it [12:59,  7.20it/s]"
     ]
    },
    {
     "name": "stdout",
     "output_type": "stream",
     "text": [
      "not found\n",
      "https://en.wikipedia.org/w/api.php?action=query&titles=Yasumasa_Nishino&prop=revisions&rvlimit=500&rvstart=2020-05-05T07%3A59%3A00Z&rvdir=older&format=json&redirects=1\n",
      "not found\n",
      "https://en.wikipedia.org/w/api.php?action=query&titles=Yasumasa_Nishino&prop=revisions&rvlimit=500&rvstart=2020-05-05T07%3A59%3A00Z&rvdir=older&format=json&redirects=1\n"
     ]
    },
    {
     "name": "stderr",
     "output_type": "stream",
     "text": [
      "3896it [13:06,  7.41it/s]"
     ]
    },
    {
     "name": "stdout",
     "output_type": "stream",
     "text": [
      "not found\n",
      "https://en.wikipedia.org/w/api.php?action=query&titles=The_Fugitive_(TV_series)&prop=revisions&rvlimit=500&rvstart=2020-05-05T07%3A59%3A00Z&rvdir=older&format=json&redirects=1\n",
      "not found\n",
      "https://en.wikipedia.org/w/api.php?action=query&titles=The_Fugitive_(TV_series)&prop=revisions&rvlimit=500&rvstart=2020-05-05T07%3A59%3A00Z&rvdir=older&format=json&redirects=1\n"
     ]
    },
    {
     "name": "stderr",
     "output_type": "stream",
     "text": [
      "3897it [13:06,  6.54it/s]"
     ]
    },
    {
     "name": "stdout",
     "output_type": "stream",
     "text": [
      "not found\n",
      "https://en.wikipedia.org/w/api.php?action=query&titles=Tini_(album)&prop=revisions&rvlimit=500&rvstart=2020-05-05T07%3A59%3A00Z&rvdir=older&format=json&redirects=1\n"
     ]
    },
    {
     "name": "stderr",
     "output_type": "stream",
     "text": [
      "3919it [13:10,  5.73it/s]"
     ]
    },
    {
     "name": "stdout",
     "output_type": "stream",
     "text": [
      "not found\n",
      "https://en.wikipedia.org/w/api.php?action=query&titles=List_of_churches_in_Aust-Agder&prop=revisions&rvlimit=500&rvstart=2020-05-05T07%3A59%3A00Z&rvdir=older&format=json&redirects=1\n"
     ]
    },
    {
     "name": "stderr",
     "output_type": "stream",
     "text": [
      "4004it [13:26,  7.99it/s]"
     ]
    },
    {
     "name": "stdout",
     "output_type": "stream",
     "text": [
      "not found\n",
      "https://en.wikipedia.org/w/api.php?action=query&titles=Beautiful_Intentions_Tour&prop=revisions&rvlimit=500&rvstart=2020-05-05T07%3A59%3A00Z&rvdir=older&format=json&redirects=1\n"
     ]
    },
    {
     "name": "stderr",
     "output_type": "stream",
     "text": [
      "4054it [13:36,  6.38it/s]"
     ]
    },
    {
     "name": "stdout",
     "output_type": "stream",
     "text": [
      "not found\n",
      "https://en.wikipedia.org/w/api.php?action=query&titles=Archie_Campbell&prop=revisions&rvlimit=500&rvstart=2020-05-05T07%3A59%3A00Z&rvdir=older&format=json&redirects=1\n"
     ]
    },
    {
     "name": "stderr",
     "output_type": "stream",
     "text": [
      "4091it [13:47,  3.76it/s]"
     ]
    },
    {
     "name": "stdout",
     "output_type": "stream",
     "text": [
      "No tables found matching pattern '.+'\n",
      "Path :  /home/suyash/final_repo/fetaqa_MM_cleaned/output/tables/26654.html\n",
      "No tables found matching pattern '.+'\n",
      "Path :  /home/suyash/final_repo/fetaqa_MM_cleaned/output/tables/26661.html\n"
     ]
    },
    {
     "name": "stderr",
     "output_type": "stream",
     "text": [
      "4099it [13:49,  6.72it/s]"
     ]
    },
    {
     "name": "stdout",
     "output_type": "stream",
     "text": [
      "No tables found matching pattern '.+'\n",
      "Path :  /home/suyash/final_repo/fetaqa_MM_cleaned/output/tables/45648.html\n"
     ]
    },
    {
     "name": "stderr",
     "output_type": "stream",
     "text": [
      "4124it [13:55,  6.17it/s]"
     ]
    },
    {
     "name": "stdout",
     "output_type": "stream",
     "text": [
      "not found\n",
      "https://en.wikipedia.org/w/api.php?action=query&titles=TASMAC&prop=revisions&rvlimit=500&rvstart=2020-05-05T07%3A59%3A00Z&rvdir=older&format=json&redirects=1\n",
      "not found\n",
      "https://en.wikipedia.org/w/api.php?action=query&titles=Jack_Cox_(Texas)&prop=revisions&rvlimit=500&rvstart=2020-05-05T07%3A59%3A00Z&rvdir=older&format=json&redirects=1\n"
     ]
    },
    {
     "name": "stderr",
     "output_type": "stream",
     "text": [
      "4175it [14:02,  8.86it/s]"
     ]
    },
    {
     "name": "stdout",
     "output_type": "stream",
     "text": [
      "No tables found matching pattern '.+'\n",
      "Path :  /home/suyash/final_repo/fetaqa_MM_cleaned/output/tables/42938.html\n",
      "No tables found matching pattern '.+'\n",
      "Path :  /home/suyash/final_repo/fetaqa_MM_cleaned/output/tables/42939.html\n",
      "No tables found matching pattern '.+'\n",
      "Path :  /home/suyash/final_repo/fetaqa_MM_cleaned/output/tables/42940.html\n",
      "No tables found matching pattern '.+'\n",
      "Path :  /home/suyash/final_repo/fetaqa_MM_cleaned/output/tables/42943.html\n",
      "No tables found matching pattern '.+'\n",
      "Path :  /home/suyash/final_repo/fetaqa_MM_cleaned/output/tables/42944.html\n",
      "No tables found matching pattern '.+'\n",
      "Path :  /home/suyash/final_repo/fetaqa_MM_cleaned/output/tables/42945.html\n"
     ]
    },
    {
     "name": "stderr",
     "output_type": "stream",
     "text": [
      "4184it [14:05,  5.84it/s]"
     ]
    },
    {
     "name": "stdout",
     "output_type": "stream",
     "text": [
      "not found\n",
      "https://en.wikipedia.org/w/api.php?action=query&titles=Wetaskiwin_(electoral_district)&prop=revisions&rvlimit=500&rvstart=2020-05-05T07%3A59%3A00Z&rvdir=older&format=json&redirects=1\n",
      "not found\n",
      "https://en.wikipedia.org/w/api.php?action=query&titles=Wetaskiwin_(electoral_district)&prop=revisions&rvlimit=500&rvstart=2020-05-05T07%3A59%3A00Z&rvdir=older&format=json&redirects=1\n"
     ]
    },
    {
     "name": "stderr",
     "output_type": "stream",
     "text": [
      "4262it [14:26,  4.68it/s]"
     ]
    },
    {
     "name": "stdout",
     "output_type": "stream",
     "text": [
      "No tables found matching pattern '.+'\n",
      "Path :  /home/suyash/final_repo/fetaqa_MM_cleaned/output/tables/229057.html\n",
      "No tables found matching pattern '.+'\n",
      "Path :  /home/suyash/final_repo/fetaqa_MM_cleaned/output/tables/229058.html\n"
     ]
    },
    {
     "name": "stderr",
     "output_type": "stream",
     "text": [
      "4286it [14:33,  5.06it/s]"
     ]
    },
    {
     "name": "stdout",
     "output_type": "stream",
     "text": [
      "No tables found matching pattern '.+'\n",
      "Path :  /home/suyash/final_repo/fetaqa_MM_cleaned/output/tables/212411.html\n"
     ]
    },
    {
     "name": "stderr",
     "output_type": "stream",
     "text": [
      "4290it [14:33,  7.69it/s]"
     ]
    },
    {
     "name": "stdout",
     "output_type": "stream",
     "text": [
      "not found\n",
      "https://en.wikipedia.org/w/api.php?action=query&titles=Grand_Council_of_Neuch%C3%A2tel&prop=revisions&rvlimit=500&rvstart=2020-05-05T07%3A59%3A00Z&rvdir=older&format=json&redirects=1\n"
     ]
    },
    {
     "name": "stderr",
     "output_type": "stream",
     "text": [
      "4324it [14:40,  7.86it/s]"
     ]
    },
    {
     "name": "stdout",
     "output_type": "stream",
     "text": [
      "not found\n",
      "https://en.wikipedia.org/w/api.php?action=query&titles=Kiss_or_Kill_(film)&prop=revisions&rvlimit=500&rvstart=2020-05-05T07%3A59%3A00Z&rvdir=older&format=json&redirects=1\n",
      "not found\n",
      "https://en.wikipedia.org/w/api.php?action=query&titles=Kiss_or_Kill_(film)&prop=revisions&rvlimit=500&rvstart=2020-05-05T07%3A59%3A00Z&rvdir=older&format=json&redirects=1\n"
     ]
    },
    {
     "name": "stderr",
     "output_type": "stream",
     "text": [
      "4349it [14:44, 11.57it/s]"
     ]
    },
    {
     "name": "stdout",
     "output_type": "stream",
     "text": [
      "not found\n",
      "https://en.wikipedia.org/w/api.php?action=query&titles=Ben_O'Connor&prop=revisions&rvlimit=500&rvstart=2020-05-05T07%3A59%3A00Z&rvdir=older&format=json&redirects=1\n"
     ]
    },
    {
     "name": "stderr",
     "output_type": "stream",
     "text": [
      "4372it [14:51,  2.26it/s]"
     ]
    },
    {
     "name": "stdout",
     "output_type": "stream",
     "text": [
      "not found\n",
      "https://en.wikipedia.org/w/api.php?action=query&titles=List_of_World_Championships_medalists_in_sailing_(centreboard_classes)&prop=revisions&rvlimit=500&rvstart=2020-05-05T07%3A59%3A00Z&rvdir=older&format=json&redirects=1\n"
     ]
    },
    {
     "name": "stderr",
     "output_type": "stream",
     "text": [
      "4382it [14:52,  6.31it/s]"
     ]
    },
    {
     "name": "stdout",
     "output_type": "stream",
     "text": [
      "No tables found matching pattern '.+'\n",
      "Path :  /home/suyash/final_repo/fetaqa_MM_cleaned/output/tables/65457.html\n"
     ]
    },
    {
     "name": "stderr",
     "output_type": "stream",
     "text": [
      "4464it [15:11,  5.48it/s]"
     ]
    },
    {
     "name": "stdout",
     "output_type": "stream",
     "text": [
      "No tables found matching pattern '.+'\n",
      "Path :  /home/suyash/final_repo/fetaqa_MM_cleaned/output/tables/30997.html\n",
      "No tables found matching pattern '.+'\n",
      "Path :  /home/suyash/final_repo/fetaqa_MM_cleaned/output/tables/31000.html\n"
     ]
    },
    {
     "name": "stderr",
     "output_type": "stream",
     "text": [
      "4473it [15:13,  4.83it/s]"
     ]
    },
    {
     "name": "stdout",
     "output_type": "stream",
     "text": [
      "No tables found matching pattern '.+'\n",
      "Path :  /home/suyash/final_repo/fetaqa_MM_cleaned/output/tables/206213.html\n"
     ]
    },
    {
     "name": "stderr",
     "output_type": "stream",
     "text": [
      "4487it [15:17,  2.88it/s]"
     ]
    },
    {
     "name": "stdout",
     "output_type": "stream",
     "text": [
      "not found\n",
      "https://en.wikipedia.org/w/api.php?action=query&titles=Shabarish_(actor)&prop=revisions&rvlimit=500&rvstart=2020-05-05T07%3A59%3A00Z&rvdir=older&format=json&redirects=1\n"
     ]
    },
    {
     "name": "stderr",
     "output_type": "stream",
     "text": [
      "4502it [15:21,  3.80it/s]"
     ]
    },
    {
     "name": "stdout",
     "output_type": "stream",
     "text": [
      "not found\n",
      "https://en.wikipedia.org/w/api.php?action=query&titles=James_O._Rodgers&prop=revisions&rvlimit=500&rvstart=2020-05-05T07%3A59%3A00Z&rvdir=older&format=json&redirects=1\n",
      "not found\n",
      "https://en.wikipedia.org/w/api.php?action=query&titles=James_O._Rodgers&prop=revisions&rvlimit=500&rvstart=2020-05-05T07%3A59%3A00Z&rvdir=older&format=json&redirects=1\n"
     ]
    },
    {
     "name": "stderr",
     "output_type": "stream",
     "text": [
      "4506it [15:21,  7.02it/s]"
     ]
    },
    {
     "name": "stdout",
     "output_type": "stream",
     "text": [
      "not found\n",
      "https://en.wikipedia.org/w/api.php?action=query&titles=La_Mia_Risposta_World_Tour&prop=revisions&rvlimit=500&rvstart=2020-05-05T07%3A59%3A00Z&rvdir=older&format=json&redirects=1\n"
     ]
    },
    {
     "name": "stderr",
     "output_type": "stream",
     "text": [
      "4602it [15:43,  3.67it/s]"
     ]
    },
    {
     "name": "stdout",
     "output_type": "stream",
     "text": [
      "not found\n",
      "https://en.wikipedia.org/w/api.php?action=query&titles=Tom_Allen&prop=revisions&rvlimit=500&rvstart=2020-05-05T07%3A59%3A00Z&rvdir=older&format=json&redirects=1\n",
      "not found\n",
      "https://en.wikipedia.org/w/api.php?action=query&titles=Tom_Allen&prop=revisions&rvlimit=500&rvstart=2020-05-05T07%3A59%3A00Z&rvdir=older&format=json&redirects=1\n"
     ]
    },
    {
     "name": "stderr",
     "output_type": "stream",
     "text": [
      "4635it [15:50,  3.89it/s]"
     ]
    },
    {
     "name": "stdout",
     "output_type": "stream",
     "text": [
      "No tables found matching pattern '.+'\n",
      "Path :  /home/suyash/final_repo/fetaqa_MM_cleaned/output/tables/212200.html\n",
      "No tables found matching pattern '.+'\n",
      "Path :  /home/suyash/final_repo/fetaqa_MM_cleaned/output/tables/212202.html\n"
     ]
    },
    {
     "name": "stderr",
     "output_type": "stream",
     "text": [
      "4646it [15:52,  7.04it/s]"
     ]
    },
    {
     "name": "stdout",
     "output_type": "stream",
     "text": [
      "not found\n",
      "https://en.wikipedia.org/w/api.php?action=query&titles=Sweet_Smell_of_Success_(musical)&prop=revisions&rvlimit=500&rvstart=2020-05-05T07%3A59%3A00Z&rvdir=older&format=json&redirects=1\n",
      "not found\n",
      "https://en.wikipedia.org/w/api.php?action=query&titles=Sweet_Smell_of_Success_(musical)&prop=revisions&rvlimit=500&rvstart=2020-05-05T07%3A59%3A00Z&rvdir=older&format=json&redirects=1\n"
     ]
    },
    {
     "name": "stderr",
     "output_type": "stream",
     "text": [
      "4742it [16:13,  4.81it/s]"
     ]
    },
    {
     "name": "stdout",
     "output_type": "stream",
     "text": [
      "not found\n",
      "https://en.wikipedia.org/w/api.php?action=query&titles=Chrysalis_(album)&prop=revisions&rvlimit=500&rvstart=2020-05-05T07%3A59%3A00Z&rvdir=older&format=json&redirects=1\n",
      "not found\n",
      "https://en.wikipedia.org/w/api.php?action=query&titles=Chrysalis_(album)&prop=revisions&rvlimit=500&rvstart=2020-05-05T07%3A59%3A00Z&rvdir=older&format=json&redirects=1\n"
     ]
    },
    {
     "name": "stderr",
     "output_type": "stream",
     "text": [
      "4813it [16:30,  5.33it/s]"
     ]
    },
    {
     "name": "stdout",
     "output_type": "stream",
     "text": [
      "not found\n",
      "https://en.wikipedia.org/w/api.php?action=query&titles=Tony_Harper&prop=revisions&rvlimit=500&rvstart=2020-05-05T07%3A59%3A00Z&rvdir=older&format=json&redirects=1\n",
      "not found\n",
      "https://en.wikipedia.org/w/api.php?action=query&titles=Tony_Harper&prop=revisions&rvlimit=500&rvstart=2020-05-05T07%3A59%3A00Z&rvdir=older&format=json&redirects=1\n"
     ]
    },
    {
     "name": "stderr",
     "output_type": "stream",
     "text": [
      "4820it [16:31,  6.14it/s]"
     ]
    },
    {
     "name": "stdout",
     "output_type": "stream",
     "text": [
      "not found\n",
      "https://en.wikipedia.org/w/api.php?action=query&titles=Bill_Anderson_(footballer)&prop=revisions&rvlimit=500&rvstart=2020-05-05T07%3A59%3A00Z&rvdir=older&format=json&redirects=1\n",
      "not found\n",
      "https://en.wikipedia.org/w/api.php?action=query&titles=Bill_Anderson_(footballer)&prop=revisions&rvlimit=500&rvstart=2020-05-05T07%3A59%3A00Z&rvdir=older&format=json&redirects=1\n"
     ]
    },
    {
     "name": "stderr",
     "output_type": "stream",
     "text": [
      "4874it [16:43,  6.17it/s]"
     ]
    },
    {
     "name": "stdout",
     "output_type": "stream",
     "text": [
      "No tables found matching pattern '.+'\n",
      "Path :  /home/suyash/final_repo/fetaqa_MM_cleaned/output/tables/206995.html\n"
     ]
    },
    {
     "name": "stderr",
     "output_type": "stream",
     "text": [
      "4879it [16:43, 10.14it/s]"
     ]
    },
    {
     "name": "stdout",
     "output_type": "stream",
     "text": [
      "No tables found matching pattern '.+'\n",
      "Path :  /home/suyash/final_repo/fetaqa_MM_cleaned/output/tables/15995.html\n"
     ]
    },
    {
     "name": "stderr",
     "output_type": "stream",
     "text": [
      "4918it [16:51,  7.74it/s]"
     ]
    },
    {
     "name": "stdout",
     "output_type": "stream",
     "text": [
      "No tables found matching pattern '.+'\n",
      "Path :  /home/suyash/final_repo/fetaqa_MM_cleaned/output/tables/49651.html\n"
     ]
    },
    {
     "name": "stderr",
     "output_type": "stream",
     "text": [
      "4956it [17:00,  3.88it/s]"
     ]
    },
    {
     "name": "stdout",
     "output_type": "stream",
     "text": [
      "not found\n",
      "https://en.wikipedia.org/w/api.php?action=query&titles=Legacy_of_Sound&prop=revisions&rvlimit=500&rvstart=2020-05-05T07%3A59%3A00Z&rvdir=older&format=json&redirects=1\n"
     ]
    },
    {
     "name": "stderr",
     "output_type": "stream",
     "text": [
      "4969it [17:02,  6.75it/s]"
     ]
    },
    {
     "name": "stdout",
     "output_type": "stream",
     "text": [
      "not found\n",
      "https://en.wikipedia.org/w/api.php?action=query&titles=Jayanna_Combines&prop=revisions&rvlimit=500&rvstart=2020-05-05T07%3A59%3A00Z&rvdir=older&format=json&redirects=1\n",
      "not found\n",
      "https://en.wikipedia.org/w/api.php?action=query&titles=Jayanna_Combines&prop=revisions&rvlimit=500&rvstart=2020-05-05T07%3A59%3A00Z&rvdir=older&format=json&redirects=1\n"
     ]
    },
    {
     "name": "stderr",
     "output_type": "stream",
     "text": [
      "4983it [17:04,  8.62it/s]"
     ]
    },
    {
     "name": "stdout",
     "output_type": "stream",
     "text": [
      "not found\n",
      "https://en.wikipedia.org/w/api.php?action=query&titles=Curtis_Billsten&prop=revisions&rvlimit=500&rvstart=2020-05-05T07%3A59%3A00Z&rvdir=older&format=json&redirects=1\n",
      "not found\n",
      "https://en.wikipedia.org/w/api.php?action=query&titles=Berlin_Pankow&prop=revisions&rvlimit=500&rvstart=2020-05-05T07%3A59%3A00Z&rvdir=older&format=json&redirects=1\n"
     ]
    },
    {
     "name": "stderr",
     "output_type": "stream",
     "text": [
      "4984it [17:04,  7.46it/s]"
     ]
    },
    {
     "name": "stdout",
     "output_type": "stream",
     "text": [
      "No tables found matching pattern '.+'\n",
      "Path :  /home/suyash/final_repo/fetaqa_MM_cleaned/output/tables/2279.html\n"
     ]
    },
    {
     "name": "stderr",
     "output_type": "stream",
     "text": [
      "5002it [17:10,  3.58it/s]"
     ]
    },
    {
     "name": "stdout",
     "output_type": "stream",
     "text": [
      "No tables found matching pattern '.+'\n",
      "Path :  /home/suyash/final_repo/fetaqa_MM_cleaned/output/tables/18319.html\n",
      "No tables found matching pattern '.+'\n",
      "Path :  /home/suyash/final_repo/fetaqa_MM_cleaned/output/tables/18320.html\n"
     ]
    },
    {
     "name": "stderr",
     "output_type": "stream",
     "text": [
      "5095it [17:31,  4.20it/s]"
     ]
    },
    {
     "name": "stdout",
     "output_type": "stream",
     "text": [
      "No tables found matching pattern '.+'\n",
      "Path :  /home/suyash/final_repo/fetaqa_MM_cleaned/output/tables/205410.html\n"
     ]
    },
    {
     "name": "stderr",
     "output_type": "stream",
     "text": [
      "5108it [17:33,  7.96it/s]"
     ]
    },
    {
     "name": "stdout",
     "output_type": "stream",
     "text": [
      "No tables found matching pattern '.+'\n",
      "Path :  /home/suyash/final_repo/fetaqa_MM_cleaned/output/tables/43686.html\n"
     ]
    },
    {
     "name": "stderr",
     "output_type": "stream",
     "text": [
      "5205it [17:57,  4.96it/s]"
     ]
    },
    {
     "name": "stdout",
     "output_type": "stream",
     "text": [
      "not found\n",
      "https://en.wikipedia.org/w/api.php?action=query&titles=Rhythm_Boyz_Entertainment&prop=revisions&rvlimit=500&rvstart=2020-05-05T07%3A59%3A00Z&rvdir=older&format=json&redirects=1\n"
     ]
    },
    {
     "name": "stderr",
     "output_type": "stream",
     "text": [
      "5279it [18:11,  6.01it/s]"
     ]
    },
    {
     "name": "stdout",
     "output_type": "stream",
     "text": [
      "No tables found matching pattern '.+'\n",
      "Path :  /home/suyash/final_repo/fetaqa_MM_cleaned/output/tables/233179.html\n"
     ]
    },
    {
     "name": "stderr",
     "output_type": "stream",
     "text": [
      "5314it [18:19,  5.58it/s]"
     ]
    },
    {
     "name": "stdout",
     "output_type": "stream",
     "text": [
      "No tables found matching pattern '.+'\n",
      "Path :  /home/suyash/final_repo/fetaqa_MM_cleaned/output/tables/65457.html\n"
     ]
    },
    {
     "name": "stderr",
     "output_type": "stream",
     "text": [
      "5326it [18:22,  4.70it/s]"
     ]
    },
    {
     "name": "stdout",
     "output_type": "stream",
     "text": [
      "No tables found matching pattern '.+'\n",
      "Path :  /home/suyash/final_repo/fetaqa_MM_cleaned/output/tables/43029.html\n",
      "No tables found matching pattern '.+'\n",
      "Path :  /home/suyash/final_repo/fetaqa_MM_cleaned/output/tables/43035.html\n"
     ]
    },
    {
     "name": "stderr",
     "output_type": "stream",
     "text": [
      "5355it [18:29,  4.63it/s]"
     ]
    },
    {
     "name": "stdout",
     "output_type": "stream",
     "text": [
      "No tables found matching pattern '.+'\n",
      "Path :  /home/suyash/final_repo/fetaqa_MM_cleaned/output/tables/232084.html\n",
      "No tables found matching pattern '.+'\n",
      "Path :  /home/suyash/final_repo/fetaqa_MM_cleaned/output/tables/232085.html\n",
      "No tables found matching pattern '.+'\n",
      "Path :  /home/suyash/final_repo/fetaqa_MM_cleaned/output/tables/232086.html\n",
      "No tables found matching pattern '.+'\n",
      "Path :  /home/suyash/final_repo/fetaqa_MM_cleaned/output/tables/232087.html\n",
      "No tables found matching pattern '.+'\n",
      "Path :  /home/suyash/final_repo/fetaqa_MM_cleaned/output/tables/232088.html\n",
      "No tables found matching pattern '.+'\n",
      "Path :  /home/suyash/final_repo/fetaqa_MM_cleaned/output/tables/232089.html\n",
      "No tables found matching pattern '.+'\n",
      "Path :  /home/suyash/final_repo/fetaqa_MM_cleaned/output/tables/232090.html\n",
      "No tables found matching pattern '.+'\n",
      "Path :  /home/suyash/final_repo/fetaqa_MM_cleaned/output/tables/232091.html\n",
      "No tables found matching pattern '.+'\n",
      "Path :  /home/suyash/final_repo/fetaqa_MM_cleaned/output/tables/232092.html\n",
      "No tables found matching pattern '.+'\n",
      "Path :  /home/suyash/final_repo/fetaqa_MM_cleaned/output/tables/232093.html\n",
      "No tables found matching pattern '.+'\n",
      "Path :  /home/suyash/final_repo/fetaqa_MM_cleaned/output/tables/232094.html\n",
      "No tables found matching pattern '.+'\n",
      "Path :  /home/suyash/final_repo/fetaqa_MM_cleaned/output/tables/232095.html\n",
      "No tables found matching pattern '.+'\n",
      "Path :  /home/suyash/final_repo/fetaqa_MM_cleaned/output/tables/232096.html\n",
      "No tables found matching pattern '.+'\n",
      "Path :  /home/suyash/final_repo/fetaqa_MM_cleaned/output/tables/232097.html\n",
      "No tables found matching pattern '.+'\n",
      "Path :  /home/suyash/final_repo/fetaqa_MM_cleaned/output/tables/232098.html\n",
      "No tables found matching pattern '.+'\n",
      "Path :  /home/suyash/final_repo/fetaqa_MM_cleaned/output/tables/232099.html\n",
      "No tables found matching pattern '.+'\n",
      "Path :  /home/suyash/final_repo/fetaqa_MM_cleaned/output/tables/232100.html\n",
      "No tables found matching pattern '.+'\n",
      "Path :  /home/suyash/final_repo/fetaqa_MM_cleaned/output/tables/232101.html\n",
      "No tables found matching pattern '.+'\n",
      "Path :  /home/suyash/final_repo/fetaqa_MM_cleaned/output/tables/232102.html\n",
      "No tables found matching pattern '.+'\n",
      "Path :  /home/suyash/final_repo/fetaqa_MM_cleaned/output/tables/232103.html\n",
      "No tables found matching pattern '.+'\n",
      "Path :  /home/suyash/final_repo/fetaqa_MM_cleaned/output/tables/232104.html\n",
      "No tables found matching pattern '.+'\n",
      "Path :  /home/suyash/final_repo/fetaqa_MM_cleaned/output/tables/232105.html\n",
      "No tables found matching pattern '.+'\n",
      "Path :  /home/suyash/final_repo/fetaqa_MM_cleaned/output/tables/232106.html\n",
      "No tables found matching pattern '.+'\n",
      "Path :  /home/suyash/final_repo/fetaqa_MM_cleaned/output/tables/232107.html\n",
      "No tables found matching pattern '.+'\n",
      "Path :  /home/suyash/final_repo/fetaqa_MM_cleaned/output/tables/232108.html\n",
      "No tables found matching pattern '.+'\n",
      "Path :  /home/suyash/final_repo/fetaqa_MM_cleaned/output/tables/232109.html\n",
      "No tables found matching pattern '.+'\n",
      "Path :  /home/suyash/final_repo/fetaqa_MM_cleaned/output/tables/232110.html\n",
      "No tables found matching pattern '.+'\n",
      "Path :  /home/suyash/final_repo/fetaqa_MM_cleaned/output/tables/232111.html\n",
      "No tables found matching pattern '.+'\n",
      "Path :  /home/suyash/final_repo/fetaqa_MM_cleaned/output/tables/232112.html\n",
      "No tables found matching pattern '.+'\n",
      "Path :  /home/suyash/final_repo/fetaqa_MM_cleaned/output/tables/232113.html\n",
      "No tables found matching pattern '.+'\n",
      "Path :  /home/suyash/final_repo/fetaqa_MM_cleaned/output/tables/232114.html\n",
      "No tables found matching pattern '.+'\n",
      "Path :  /home/suyash/final_repo/fetaqa_MM_cleaned/output/tables/232115.html\n",
      "No tables found matching pattern '.+'\n",
      "Path :  /home/suyash/final_repo/fetaqa_MM_cleaned/output/tables/232116.html\n",
      "No tables found matching pattern '.+'\n",
      "Path :  /home/suyash/final_repo/fetaqa_MM_cleaned/output/tables/232117.html\n",
      "No tables found matching pattern '.+'\n",
      "Path :  /home/suyash/final_repo/fetaqa_MM_cleaned/output/tables/232118.html\n",
      "No tables found matching pattern '.+'\n",
      "Path :  /home/suyash/final_repo/fetaqa_MM_cleaned/output/tables/232119.html\n",
      "No tables found matching pattern '.+'\n",
      "Path :  /home/suyash/final_repo/fetaqa_MM_cleaned/output/tables/232120.html\n",
      "No tables found matching pattern '.+'\n",
      "Path :  /home/suyash/final_repo/fetaqa_MM_cleaned/output/tables/232121.html\n",
      "No tables found matching pattern '.+'\n",
      "Path :  /home/suyash/final_repo/fetaqa_MM_cleaned/output/tables/232122.html\n",
      "No tables found matching pattern '.+'\n",
      "Path :  /home/suyash/final_repo/fetaqa_MM_cleaned/output/tables/232123.html\n",
      "No tables found matching pattern '.+'\n",
      "Path :  /home/suyash/final_repo/fetaqa_MM_cleaned/output/tables/232124.html\n",
      "No tables found matching pattern '.+'\n",
      "Path :  /home/suyash/final_repo/fetaqa_MM_cleaned/output/tables/232125.html\n",
      "No tables found matching pattern '.+'\n",
      "Path :  /home/suyash/final_repo/fetaqa_MM_cleaned/output/tables/232126.html\n",
      "No tables found matching pattern '.+'\n",
      "Path :  /home/suyash/final_repo/fetaqa_MM_cleaned/output/tables/232127.html\n",
      "No tables found matching pattern '.+'\n",
      "Path :  /home/suyash/final_repo/fetaqa_MM_cleaned/output/tables/232128.html\n",
      "No tables found matching pattern '.+'\n",
      "Path :  /home/suyash/final_repo/fetaqa_MM_cleaned/output/tables/232129.html\n",
      "No tables found matching pattern '.+'\n",
      "Path :  /home/suyash/final_repo/fetaqa_MM_cleaned/output/tables/232130.html\n",
      "No tables found matching pattern '.+'\n",
      "Path :  /home/suyash/final_repo/fetaqa_MM_cleaned/output/tables/232131.html\n",
      "not found\n",
      "https://en.wikipedia.org/w/api.php?action=query&titles=Thomas_Fire&prop=revisions&rvlimit=500&rvstart=2020-05-05T07%3A59%3A00Z&rvdir=older&format=json&redirects=1\n"
     ]
    },
    {
     "name": "stderr",
     "output_type": "stream",
     "text": [
      "5387it [18:34,  6.02it/s]"
     ]
    },
    {
     "name": "stdout",
     "output_type": "stream",
     "text": [
      "No tables found matching pattern '.+'\n",
      "Path :  /home/suyash/final_repo/fetaqa_MM_cleaned/output/tables/24660.html\n",
      "No tables found matching pattern '.+'\n",
      "Path :  /home/suyash/final_repo/fetaqa_MM_cleaned/output/tables/24661.html\n"
     ]
    },
    {
     "name": "stderr",
     "output_type": "stream",
     "text": [
      "5398it [18:36,  5.61it/s]"
     ]
    },
    {
     "name": "stdout",
     "output_type": "stream",
     "text": [
      "list index out of range\n",
      "Path :  /home/suyash/final_repo/fetaqa_MM_cleaned/output/tables/54814.html\n"
     ]
    },
    {
     "name": "stderr",
     "output_type": "stream",
     "text": [
      "5411it [18:40,  5.23it/s]"
     ]
    },
    {
     "name": "stdout",
     "output_type": "stream",
     "text": [
      "not found\n",
      "https://en.wikipedia.org/w/api.php?action=query&titles=Gilmour_Racing&prop=revisions&rvlimit=500&rvstart=2020-05-05T07%3A59%3A00Z&rvdir=older&format=json&redirects=1\n"
     ]
    },
    {
     "name": "stderr",
     "output_type": "stream",
     "text": [
      "5455it [18:53,  3.90it/s]"
     ]
    },
    {
     "name": "stdout",
     "output_type": "stream",
     "text": [
      "No tables found matching pattern '.+'\n",
      "Path :  /home/suyash/final_repo/fetaqa_MM_cleaned/output/tables/51916.html\n"
     ]
    },
    {
     "name": "stderr",
     "output_type": "stream",
     "text": [
      "5534it [19:10,  7.53it/s]"
     ]
    },
    {
     "name": "stdout",
     "output_type": "stream",
     "text": [
      "No tables found matching pattern '.+'\n",
      "Path :  /home/suyash/final_repo/fetaqa_MM_cleaned/output/tables/224518.html\n"
     ]
    },
    {
     "name": "stderr",
     "output_type": "stream",
     "text": [
      "5547it [19:12,  5.60it/s]"
     ]
    },
    {
     "name": "stdout",
     "output_type": "stream",
     "text": [
      "No tables found matching pattern '.+'\n",
      "Path :  /home/suyash/final_repo/fetaqa_MM_cleaned/output/tables/207511.html\n"
     ]
    },
    {
     "name": "stderr",
     "output_type": "stream",
     "text": [
      "5552it [19:13,  6.42it/s]"
     ]
    },
    {
     "name": "stdout",
     "output_type": "stream",
     "text": [
      "not found\n",
      "https://en.wikipedia.org/w/api.php?action=query&titles=Air_Force_of_Burkina_Faso&prop=revisions&rvlimit=500&rvstart=2020-05-05T07%3A59%3A00Z&rvdir=older&format=json&redirects=1\n"
     ]
    },
    {
     "name": "stderr",
     "output_type": "stream",
     "text": [
      "5556it [19:14,  7.38it/s]"
     ]
    },
    {
     "name": "stdout",
     "output_type": "stream",
     "text": [
      "No tables found matching pattern '.+'\n",
      "Path :  /home/suyash/final_repo/fetaqa_MM_cleaned/output/tables/7387.html\n"
     ]
    },
    {
     "name": "stderr",
     "output_type": "stream",
     "text": [
      "5582it [19:22,  5.85it/s]"
     ]
    },
    {
     "name": "stdout",
     "output_type": "stream",
     "text": [
      "not found\n",
      "https://en.wikipedia.org/w/api.php?action=query&titles=City_of_Film&prop=revisions&rvlimit=500&rvstart=2020-05-05T07%3A59%3A00Z&rvdir=older&format=json&redirects=1\n",
      "not found\n",
      "https://en.wikipedia.org/w/api.php?action=query&titles=City_of_Film&prop=revisions&rvlimit=500&rvstart=2020-05-05T07%3A59%3A00Z&rvdir=older&format=json&redirects=1\n"
     ]
    },
    {
     "name": "stderr",
     "output_type": "stream",
     "text": [
      "5645it [19:32,  7.86it/s]"
     ]
    },
    {
     "name": "stdout",
     "output_type": "stream",
     "text": [
      "not found\n",
      "https://en.wikipedia.org/w/api.php?action=query&titles=Nedim_Jahi%C4%87&prop=revisions&rvlimit=500&rvstart=2020-05-05T07%3A59%3A00Z&rvdir=older&format=json&redirects=1\n"
     ]
    },
    {
     "name": "stderr",
     "output_type": "stream",
     "text": [
      "5678it [19:38,  2.36it/s]"
     ]
    },
    {
     "name": "stdout",
     "output_type": "stream",
     "text": [
      "No tables found matching pattern '.+'\n",
      "Path :  /home/suyash/final_repo/fetaqa_MM_cleaned/output/tables/10856.html\n"
     ]
    },
    {
     "name": "stderr",
     "output_type": "stream",
     "text": [
      "5711it [19:45,  4.70it/s]"
     ]
    },
    {
     "name": "stdout",
     "output_type": "stream",
     "text": [
      "No tables found matching pattern '.+'\n",
      "Path :  /home/suyash/final_repo/fetaqa_MM_cleaned/output/tables/53834.html\n",
      "No tables found matching pattern '.+'\n",
      "Path :  /home/suyash/final_repo/fetaqa_MM_cleaned/output/tables/53835.html\n"
     ]
    },
    {
     "name": "stderr",
     "output_type": "stream",
     "text": [
      "5722it [19:48,  3.83it/s]"
     ]
    },
    {
     "name": "stdout",
     "output_type": "stream",
     "text": [
      "not found\n",
      "https://en.wikipedia.org/w/api.php?action=query&titles=Jack_Eccles&prop=revisions&rvlimit=500&rvstart=2020-05-05T07%3A59%3A00Z&rvdir=older&format=json&redirects=1\n",
      "not found\n",
      "https://en.wikipedia.org/w/api.php?action=query&titles=Jack_Eccles&prop=revisions&rvlimit=500&rvstart=2020-05-05T07%3A59%3A00Z&rvdir=older&format=json&redirects=1\n"
     ]
    },
    {
     "name": "stderr",
     "output_type": "stream",
     "text": [
      "5750it [19:54,  5.93it/s]"
     ]
    },
    {
     "name": "stdout",
     "output_type": "stream",
     "text": [
      "not found\n",
      "https://en.wikipedia.org/w/api.php?action=query&titles=Eduardo_L._Joson_National_High_School&prop=revisions&rvlimit=500&rvstart=2020-05-05T07%3A59%3A00Z&rvdir=older&format=json&redirects=1\n"
     ]
    },
    {
     "name": "stderr",
     "output_type": "stream",
     "text": [
      "5786it [20:05,  1.66it/s]"
     ]
    },
    {
     "name": "stdout",
     "output_type": "stream",
     "text": [
      "No tables found matching pattern '.+'\n",
      "Path :  /home/suyash/final_repo/fetaqa_MM_cleaned/output/tables/52044.html\n"
     ]
    },
    {
     "name": "stderr",
     "output_type": "stream",
     "text": [
      "5862it [20:20,  8.25it/s]"
     ]
    },
    {
     "name": "stdout",
     "output_type": "stream",
     "text": [
      "not found\n",
      "https://en.wikipedia.org/w/api.php?action=query&titles=Kiss_or_Kill_(film)&prop=revisions&rvlimit=500&rvstart=2020-05-05T07%3A59%3A00Z&rvdir=older&format=json&redirects=1\n",
      "not found\n",
      "https://en.wikipedia.org/w/api.php?action=query&titles=Kiss_or_Kill_(film)&prop=revisions&rvlimit=500&rvstart=2020-05-05T07%3A59%3A00Z&rvdir=older&format=json&redirects=1\n"
     ]
    },
    {
     "name": "stderr",
     "output_type": "stream",
     "text": [
      "5940it [20:34,  6.55it/s]"
     ]
    },
    {
     "name": "stdout",
     "output_type": "stream",
     "text": [
      "not found\n",
      "https://en.wikipedia.org/w/api.php?action=query&titles=Behzad_Leito&prop=revisions&rvlimit=500&rvstart=2020-05-05T07%3A59%3A00Z&rvdir=older&format=json&redirects=1\n"
     ]
    },
    {
     "name": "stderr",
     "output_type": "stream",
     "text": [
      "6013it [20:50,  5.18it/s]"
     ]
    },
    {
     "name": "stdout",
     "output_type": "stream",
     "text": [
      "list index out of range\n",
      "Path :  /home/suyash/final_repo/fetaqa_MM_cleaned/output/tables/31813.html\n",
      "list index out of range\n",
      "Path :  /home/suyash/final_repo/fetaqa_MM_cleaned/output/tables/31815.html\n"
     ]
    },
    {
     "name": "stderr",
     "output_type": "stream",
     "text": [
      "6028it [20:52, 10.02it/s]"
     ]
    },
    {
     "name": "stdout",
     "output_type": "stream",
     "text": [
      "not found\n",
      "https://en.wikipedia.org/w/api.php?action=query&titles=Geoff_Smith_(footballer)&prop=revisions&rvlimit=500&rvstart=2020-05-05T07%3A59%3A00Z&rvdir=older&format=json&redirects=1\n",
      "not found\n",
      "https://en.wikipedia.org/w/api.php?action=query&titles=Geoff_Smith_(footballer)&prop=revisions&rvlimit=500&rvstart=2020-05-05T07%3A59%3A00Z&rvdir=older&format=json&redirects=1\n"
     ]
    },
    {
     "name": "stderr",
     "output_type": "stream",
     "text": [
      "6030it [20:52,  9.26it/s]"
     ]
    },
    {
     "name": "stdout",
     "output_type": "stream",
     "text": [
      "No tables found matching pattern '.+'\n",
      "Path :  /home/suyash/final_repo/fetaqa_MM_cleaned/output/tables/54719.html\n",
      "No tables found matching pattern '.+'\n",
      "Path :  /home/suyash/final_repo/fetaqa_MM_cleaned/output/tables/54720.html\n"
     ]
    },
    {
     "name": "stderr",
     "output_type": "stream",
     "text": [
      "6073it [21:02,  5.45it/s]"
     ]
    },
    {
     "name": "stdout",
     "output_type": "stream",
     "text": [
      "not found\n",
      "https://en.wikipedia.org/w/api.php?action=query&titles=Adam_Avil&prop=revisions&rvlimit=500&rvstart=2020-05-05T07%3A59%3A00Z&rvdir=older&format=json&redirects=1\n"
     ]
    },
    {
     "name": "stderr",
     "output_type": "stream",
     "text": [
      "6094it [21:06,  6.12it/s]"
     ]
    },
    {
     "name": "stdout",
     "output_type": "stream",
     "text": [
      "not found\n",
      "https://en.wikipedia.org/w/api.php?action=query&titles=Billy_Elliott_(footballer)&prop=revisions&rvlimit=500&rvstart=2020-05-05T07%3A59%3A00Z&rvdir=older&format=json&redirects=1\n",
      "not found\n",
      "https://en.wikipedia.org/w/api.php?action=query&titles=Billy_Elliott_(footballer)&prop=revisions&rvlimit=500&rvstart=2020-05-05T07%3A59%3A00Z&rvdir=older&format=json&redirects=1\n"
     ]
    },
    {
     "name": "stderr",
     "output_type": "stream",
     "text": [
      "6125it [21:14,  4.39it/s]"
     ]
    },
    {
     "name": "stdout",
     "output_type": "stream",
     "text": [
      "No tables found matching pattern '.+'\n",
      "Path :  /home/suyash/final_repo/fetaqa_MM_cleaned/output/tables/5044.html\n"
     ]
    },
    {
     "name": "stderr",
     "output_type": "stream",
     "text": [
      "6136it [21:16,  7.51it/s]"
     ]
    },
    {
     "name": "stdout",
     "output_type": "stream",
     "text": [
      "not found\n",
      "https://en.wikipedia.org/w/api.php?action=query&titles=List_of_NASCAR_drivers_who_have_won_in_each_of_top_three_series&prop=revisions&rvlimit=500&rvstart=2020-05-05T07%3A59%3A00Z&rvdir=older&format=json&redirects=1\n"
     ]
    },
    {
     "name": "stderr",
     "output_type": "stream",
     "text": [
      "6160it [21:21,  6.92it/s]"
     ]
    },
    {
     "name": "stdout",
     "output_type": "stream",
     "text": [
      "No tables found matching pattern '.+'\n",
      "Path :  /home/suyash/final_repo/fetaqa_MM_cleaned/output/tables/20703.html\n"
     ]
    },
    {
     "name": "stderr",
     "output_type": "stream",
     "text": [
      "6197it [21:26, 10.26it/s]"
     ]
    },
    {
     "name": "stdout",
     "output_type": "stream",
     "text": [
      "No tables found matching pattern '.+'\n",
      "Path :  /home/suyash/final_repo/fetaqa_MM_cleaned/output/tables/640.html\n",
      "No tables found matching pattern '.+'\n",
      "Path :  /home/suyash/final_repo/fetaqa_MM_cleaned/output/tables/641.html\n",
      "No tables found matching pattern '.+'\n",
      "Path :  /home/suyash/final_repo/fetaqa_MM_cleaned/output/tables/642.html\n",
      "No tables found matching pattern '.+'\n",
      "Path :  /home/suyash/final_repo/fetaqa_MM_cleaned/output/tables/643.html\n"
     ]
    },
    {
     "name": "stderr",
     "output_type": "stream",
     "text": [
      "6299it [21:47,  9.13it/s]"
     ]
    },
    {
     "name": "stdout",
     "output_type": "stream",
     "text": [
      "not found\n",
      "https://en.wikipedia.org/w/api.php?action=query&titles=Liang_Yu&prop=revisions&rvlimit=500&rvstart=2020-05-05T07%3A59%3A00Z&rvdir=older&format=json&redirects=1\n"
     ]
    },
    {
     "name": "stderr",
     "output_type": "stream",
     "text": [
      "6364it [21:59,  7.14it/s]"
     ]
    },
    {
     "name": "stdout",
     "output_type": "stream",
     "text": [
      "not found\n",
      "https://en.wikipedia.org/w/api.php?action=query&titles=Telkoi&prop=revisions&rvlimit=500&rvstart=2020-05-05T07%3A59%3A00Z&rvdir=older&format=json&redirects=1\n"
     ]
    },
    {
     "name": "stderr",
     "output_type": "stream",
     "text": [
      "6400it [22:05,  6.57it/s]"
     ]
    },
    {
     "name": "stdout",
     "output_type": "stream",
     "text": [
      "No tables found matching pattern '.+'\n",
      "Path :  /home/suyash/final_repo/fetaqa_MM_cleaned/output/tables/233936.html\n",
      "No tables found matching pattern '.+'\n",
      "Path :  /home/suyash/final_repo/fetaqa_MM_cleaned/output/tables/233937.html\n",
      "No tables found matching pattern '.+'\n",
      "Path :  /home/suyash/final_repo/fetaqa_MM_cleaned/output/tables/233938.html\n",
      "No tables found matching pattern '.+'\n",
      "Path :  /home/suyash/final_repo/fetaqa_MM_cleaned/output/tables/233939.html\n",
      "No tables found matching pattern '.+'\n",
      "Path :  /home/suyash/final_repo/fetaqa_MM_cleaned/output/tables/233940.html\n",
      "No tables found matching pattern '.+'\n",
      "Path :  /home/suyash/final_repo/fetaqa_MM_cleaned/output/tables/233941.html\n"
     ]
    },
    {
     "name": "stderr",
     "output_type": "stream",
     "text": [
      "6439it [22:11, 11.15it/s]"
     ]
    },
    {
     "name": "stdout",
     "output_type": "stream",
     "text": [
      "No tables found matching pattern '.+'\n",
      "Path :  /home/suyash/final_repo/fetaqa_MM_cleaned/output/tables/70478.html\n"
     ]
    },
    {
     "name": "stderr",
     "output_type": "stream",
     "text": [
      "6446it [22:14,  4.32it/s]"
     ]
    },
    {
     "name": "stdout",
     "output_type": "stream",
     "text": [
      "No tables found matching pattern '.+'\n",
      "Path :  /home/suyash/final_repo/fetaqa_MM_cleaned/output/tables/206527.html\n",
      "No tables found matching pattern '.+'\n",
      "Path :  /home/suyash/final_repo/fetaqa_MM_cleaned/output/tables/206528.html\n"
     ]
    },
    {
     "name": "stderr",
     "output_type": "stream",
     "text": [
      "6536it [22:36,  3.68it/s]"
     ]
    },
    {
     "name": "stdout",
     "output_type": "stream",
     "text": [
      "No tables found matching pattern '.+'\n",
      "Path :  /home/suyash/final_repo/fetaqa_MM_cleaned/output/tables/15995.html\n"
     ]
    },
    {
     "name": "stderr",
     "output_type": "stream",
     "text": [
      "6552it [22:42,  8.22it/s]"
     ]
    },
    {
     "name": "stdout",
     "output_type": "stream",
     "text": [
      "No tables found matching pattern '.+'\n",
      "Path :  /home/suyash/final_repo/fetaqa_MM_cleaned/output/tables/220281.html\n"
     ]
    },
    {
     "name": "stderr",
     "output_type": "stream",
     "text": [
      "6575it [22:47,  5.96it/s]"
     ]
    },
    {
     "name": "stdout",
     "output_type": "stream",
     "text": [
      "No tables found matching pattern '.+'\n",
      "Path :  /home/suyash/final_repo/fetaqa_MM_cleaned/output/tables/55161.html\n",
      "No tables found matching pattern '.+'\n",
      "Path :  /home/suyash/final_repo/fetaqa_MM_cleaned/output/tables/55162.html\n"
     ]
    },
    {
     "name": "stderr",
     "output_type": "stream",
     "text": [
      "6652it [23:00,  3.46it/s]"
     ]
    },
    {
     "name": "stdout",
     "output_type": "stream",
     "text": [
      "No tables found matching pattern '.+'\n",
      "Path :  /home/suyash/final_repo/fetaqa_MM_cleaned/output/tables/2279.html\n"
     ]
    },
    {
     "name": "stderr",
     "output_type": "stream",
     "text": [
      "6659it [23:01,  7.35it/s]"
     ]
    },
    {
     "name": "stdout",
     "output_type": "stream",
     "text": [
      "No tables found matching pattern '.+'\n",
      "Path :  /home/suyash/final_repo/fetaqa_MM_cleaned/output/tables/61178.html\n"
     ]
    },
    {
     "name": "stderr",
     "output_type": "stream",
     "text": [
      "6867it [23:54,  9.10it/s]"
     ]
    },
    {
     "name": "stdout",
     "output_type": "stream",
     "text": [
      "not found\n",
      "https://en.wikipedia.org/w/api.php?action=query&titles=Maharashtra_Sampark_Kranti_Express&prop=revisions&rvlimit=500&rvstart=2020-05-05T07%3A59%3A00Z&rvdir=older&format=json&redirects=1\n"
     ]
    },
    {
     "name": "stderr",
     "output_type": "stream",
     "text": [
      "6933it [24:09,  2.45it/s]"
     ]
    },
    {
     "name": "stdout",
     "output_type": "stream",
     "text": [
      "not found\n",
      "https://en.wikipedia.org/w/api.php?action=query&titles=Faith_(TV_series)&prop=revisions&rvlimit=500&rvstart=2020-05-05T07%3A59%3A00Z&rvdir=older&format=json&redirects=1\n",
      "not found\n",
      "https://en.wikipedia.org/w/api.php?action=query&titles=Faith_(TV_series)&prop=revisions&rvlimit=500&rvstart=2020-05-05T07%3A59%3A00Z&rvdir=older&format=json&redirects=1\n"
     ]
    },
    {
     "name": "stderr",
     "output_type": "stream",
     "text": [
      "7049it [24:32,  5.92it/s]"
     ]
    },
    {
     "name": "stdout",
     "output_type": "stream",
     "text": [
      "not found\n",
      "https://en.wikipedia.org/w/api.php?action=query&titles=Celia_Kaye&prop=revisions&rvlimit=500&rvstart=2020-05-05T07%3A59%3A00Z&rvdir=older&format=json&redirects=1\n"
     ]
    },
    {
     "name": "stderr",
     "output_type": "stream",
     "text": [
      "7112it [24:46,  3.91it/s]"
     ]
    },
    {
     "name": "stdout",
     "output_type": "stream",
     "text": [
      "not found\n",
      "https://en.wikipedia.org/w/api.php?action=query&titles=Valin_Shinyei&prop=revisions&rvlimit=500&rvstart=2020-05-05T07%3A59%3A00Z&rvdir=older&format=json&redirects=1\n"
     ]
    },
    {
     "name": "stderr",
     "output_type": "stream",
     "text": [
      "7145it [24:55,  4.16it/s]"
     ]
    },
    {
     "name": "stdout",
     "output_type": "stream",
     "text": [
      "list index out of range\n",
      "Path :  /home/suyash/final_repo/fetaqa_MM_cleaned/output/tables/21227.html\n"
     ]
    },
    {
     "name": "stderr",
     "output_type": "stream",
     "text": [
      "7196it [25:05,  7.07it/s]"
     ]
    },
    {
     "name": "stdout",
     "output_type": "stream",
     "text": [
      "not found\n",
      "https://en.wikipedia.org/w/api.php?action=query&titles=Athena_(singer)&prop=revisions&rvlimit=500&rvstart=2020-05-05T07%3A59%3A00Z&rvdir=older&format=json&redirects=1\n",
      "not found\n",
      "https://en.wikipedia.org/w/api.php?action=query&titles=Athena_(singer)&prop=revisions&rvlimit=500&rvstart=2020-05-05T07%3A59%3A00Z&rvdir=older&format=json&redirects=1\n"
     ]
    },
    {
     "name": "stderr",
     "output_type": "stream",
     "text": [
      "7230it [25:18,  3.48it/s]"
     ]
    },
    {
     "name": "stdout",
     "output_type": "stream",
     "text": [
      "not found\n",
      "https://en.wikipedia.org/w/api.php?action=query&titles=Van_Zant&prop=revisions&rvlimit=500&rvstart=2020-05-05T07%3A59%3A00Z&rvdir=older&format=json&redirects=1\n",
      "not found\n",
      "https://en.wikipedia.org/w/api.php?action=query&titles=Van_Zant&prop=revisions&rvlimit=500&rvstart=2020-05-05T07%3A59%3A00Z&rvdir=older&format=json&redirects=1\n"
     ]
    },
    {
     "name": "stderr",
     "output_type": "stream",
     "text": [
      "7246it [25:20,  6.02it/s]"
     ]
    },
    {
     "name": "stdout",
     "output_type": "stream",
     "text": [
      "No tables found matching pattern '.+'\n",
      "Path :  /home/suyash/final_repo/fetaqa_MM_cleaned/output/tables/11604.html\n",
      "No tables found matching pattern '.+'\n",
      "Path :  /home/suyash/final_repo/fetaqa_MM_cleaned/output/tables/11607.html\n"
     ]
    },
    {
     "name": "stderr",
     "output_type": "stream",
     "text": [
      "7313it [25:33,  7.10it/s]"
     ]
    },
    {
     "name": "stdout",
     "output_type": "stream",
     "text": [
      "No tables found matching pattern '.+'\n",
      "Path :  /home/suyash/final_repo/fetaqa_MM_cleaned/output/tables/51916.html\n"
     ]
    },
    {
     "name": "stderr",
     "output_type": "stream",
     "text": [
      "7330it [25:36,  4.74it/s]"
     ]
    },
    {
     "name": "stdout",
     "output_type": "stream",
     "text": [
      "not found\n",
      "https://en.wikipedia.org/w/api.php?action=query&titles=Darren_Hughes_(footballer)&prop=revisions&rvlimit=500&rvstart=2020-05-05T07%3A59%3A00Z&rvdir=older&format=json&redirects=1\n",
      "not found\n",
      "https://en.wikipedia.org/w/api.php?action=query&titles=Darren_Hughes_(footballer)&prop=revisions&rvlimit=500&rvstart=2020-05-05T07%3A59%3A00Z&rvdir=older&format=json&redirects=1\n"
     ]
    },
    {
     "name": "stderr",
     "output_type": "stream",
     "text": [
      "7335it [25:37,  5.52it/s]"
     ]
    },
    {
     "name": "stdout",
     "output_type": "stream",
     "text": [
      "not found\n",
      "https://en.wikipedia.org/w/api.php?action=query&titles=2018_Speed_Chess_Championship&prop=revisions&rvlimit=500&rvstart=2020-05-05T07%3A59%3A00Z&rvdir=older&format=json&redirects=1\n"
     ]
    },
    {
     "name": "stderr",
     "output_type": "stream",
     "text": [
      "7359it [25:41,  5.66it/s]"
     ]
    },
    {
     "name": "stdout",
     "output_type": "stream",
     "text": [
      "not found\n",
      "https://en.wikipedia.org/w/api.php?action=query&titles=2017_Rutland_mayoral_election&prop=revisions&rvlimit=500&rvstart=2020-05-05T07%3A59%3A00Z&rvdir=older&format=json&redirects=1\n"
     ]
    },
    {
     "name": "stderr",
     "output_type": "stream",
     "text": [
      "7454it [26:03,  5.36it/s]"
     ]
    },
    {
     "name": "stdout",
     "output_type": "stream",
     "text": [
      "not found\n",
      "https://en.wikipedia.org/w/api.php?action=query&titles=Behzad_Leito&prop=revisions&rvlimit=500&rvstart=2020-05-05T07%3A59%3A00Z&rvdir=older&format=json&redirects=1\n"
     ]
    },
    {
     "name": "stderr",
     "output_type": "stream",
     "text": [
      "7492it [26:11,  8.37it/s]"
     ]
    },
    {
     "name": "stdout",
     "output_type": "stream",
     "text": [
      "not found\n",
      "https://en.wikipedia.org/w/api.php?action=query&titles=Sunday_Emmanuel&prop=revisions&rvlimit=500&rvstart=2020-05-05T07%3A59%3A00Z&rvdir=older&format=json&redirects=1\n"
     ]
    },
    {
     "name": "stderr",
     "output_type": "stream",
     "text": [
      "7524it [26:19,  6.84it/s]"
     ]
    },
    {
     "name": "stdout",
     "output_type": "stream",
     "text": [
      "not found\n",
      "https://en.wikipedia.org/w/api.php?action=query&titles=Adriana_Mu%C3%B1oz&prop=revisions&rvlimit=500&rvstart=2020-05-05T07%3A59%3A00Z&rvdir=older&format=json&redirects=1\n"
     ]
    },
    {
     "name": "stderr",
     "output_type": "stream",
     "text": [
      "7563it [26:30,  5.14it/s]"
     ]
    },
    {
     "name": "stdout",
     "output_type": "stream",
     "text": [
      "not found\n",
      "https://en.wikipedia.org/w/api.php?action=query&titles=2010%E2%80%9311_Gateshead_F.C._season&prop=revisions&rvlimit=500&rvstart=2020-05-05T07%3A59%3A00Z&rvdir=older&format=json&redirects=1\n"
     ]
    },
    {
     "name": "stderr",
     "output_type": "stream",
     "text": [
      "7608it [26:37,  8.10it/s]"
     ]
    },
    {
     "name": "stdout",
     "output_type": "stream",
     "text": [
      "not found\n",
      "https://en.wikipedia.org/w/api.php?action=query&titles=Scott_Williams_(American_football)&prop=revisions&rvlimit=500&rvstart=2020-05-05T07%3A59%3A00Z&rvdir=older&format=json&redirects=1\n",
      "not found\n",
      "https://en.wikipedia.org/w/api.php?action=query&titles=Scott_Williams_(American_football)&prop=revisions&rvlimit=500&rvstart=2020-05-05T07%3A59%3A00Z&rvdir=older&format=json&redirects=1\n"
     ]
    },
    {
     "name": "stderr",
     "output_type": "stream",
     "text": [
      "7711it [27:05,  6.16it/s]"
     ]
    },
    {
     "name": "stdout",
     "output_type": "stream",
     "text": [
      "No tables found matching pattern '.+'\n",
      "Path :  /home/suyash/final_repo/fetaqa_MM_cleaned/output/tables/226150.html\n",
      "No tables found matching pattern '.+'\n",
      "Path :  /home/suyash/final_repo/fetaqa_MM_cleaned/output/tables/226159.html\n"
     ]
    },
    {
     "name": "stderr",
     "output_type": "stream",
     "text": [
      "7712it [27:06,  2.77it/s]"
     ]
    },
    {
     "name": "stdout",
     "output_type": "stream",
     "text": [
      "No tables found matching pattern '.+'\n",
      "Path :  /home/suyash/final_repo/fetaqa_MM_cleaned/output/tables/226165.html\n"
     ]
    },
    {
     "name": "stderr",
     "output_type": "stream",
     "text": [
      "7857it [27:36,  5.84it/s]"
     ]
    },
    {
     "name": "stdout",
     "output_type": "stream",
     "text": [
      "No tables found matching pattern '.+'\n",
      "Path :  /home/suyash/final_repo/fetaqa_MM_cleaned/output/tables/53117.html\n"
     ]
    },
    {
     "name": "stderr",
     "output_type": "stream",
     "text": [
      "7884it [27:41, 12.20it/s]"
     ]
    },
    {
     "name": "stdout",
     "output_type": "stream",
     "text": [
      "not found\n",
      "https://en.wikipedia.org/w/api.php?action=query&titles=Rohan_Mehra&prop=revisions&rvlimit=500&rvstart=2020-05-05T07%3A59%3A00Z&rvdir=older&format=json&redirects=1\n"
     ]
    },
    {
     "name": "stderr",
     "output_type": "stream",
     "text": [
      "8021it [28:11,  2.49it/s]"
     ]
    },
    {
     "name": "stdout",
     "output_type": "stream",
     "text": [
      "No tables found matching pattern '.+'\n",
      "Path :  /home/suyash/final_repo/fetaqa_MM_cleaned/output/tables/219447.html\n",
      "No tables found matching pattern '.+'\n",
      "Path :  /home/suyash/final_repo/fetaqa_MM_cleaned/output/tables/219449.html\n"
     ]
    },
    {
     "name": "stderr",
     "output_type": "stream",
     "text": [
      "8036it [28:20,  2.77it/s]"
     ]
    },
    {
     "name": "stdout",
     "output_type": "stream",
     "text": [
      "No tables found matching pattern '.+'\n",
      "Path :  /home/suyash/final_repo/fetaqa_MM_cleaned/output/tables/231773.html\n"
     ]
    },
    {
     "name": "stderr",
     "output_type": "stream",
     "text": [
      "8064it [28:25,  7.76it/s]"
     ]
    },
    {
     "name": "stdout",
     "output_type": "stream",
     "text": [
      "not found\n",
      "https://en.wikipedia.org/w/api.php?action=query&titles=Tharros_I_Alitheia&prop=revisions&rvlimit=500&rvstart=2020-05-05T07%3A59%3A00Z&rvdir=older&format=json&redirects=1\n"
     ]
    },
    {
     "name": "stderr",
     "output_type": "stream",
     "text": [
      "8111it [28:33,  7.89it/s]"
     ]
    },
    {
     "name": "stdout",
     "output_type": "stream",
     "text": [
      "No tables found matching pattern '.+'\n",
      "Path :  /home/suyash/final_repo/fetaqa_MM_cleaned/output/tables/46624.html\n"
     ]
    },
    {
     "name": "stderr",
     "output_type": "stream",
     "text": [
      "8115it [28:33,  7.15it/s]"
     ]
    },
    {
     "name": "stdout",
     "output_type": "stream",
     "text": [
      "not found\n",
      "https://en.wikipedia.org/w/api.php?action=query&titles=Vitas_Varnas&prop=revisions&rvlimit=500&rvstart=2020-05-05T07%3A59%3A00Z&rvdir=older&format=json&redirects=1\n"
     ]
    },
    {
     "name": "stderr",
     "output_type": "stream",
     "text": [
      "8197it [28:51,  2.44it/s]"
     ]
    },
    {
     "name": "stdout",
     "output_type": "stream",
     "text": [
      "No tables found matching pattern '.+'\n",
      "Path :  /home/suyash/final_repo/fetaqa_MM_cleaned/output/tables/18757.html\n"
     ]
    },
    {
     "name": "stderr",
     "output_type": "stream",
     "text": [
      "8265it [29:03,  5.45it/s]"
     ]
    },
    {
     "name": "stdout",
     "output_type": "stream",
     "text": [
      "No tables found matching pattern '.+'\n",
      "Path :  /home/suyash/final_repo/fetaqa_MM_cleaned/output/tables/64047.html\n"
     ]
    },
    {
     "name": "stderr",
     "output_type": "stream",
     "text": [
      "8280it [29:05, 10.17it/s]"
     ]
    },
    {
     "name": "stdout",
     "output_type": "stream",
     "text": [
      "not found\n",
      "https://en.wikipedia.org/w/api.php?action=query&titles=Kevin_Johnson&prop=revisions&rvlimit=500&rvstart=2020-05-05T07%3A59%3A00Z&rvdir=older&format=json&redirects=1\n",
      "not found\n",
      "https://en.wikipedia.org/w/api.php?action=query&titles=Kevin_Johnson&prop=revisions&rvlimit=500&rvstart=2020-05-05T07%3A59%3A00Z&rvdir=older&format=json&redirects=1\n"
     ]
    },
    {
     "name": "stderr",
     "output_type": "stream",
     "text": [
      "8329it [29:15,  7.03it/s]"
     ]
    },
    {
     "name": "stdout",
     "output_type": "stream",
     "text": [
      "not found\n",
      "https://en.wikipedia.org/w/api.php?action=query&titles=Shagun_Sharma&prop=revisions&rvlimit=500&rvstart=2020-05-05T07%3A59%3A00Z&rvdir=older&format=json&redirects=1\n"
     ]
    },
    {
     "name": "stderr",
     "output_type": "stream",
     "text": [
      "8424it [29:31,  5.56it/s]"
     ]
    },
    {
     "name": "stdout",
     "output_type": "stream",
     "text": [
      "list index out of range\n",
      "Path :  /home/suyash/final_repo/fetaqa_MM_cleaned/output/tables/56682.html\n"
     ]
    },
    {
     "name": "stderr",
     "output_type": "stream",
     "text": [
      "8459it [29:39,  4.51it/s]"
     ]
    },
    {
     "name": "stdout",
     "output_type": "stream",
     "text": [
      "No tables found matching pattern '.+'\n",
      "Path :  /home/suyash/final_repo/fetaqa_MM_cleaned/output/tables/32370.html\n"
     ]
    },
    {
     "name": "stderr",
     "output_type": "stream",
     "text": [
      "8568it [30:01,  9.39it/s]"
     ]
    },
    {
     "name": "stdout",
     "output_type": "stream",
     "text": [
      "not found\n",
      "https://en.wikipedia.org/w/api.php?action=query&titles=Alex_Burger&prop=revisions&rvlimit=500&rvstart=2020-05-05T07%3A59%3A00Z&rvdir=older&format=json&redirects=1\n"
     ]
    },
    {
     "name": "stderr",
     "output_type": "stream",
     "text": [
      "8610it [30:06,  9.01it/s]"
     ]
    },
    {
     "name": "stdout",
     "output_type": "stream",
     "text": [
      "not found\n",
      "https://en.wikipedia.org/w/api.php?action=query&titles=Richard_Davies_(actor)&prop=revisions&rvlimit=500&rvstart=2020-05-05T07%3A59%3A00Z&rvdir=older&format=json&redirects=1\n",
      "not found\n",
      "https://en.wikipedia.org/w/api.php?action=query&titles=Richard_Davies_(actor)&prop=revisions&rvlimit=500&rvstart=2020-05-05T07%3A59%3A00Z&rvdir=older&format=json&redirects=1\n"
     ]
    },
    {
     "name": "stderr",
     "output_type": "stream",
     "text": [
      "8835it [30:46,  3.62it/s]"
     ]
    },
    {
     "name": "stdout",
     "output_type": "stream",
     "text": [
      "not found\n",
      "https://en.wikipedia.org/w/api.php?action=query&titles=Mark_O'Connor_(footballer)&prop=revisions&rvlimit=500&rvstart=2020-05-05T07%3A59%3A00Z&rvdir=older&format=json&redirects=1\n",
      "not found\n",
      "https://en.wikipedia.org/w/api.php?action=query&titles=Mark_O'Connor_(footballer)&prop=revisions&rvlimit=500&rvstart=2020-05-05T07%3A59%3A00Z&rvdir=older&format=json&redirects=1\n"
     ]
    },
    {
     "name": "stderr",
     "output_type": "stream",
     "text": [
      "8843it [30:48,  5.40it/s]"
     ]
    },
    {
     "name": "stdout",
     "output_type": "stream",
     "text": [
      "not found\n",
      "https://en.wikipedia.org/w/api.php?action=query&titles=Resistance_(Aero_Chord_song)&prop=revisions&rvlimit=500&rvstart=2020-05-05T07%3A59%3A00Z&rvdir=older&format=json&redirects=1\n"
     ]
    },
    {
     "name": "stderr",
     "output_type": "stream",
     "text": [
      "8925it [31:06,  8.68it/s]"
     ]
    },
    {
     "name": "stdout",
     "output_type": "stream",
     "text": [
      "not found\n",
      "https://en.wikipedia.org/w/api.php?action=query&titles=Jordan_Fry&prop=revisions&rvlimit=500&rvstart=2020-05-05T07%3A59%3A00Z&rvdir=older&format=json&redirects=1\n",
      "not found\n",
      "https://en.wikipedia.org/w/api.php?action=query&titles=List_of_Welsh_principal_areas_by_population&prop=revisions&rvlimit=500&rvstart=2020-05-05T07%3A59%3A00Z&rvdir=older&format=json&redirects=1\n"
     ]
    },
    {
     "name": "stderr",
     "output_type": "stream",
     "text": [
      "8947it [31:09,  9.37it/s]"
     ]
    },
    {
     "name": "stdout",
     "output_type": "stream",
     "text": [
      "not found\n",
      "https://en.wikipedia.org/w/api.php?action=query&titles=Pre-Scenes_From_a_Memory&prop=revisions&rvlimit=500&rvstart=2020-05-05T07%3A59%3A00Z&rvdir=older&format=json&redirects=1\n"
     ]
    },
    {
     "name": "stderr",
     "output_type": "stream",
     "text": [
      "9003it [31:19,  7.59it/s]"
     ]
    },
    {
     "name": "stdout",
     "output_type": "stream",
     "text": [
      "not found\n",
      "https://en.wikipedia.org/w/api.php?action=query&titles=Darshan_(actor)&prop=revisions&rvlimit=500&rvstart=2020-05-05T07%3A59%3A00Z&rvdir=older&format=json&redirects=1\n",
      "not found\n",
      "https://en.wikipedia.org/w/api.php?action=query&titles=Darshan_(actor)&prop=revisions&rvlimit=500&rvstart=2020-05-05T07%3A59%3A00Z&rvdir=older&format=json&redirects=1\n"
     ]
    },
    {
     "name": "stderr",
     "output_type": "stream",
     "text": [
      "9015it [31:21,  8.83it/s]"
     ]
    },
    {
     "name": "stdout",
     "output_type": "stream",
     "text": [
      "No tables found matching pattern '.+'\n",
      "Path :  /home/suyash/final_repo/fetaqa_MM_cleaned/output/tables/20394.html\n"
     ]
    },
    {
     "name": "stderr",
     "output_type": "stream",
     "text": [
      "9050it [31:26,  6.95it/s]"
     ]
    },
    {
     "name": "stdout",
     "output_type": "stream",
     "text": [
      "not found\n",
      "https://en.wikipedia.org/w/api.php?action=query&titles=Rashida_Jones&prop=revisions&rvlimit=500&rvstart=2020-05-05T07%3A59%3A00Z&rvdir=older&format=json&redirects=1\n"
     ]
    },
    {
     "name": "stderr",
     "output_type": "stream",
     "text": [
      "9130it [31:39,  6.48it/s]"
     ]
    },
    {
     "name": "stdout",
     "output_type": "stream",
     "text": [
      "No tables found matching pattern '.+'\n",
      "Path :  /home/suyash/final_repo/fetaqa_MM_cleaned/output/tables/42121.html\n",
      "No tables found matching pattern '.+'\n",
      "Path :  /home/suyash/final_repo/fetaqa_MM_cleaned/output/tables/42122.html\n"
     ]
    },
    {
     "name": "stderr",
     "output_type": "stream",
     "text": [
      "9143it [31:44,  2.70it/s]"
     ]
    },
    {
     "name": "stdout",
     "output_type": "stream",
     "text": [
      "not found\n",
      "https://en.wikipedia.org/w/api.php?action=query&titles=Mauricio_Merino_Jr.&prop=revisions&rvlimit=500&rvstart=2020-05-05T07%3A59%3A00Z&rvdir=older&format=json&redirects=1\n"
     ]
    },
    {
     "name": "stderr",
     "output_type": "stream",
     "text": [
      "9156it [31:45,  6.13it/s]"
     ]
    },
    {
     "name": "stdout",
     "output_type": "stream",
     "text": [
      "list index out of range\n",
      "Path :  /home/suyash/final_repo/fetaqa_MM_cleaned/output/tables/23927.html\n",
      "list index out of range\n",
      "Path :  /home/suyash/final_repo/fetaqa_MM_cleaned/output/tables/23928.html\n",
      "list index out of range\n",
      "Path :  /home/suyash/final_repo/fetaqa_MM_cleaned/output/tables/23929.html\n",
      "list index out of range\n",
      "Path :  /home/suyash/final_repo/fetaqa_MM_cleaned/output/tables/23930.html\n",
      "list index out of range\n",
      "Path :  /home/suyash/final_repo/fetaqa_MM_cleaned/output/tables/23933.html\n",
      "list index out of range\n",
      "Path :  /home/suyash/final_repo/fetaqa_MM_cleaned/output/tables/23934.html\n",
      "list index out of range\n",
      "Path :  /home/suyash/final_repo/fetaqa_MM_cleaned/output/tables/23935.html\n",
      "list index out of range\n",
      "Path :  /home/suyash/final_repo/fetaqa_MM_cleaned/output/tables/23936.html\n",
      "not found\n",
      "https://en.wikipedia.org/w/api.php?action=query&titles=Digit_(unit)&prop=revisions&rvlimit=500&rvstart=2020-05-05T07%3A59%3A00Z&rvdir=older&format=json&redirects=1\n"
     ]
    },
    {
     "name": "stderr",
     "output_type": "stream",
     "text": [
      "9164it [31:47,  7.17it/s]"
     ]
    },
    {
     "name": "stdout",
     "output_type": "stream",
     "text": [
      "not found\n",
      "https://en.wikipedia.org/w/api.php?action=query&titles=Tony_Harper&prop=revisions&rvlimit=500&rvstart=2020-05-05T07%3A59%3A00Z&rvdir=older&format=json&redirects=1\n",
      "not found\n",
      "https://en.wikipedia.org/w/api.php?action=query&titles=Tony_Harper&prop=revisions&rvlimit=500&rvstart=2020-05-05T07%3A59%3A00Z&rvdir=older&format=json&redirects=1\n"
     ]
    },
    {
     "name": "stderr",
     "output_type": "stream",
     "text": [
      "9237it [32:00,  9.21it/s]"
     ]
    },
    {
     "name": "stdout",
     "output_type": "stream",
     "text": [
      "not found\n",
      "https://en.wikipedia.org/w/api.php?action=query&titles=Mark_Boswell&prop=revisions&rvlimit=500&rvstart=2020-05-05T07%3A59%3A00Z&rvdir=older&format=json&redirects=1\n"
     ]
    },
    {
     "name": "stderr",
     "output_type": "stream",
     "text": [
      "9505it [32:48,  6.62it/s]"
     ]
    },
    {
     "name": "stdout",
     "output_type": "stream",
     "text": [
      "not found\n",
      "https://en.wikipedia.org/w/api.php?action=query&titles=Sam_Quartin&prop=revisions&rvlimit=500&rvstart=2020-05-05T07%3A59%3A00Z&rvdir=older&format=json&redirects=1\n"
     ]
    },
    {
     "name": "stderr",
     "output_type": "stream",
     "text": [
      "9522it [32:51,  4.79it/s]"
     ]
    },
    {
     "name": "stdout",
     "output_type": "stream",
     "text": [
      "not found\n",
      "https://en.wikipedia.org/w/api.php?action=query&titles=Anthony_Gonzalez&prop=revisions&rvlimit=500&rvstart=2020-05-05T07%3A59%3A00Z&rvdir=older&format=json&redirects=1\n",
      "not found\n",
      "https://en.wikipedia.org/w/api.php?action=query&titles=Anthony_Gonzalez&prop=revisions&rvlimit=500&rvstart=2020-05-05T07%3A59%3A00Z&rvdir=older&format=json&redirects=1\n"
     ]
    },
    {
     "name": "stderr",
     "output_type": "stream",
     "text": [
      "9605it [33:06,  7.46it/s]"
     ]
    },
    {
     "name": "stdout",
     "output_type": "stream",
     "text": [
      "not found\n",
      "https://en.wikipedia.org/w/api.php?action=query&titles=Sam_Quartin&prop=revisions&rvlimit=500&rvstart=2020-05-05T07%3A59%3A00Z&rvdir=older&format=json&redirects=1\n"
     ]
    },
    {
     "name": "stderr",
     "output_type": "stream",
     "text": [
      "9653it [33:13,  4.03it/s]"
     ]
    },
    {
     "name": "stdout",
     "output_type": "stream",
     "text": [
      "not found\n",
      "https://en.wikipedia.org/w/api.php?action=query&titles=Chapra,_Nadia_(Vidhan_Sabha_constituency)&prop=revisions&rvlimit=500&rvstart=2020-05-05T07%3A59%3A00Z&rvdir=older&format=json&redirects=1\n"
     ]
    },
    {
     "name": "stderr",
     "output_type": "stream",
     "text": [
      "9722it [33:23,  5.46it/s]"
     ]
    },
    {
     "name": "stdout",
     "output_type": "stream",
     "text": [
      "not found\n",
      "https://en.wikipedia.org/w/api.php?action=query&titles=Don't_Wake_Me_Up_(song)&prop=revisions&rvlimit=500&rvstart=2020-05-05T07%3A59%3A00Z&rvdir=older&format=json&redirects=1\n",
      "not found\n",
      "https://en.wikipedia.org/w/api.php?action=query&titles=Don't_Wake_Me_Up_(song)&prop=revisions&rvlimit=500&rvstart=2020-05-05T07%3A59%3A00Z&rvdir=older&format=json&redirects=1\n"
     ]
    },
    {
     "name": "stderr",
     "output_type": "stream",
     "text": [
      "9847it [33:42,  5.04it/s]"
     ]
    },
    {
     "name": "stdout",
     "output_type": "stream",
     "text": [
      "not found\n",
      "https://en.wikipedia.org/w/api.php?action=query&titles=Hadouken!&prop=revisions&rvlimit=500&rvstart=2020-05-05T07%3A59%3A00Z&rvdir=older&format=json&redirects=1\n",
      "not found\n",
      "https://en.wikipedia.org/w/api.php?action=query&titles=Stir&prop=revisions&rvlimit=500&rvstart=2020-05-05T07%3A59%3A00Z&rvdir=older&format=json&redirects=1\n",
      "not found\n",
      "https://en.wikipedia.org/w/api.php?action=query&titles=Stir&prop=revisions&rvlimit=500&rvstart=2020-05-05T07%3A59%3A00Z&rvdir=older&format=json&redirects=1\n"
     ]
    },
    {
     "name": "stderr",
     "output_type": "stream",
     "text": [
      "9891it [33:48,  8.01it/s]"
     ]
    },
    {
     "name": "stdout",
     "output_type": "stream",
     "text": [
      "not found\n",
      "https://en.wikipedia.org/w/api.php?action=query&titles=Lou_Hirsch&prop=revisions&rvlimit=500&rvstart=2020-05-05T07%3A59%3A00Z&rvdir=older&format=json&redirects=1\n"
     ]
    },
    {
     "name": "stderr",
     "output_type": "stream",
     "text": [
      "10000it [34:09,  3.28it/s]"
     ]
    },
    {
     "name": "stdout",
     "output_type": "stream",
     "text": [
      "not found\n",
      "https://en.wikipedia.org/w/api.php?action=query&titles=Herbert_Watson&prop=revisions&rvlimit=500&rvstart=2020-05-05T07%3A59%3A00Z&rvdir=older&format=json&redirects=1\n",
      "not found\n",
      "https://en.wikipedia.org/w/api.php?action=query&titles=List_of_tallest_buildings_in_Bradenton,_Florida&prop=revisions&rvlimit=500&rvstart=2020-05-05T07%3A59%3A00Z&rvdir=older&format=json&redirects=1\n"
     ]
    },
    {
     "name": "stderr",
     "output_type": "stream",
     "text": [
      "10004it [34:09,  4.85it/s]"
     ]
    },
    {
     "name": "stdout",
     "output_type": "stream",
     "text": [
      "not found\n",
      "https://en.wikipedia.org/w/api.php?action=query&titles=Naresh_Eswar&prop=revisions&rvlimit=500&rvstart=2020-05-05T07%3A59%3A00Z&rvdir=older&format=json&redirects=1\n"
     ]
    },
    {
     "name": "stderr",
     "output_type": "stream",
     "text": [
      "10072it [34:20, 12.09it/s]"
     ]
    },
    {
     "name": "stdout",
     "output_type": "stream",
     "text": [
      "not found\n",
      "https://en.wikipedia.org/w/api.php?action=query&titles=The_D'Ambrosio_Twins&prop=revisions&rvlimit=500&rvstart=2020-05-05T07%3A59%3A00Z&rvdir=older&format=json&redirects=1\n"
     ]
    },
    {
     "name": "stderr",
     "output_type": "stream",
     "text": [
      "10094it [34:26,  3.92it/s]"
     ]
    },
    {
     "name": "stdout",
     "output_type": "stream",
     "text": [
      "No tables found matching pattern '.+'\n",
      "Path :  /home/suyash/final_repo/fetaqa_MM_cleaned/output/tables/57132.html\n",
      "not found\n",
      "https://en.wikipedia.org/w/api.php?action=query&titles=The_Holographic_Principle_World_Tour&prop=revisions&rvlimit=500&rvstart=2020-05-05T07%3A59%3A00Z&rvdir=older&format=json&redirects=1\n"
     ]
    },
    {
     "name": "stderr",
     "output_type": "stream",
     "text": [
      "10330it [35:03,  4.91it/s]"
     ]
    },
    {
     "name": "stdout",
     "output_type": "stream",
     "text": [
      "0\n"
     ]
    },
    {
     "name": "stderr",
     "output_type": "stream",
     "text": [
      "\n"
     ]
    }
   ],
   "source": [
    "# now we need to get the table ids for each url and the table array from \n",
    "from collections import Counter\n",
    "\n",
    "def compute_similarity(n_grams_1, n_grams_2):\n",
    "    counter1 = Counter(n_grams_1)\n",
    "    counter2 = Counter(n_grams_2)\n",
    "    \n",
    "    # Compute intersection and union for multisets\n",
    "    intersection = sum((counter1 & counter2).values())\n",
    "    union = sum((counter1 | counter2).values())\n",
    "    \n",
    "    # Compute similarity\n",
    "    similarity = intersection / union if union != 0 else 0\n",
    "    return similarity\n",
    "\n",
    "import nltk\n",
    "import json\n",
    "import pandas as pd\n",
    "from bs4 import BeautifulSoup\n",
    "from nltk.util import ngrams\n",
    "\n",
    "from nltk import word_tokenize\n",
    "from tqdm import tqdm\n",
    "file_path = \"/home/suyash/final_repo/fetaqa_MM_cleaned/output/all_tables.jsonl\"\n",
    "rev_cnt=0\n",
    "most_similar_tables = {}\n",
    "URL = \"https://en.wikipedia.org/w/api.php?action=query&titles={title}&prop=revisions&rvlimit=500&rvstart=2020-05-05T07%3A59%3A00Z&rvdir=older&format=json&redirects=1\"\n",
    "\n",
    "iii=0\n",
    "different_count = 0\n",
    "# Open the JSONL file and read line by line\n",
    "redirect_titles = []\n",
    "url_to_table_id = json.load(open(\"/home/suyash/final_repo/fetaqa_MM_cleaned/output/url_to_table_id.json\",'r'))\n",
    "\n",
    "with open(file_path, \"r\") as jsonl_file:\n",
    "    for line  in tqdm(jsonl_file) :\n",
    "       \n",
    "        json_data = json.loads(line)\n",
    "        \n",
    "        # Now you can work with the JSON data as a Python dictionary\n",
    "        # print(json_data)  # You can replace this with your processing logic\n",
    "        page_url = json_data['page_wikipedia_url']\n",
    "        feta_id = json_data['feta_id']\n",
    "        table_section_title = json_data['table_section_title']\n",
    "        page_title = json_data['table_page_title']\n",
    "        raw_title = page_url.split(\"en.wikipedia.org/wiki/\")[1]\n",
    "        page_url = URL.format(title=raw_title)\n",
    "   \n",
    "        table_1_df  = pd.DataFrame(json_data['table_array'])\n",
    "        words = set()\n",
    "        for i in range(table_1_df.shape[0]):\n",
    "            for j in range(table_1_df.shape[1]):\n",
    "                cell_value = str(table_1_df.iloc[i,j]).lower()\n",
    "                if len(cell_value.split())>1:\n",
    "                    n=2 \n",
    "                    ngramss = set(ngrams(word_tokenize(cell_value), n))\n",
    "                    words.update(set(ngramss))\n",
    "                else:\n",
    "                    words.add(cell_value)\n",
    "        \n",
    "        table_id_with_max_similarity = None\n",
    "        max_similarity = 0\n",
    "        \n",
    "        table_id_with_max_similarity_new_strat = None\n",
    "        max_similarity_new_strat = 0 # Trying out if different results with a newer stratagey\n",
    "        \n",
    "        if page_url in url_to_table_id:\n",
    "            for table_ids in url_to_table_id[page_url]:\n",
    "                try: \n",
    "                    table_2_df = pd.read_html(f\"/home/suyash/final_repo/fetaqa_MM_cleaned/output/tables/{table_ids}.html\")[0]\n",
    "                    words2 = set()\n",
    "\n",
    "                    for i in range(table_2_df.shape[0]):\n",
    "                        for j in range(table_2_df.shape[1]):\n",
    "                            cell_value = str(table_2_df.iloc[i,j]).lower()\n",
    "\n",
    "                            if len(cell_value.split())>1:\n",
    "                                n=2\n",
    "                                ngras = set(ngrams(word_tokenize(cell_value), n))\n",
    "                                words2.update(set(ngras))\n",
    "\n",
    "                            else :\n",
    "                                words2.add(cell_value)\n",
    "\n",
    "                    similarity = len(words.intersection(words2))/len(words.union(words2))\n",
    "                    if similarity>max_similarity:\n",
    "                        max_similarity = similarity\n",
    "                        table_id_with_max_similarity = table_ids\n",
    "                    \n",
    "                    different_strat_similarity = compute_similarity(words, words2)\n",
    "                    if different_strat_similarity>max_similarity_new_strat:\n",
    "                        max_similarity_new_strat = different_strat_similarity\n",
    "                        table_id_with_max_similarity_new_strat = table_ids\n",
    "                    \n",
    "                    if table_id_with_max_similarity != table_id_with_max_similarity_new_strat:\n",
    "                        different_count += 1\n",
    "                        print(\"AAAAAAAAAAAAAAAAAAAAAAAA different\")\n",
    "                \n",
    "                except Exception as e:\n",
    "                    print(e)\n",
    "                    print( \"Path : \", f\"/home/suyash/final_repo/fetaqa_MM_cleaned/output/tables/{table_ids}.html\")\n",
    "                    iii+=1 \n",
    "                    continue\n",
    "        else : \n",
    "            print(\"not found\")\n",
    "            print(page_url)\n",
    "        if table_id_with_max_similarity is None:\n",
    "            print(\"not found\")\n",
    "            print(page_url)\n",
    "        most_similar_tables[feta_id] =(page_url,table_id_with_max_similarity, max_similarity) \n",
    "\n",
    "print(different_count)\n"
   ]
  },
  {
   "cell_type": "code",
   "execution_count": null,
   "metadata": {},
   "outputs": [],
   "source": [
    "# Using Jaccard's coeffiecient without converting to set led to same results\n",
    "json.dump(most_similar_tables, open(\"/home2/jainit/FeTAQA_MM/new_outputs/most_similar_tables.json\", \"w\")) "
   ]
  },
  {
   "cell_type": "markdown",
   "metadata": {},
   "source": [
    "### Next step"
   ]
  },
  {
   "cell_type": "code",
   "execution_count": 22,
   "metadata": {},
   "outputs": [
    {
     "name": "stderr",
     "output_type": "stream",
     "text": [
      "100%|██████████| 10330/10330 [03:46<00:00, 45.66it/s]\n"
     ]
    }
   ],
   "source": [
    "# now we need to get the table ids for each url and the table array from \n",
    "from tqdm import tqdm\n",
    "from bs4 import BeautifulSoup\n",
    "import json\n",
    "most_similar_tables= json.load(open(\"/home/suyash/final_repo/fetaqa_MM_cleaned/output/most_similar_tables.json\", \"r\")) \n",
    "\n",
    "table_links = {}\n",
    "for feta_id, table_info in tqdm(most_similar_tables.items()):\n",
    "    page_url = table_info[0]\n",
    "    table_id = table_info[1]\n",
    "    if table_id is None:\n",
    "        continue\n",
    "\n",
    "    with open(f\"/home/suyash/final_repo/fetaqa_MM_cleaned/output/tables/{table_id}.html\", \"r\") as f:\n",
    "        html = f.read()\n",
    "        soup = BeautifulSoup(html, 'html.parser')\n",
    "        tables = soup.find_all('table')\n",
    "\n",
    "        for table in tables:\n",
    "            rows = table.find_all('tr')\n",
    "            for row in rows:\n",
    "                # print(\"-----------------------\")\n",
    "                # print(row)\n",
    "                # print(\"-----------------------\")\n",
    "                cells = row.find_all('td')\n",
    "                # print(cells)\n",
    "                for cell in cells:\n",
    "                    links = cell.find_all('a')\n",
    "\n",
    "                    for link in links:\n",
    "                        if link.get('href') is None:\n",
    "                            continue\n",
    "\n",
    "                        link_url = link.get('href')\n",
    "                        # print(\"=======================\")\n",
    "                        # print(cell)\n",
    "                        # print(link_url)\n",
    "                        # print(\"========================\")\n",
    "                        if link_url.startswith(\"/wiki\") or (link_url.startswith(\"https\") and \"/wiki/\" in link_url):\n",
    "                            table_links.setdefault(table_id, {})\n",
    "                            # TODO Suyash: Remove the lower here and rerun!!!!\n",
    "                            temp_text = link.text.lower().strip().replace(\"\\n\", \" \").replace(\"\\t\", \" \").replace(\"\\r\", \" \").replace(\"  \", \" \")\n",
    "                            \n",
    "                            if temp_text not in table_links[table_id]:\n",
    "                                table_links[table_id][temp_text] = set()\n",
    "                            table_links[table_id][temp_text].add(link_url)\n"
   ]
  },
  {
   "cell_type": "code",
   "execution_count": 25,
   "metadata": {},
   "outputs": [
    {
     "name": "stdout",
     "output_type": "stream",
     "text": [
      "14180\n",
      "166286\n"
     ]
    }
   ],
   "source": [
    "troubled_links = 0\n",
    "total_links = 0\n",
    "for table_id, text_dict in table_links.items():\n",
    "    text_array = sorted(text_dict.items(), key=lambda item: len(item[0]) , reverse=True)\n",
    "    for string, links in text_array:\n",
    "        total_links += len(links)\n",
    "        if len(links) > 1 and string.strip() != \"\":\n",
    "            troubled_links += len(links)\n",
    "            # print(string)\n",
    "            # print(links)\n",
    "print(troubled_links)\n",
    "print(total_links)"
   ]
  },
  {
   "cell_type": "code",
   "execution_count": 6,
   "metadata": {},
   "outputs": [],
   "source": [
    "import json\n",
    "from bs4 import BeautifulSoup\n",
    "most_similar_tables= json.load( open(\"/home/suyash/final_repo/fetaqa_MM_cleaned/output/most_similar_tables.json\", \"r\")) "
   ]
  },
  {
   "cell_type": "code",
   "execution_count": 7,
   "metadata": {},
   "outputs": [],
   "source": [
    "new_tables_links = {} # Contains the text -> links sorted by the length of the text. This way the longest strings get replaced first.\n",
    "for k , v in table_links.items():\n",
    "    sorted_dict = dict(sorted(v.items(), key=lambda item: len(item[0]) , reverse=True))\n",
    "    new_tables_links[k] = sorted_dict\n",
    "    "
   ]
  },
  {
   "cell_type": "code",
   "execution_count": 42,
   "metadata": {},
   "outputs": [],
   "source": [
    "with open(\"/home/suyash/final_repo/fetaqa_MM_cleaned/output/table_links.json\", \"w\") as f:\n",
    "    json.dump(new_tables_links, f)"
   ]
  },
  {
   "cell_type": "code",
   "execution_count": 4,
   "metadata": {},
   "outputs": [],
   "source": [
    "with open(\"/home/suyash/final_repo/fetaqa_MM_cleaned/output/table_links.json\", \"r\") as f:\n",
    "    table_links = json.load(f)\n",
    "\n",
    "with open(\"/home/suyash/final_repo/fetaqa_MM_cleaned/output/most_similar_tables.json\", \"r\") as f:\n",
    "    most_similar_tables = json.load(f)"
   ]
  },
  {
   "cell_type": "code",
   "execution_count": 5,
   "metadata": {},
   "outputs": [],
   "source": [
    "def calculate_alpha_ratio(input_string):\n",
    "    \n",
    "    # remove all spaces\n",
    "    input_string = input_string.replace(\" \", \"\")\n",
    "    alpha_count = sum(c.isalpha() for c in input_string)\n",
    "    non_alpha_count = len(input_string) - alpha_count\n",
    "    \n",
    "    if non_alpha_count == 0:\n",
    "        return 1\n",
    "    ratio = alpha_count / non_alpha_count\n",
    "    # print(\"Ratio\", ratio)\n",
    "    return ratio\n"
   ]
  },
  {
   "cell_type": "code",
   "execution_count": 6,
   "metadata": {},
   "outputs": [],
   "source": [
    "import json\n",
    "\n",
    "with open(\"/home/suyash/final_repo/fetaqa_MM_cleaned/output/download_paths.json\", \"r\") as f:\n",
    "    table_links_to_downloaded_paths = json.load(f)\n",
    "\n",
    "with open('/home/suyash/final_repo/fetaqa_MM_cleaned/output/link_to_full_links.json', 'r') as f:\n",
    "    links_to_full_links = json.load(f)\n",
    "\n",
    "with open(\"/home/suyash/final_repo/fetaqa_MM_cleaned/output/link_to_single_image.json\", \"r\") as f:\n",
    "    link_to_single_image = json.load(f)\n",
    "\n",
    "tables = []"
   ]
  },
  {
   "cell_type": "code",
   "execution_count": 7,
   "metadata": {},
   "outputs": [],
   "source": [
    "# now we create a new dict which will have the link to the image_path\n",
    "link_to_image_path = {}\n",
    "for k , v in links_to_full_links.items():\n",
    "    if v in link_to_single_image:\n",
    "        if link_to_single_image[v] in table_links_to_downloaded_paths:\n",
    "            link_to_image_path[k] = table_links_to_downloaded_paths[link_to_single_image[v]]"
   ]
  },
  {
   "cell_type": "code",
   "execution_count": 8,
   "metadata": {},
   "outputs": [],
   "source": [
    "import re\n",
    "def replace_with_condition(cell_string, replace_str, replacement_str):\n",
    "    # Define the regular expression pattern to match replace_str with non-alphanumeric or no adjacent characters\n",
    "    cell_string = \" \" + cell_string + \" \"\n",
    "    pattern = r'([^a-zA-Z0-9])' + re.escape(replace_str) + r'([^a-zA-Z0-9])'\n",
    "    \n",
    "    # Use re.sub to replace all matches in the cell_string with replacement_str with case-insensitive matching\n",
    "    result = re.sub(pattern, r'\\1' + replacement_str + r'\\2', cell_string, flags=re.IGNORECASE)\n",
    "    is_unchanged = cell_string==result\n",
    "    return (result.strip(), is_unchanged)"
   ]
  },
  {
   "cell_type": "code",
   "execution_count": 9,
   "metadata": {},
   "outputs": [
    {
     "data": {
      "text/plain": [
       "('w a ksjdkasjdfk', True)"
      ]
     },
     "execution_count": 9,
     "metadata": {},
     "output_type": "execute_result"
    }
   ],
   "source": [
    "replace_with_condition(\"w a ksjdkasjdfk\", \"kjs\", \"ksjdkasjdfk\")"
   ]
  },
  {
   "cell_type": "code",
   "execution_count": 10,
   "metadata": {},
   "outputs": [],
   "source": [
    "import re \n",
    "def calculate_alpha_ratio(input_string):\n",
    "    \n",
    "    # remove all spaces\n",
    "    input_string = input_string.replace(\" \", \"\")\n",
    "    alpha_count = sum(c.isalpha() for c in input_string)\n",
    "    non_alpha_count = len(input_string) - alpha_count\n",
    "    \n",
    "    if non_alpha_count == 0:\n",
    "        return 1\n",
    "    ratio = alpha_count / non_alpha_count\n",
    "    # print(\"Ratio\", ratio)\n",
    "    return ratio"
   ]
  },
  {
   "cell_type": "code",
   "execution_count": 11,
   "metadata": {},
   "outputs": [
    {
     "name": "stdout",
     "output_type": "stream",
     "text": [
      "1003\n"
     ]
    }
   ],
   "source": [
    "# now we need to replace the entities in teh table with {{entity}{link_to_wiki_page}}\n",
    "import json \n",
    "from tqdm import tqdm\n",
    "from bs4 import BeautifulSoup\n",
    "import re\n",
    "import copy\n",
    "\n",
    "with open(\"/home/suyash/final_repo/fetaqa_MM_cleaned/output/most_similar_tables.json\", \"r\") as f:\n",
    "    table_similarites = json.load(f)\n",
    "\n",
    "with open(\"/home/suyash/final_repo/fetaqa_MM_cleaned/output/table_links.json\", \"r\") as f:\n",
    "    table_links = json.load(f)\n",
    "\n",
    "file_path = \"/home/suyash/final_repo/fetaqa_MM_cleaned/output/all_tables.jsonl\"\n",
    "\n",
    "questions_f  = open(\"/home/suyash/final_repo/fetaqa_MM_cleaned/final_data_unfiltered/questions.jsonl\", \"w\")\n",
    "tables_f = open(\"/home/suyash/final_repo/fetaqa_MM_cleaned/final_data_unfiltered/tables.jsonl\", \"w\")\n",
    "\n",
    "i=0\n",
    "j=0 \n",
    "missing_cnt = 0\n",
    "\n",
    "image_ids_to_string = {}\n",
    "image_ids_to_download_path = {}\n",
    "image_ids_to_links_page = {}\n",
    "\n",
    "NOTES_ARRAY = [\"note\", \"comment\"]\n",
    "\n",
    "with open(file_path, \"r\") as jsonl_file:\n",
    "    for line  in (jsonl_file):\n",
    "        json_data = json.loads(line)\n",
    "        page_url = json_data['page_wikipedia_url']\n",
    "        table = copy.deepcopy(json_data['table_array'])\n",
    "        feta_id = json_data['feta_id']\n",
    "        \n",
    "        # now we get the table_id for this fetad_id and get the table and then get the links for each cell\n",
    "        if str(json_data['feta_id']) not in table_similarites:\n",
    "            print(\"WTF!\", json_data['feta_id'])\n",
    "            continue\n",
    "        \n",
    "        table_id = table_similarites[str(json_data['feta_id'])][1]\n",
    "        new_tables = table.copy()\n",
    "        if table_id is None:\n",
    "            continue\n",
    "        \n",
    "        if str(table_id) not in table_links:\n",
    "            missing_cnt+=1\n",
    "            continue\n",
    "        \n",
    "        table_headers = table[0]\n",
    "        \n",
    "        for row_id , row in enumerate(table):\n",
    "            for col_id, cell in enumerate(row):\n",
    "                image_id = 0 \n",
    "                cell = cell.strip().replace(\"\\n\", \" \").replace(\"\\t\", \" \").replace(\"\\r\", \" \").replace(\"  \", \" \")\n",
    "                \n",
    "                if cell!= \"\":\n",
    "                    for text,link  in table_links[str(table_id)].items():\n",
    "                        text = text.strip().replace(\"\\n\", \" \").replace(\"\\t\", \" \").replace(\"\\r\", \" \").replace(\"  \", \" \")\n",
    "                        alpha_ratio =  calculate_alpha_ratio(text)\n",
    "                        \n",
    "                        if alpha_ratio<0.5 and len(text)<4:\n",
    "                            # if link in image_ids_to_download_path:\n",
    "                                # print(\"---------------------------\")\n",
    "                                # print(text)\n",
    "                                # print(link)\n",
    "                                # print(feta_id)\n",
    "                                # print(\"---------------------------\")\n",
    "                            continue\n",
    "                        \n",
    "                        if text != \"\" and len(text)>3 and link in link_to_image_path and \"/wiki/\" in link and any([elem in table_headers[col_id].lower() for elem in NOTES_ARRAY]) == 0: #and  bool(re.search(r'[a-zA-Z]', text)):\n",
    "                            image_str = f\"{{IMG-{{FTQ-{feta_id}-{row_id}-{col_id}-{image_id}}}}}\"\n",
    "                            \n",
    "                            cell, is_unchanged = replace_with_condition(cell, text, image_str)\n",
    "                            if not is_unchanged:\n",
    "                                if alpha_ratio<0.5 and len(text)>4:\n",
    "                                    pass\n",
    "                                \n",
    "                                \n",
    "                                image_ids_to_string[image_str] = text\n",
    "                                image_ids_to_download_path[image_str] = link_to_image_path[link]\n",
    "                                image_ids_to_links_page[image_str] = link\n",
    "                                \n",
    "                                image_id += 1\n",
    "                                i+=1 \n",
    "                            # break\n",
    "                new_tables[row_id][col_id] = cell\n",
    "            \n",
    "                # print(\"----------------------------------\")\n",
    "                        \n",
    "        json_data['table_array_with_image_id'] = new_tables\n",
    "        table_id = f\"FTQ-{feta_id}\"\n",
    "        tables_dict = {\n",
    "            \"table_id\": table_id,\n",
    "            \"table_array\": new_tables,\n",
    "            \"original_table_array\": table,\n",
    "            \"table_source_json\": json_data[\"table_source_json\"],\n",
    "            \"page_wikipedia_url\": json_data[\"page_wikipedia_url\"],\n",
    "            \"table_page_title\": json_data[\"table_page_title\"],\n",
    "            \"table_section_title\": json_data[\"table_section_title\"],\n",
    "        }\n",
    "        questions_dict = {\n",
    "            \"question_id\": feta_id,\n",
    "            \"table_context\": table_id,\n",
    "            \"question\": json_data['question'],\n",
    "            \"answer\": json_data['answer'],\n",
    "            \"highlighted_cell_ids\": json_data['highlighted_cell_ids'],\n",
    "        }\n",
    "        tables_f.write(json.dumps(tables_dict)+\"\\n\")\n",
    "        questions_f.write(json.dumps(questions_dict)+\"\\n\")\n",
    "        # print(\"wriiten\")\n",
    "tables_f.close()\n",
    "questions_f.close()\n",
    "\n",
    "with open(\"/home/suyash/final_repo/fetaqa_MM_cleaned/final_data_unfiltered/image_ids_to_string.json\", \"w\") as f:\n",
    "    json.dump(image_ids_to_string, f)\n",
    "\n",
    "with open(\"/home/suyash/final_repo/fetaqa_MM_cleaned/final_data_unfiltered/image_ids_to_download_path.json\", \"w\") as f:\n",
    "    json.dump(image_ids_to_download_path, f)\n",
    "\n",
    "with open(\"/home/suyash/final_repo/fetaqa_MM_cleaned/final_data_unfiltered/image_ids_to_links_page.json\", \"w\") as f:\n",
    "    json.dump(image_ids_to_links_page, f)\n",
    "\n",
    "print(missing_cnt)"
   ]
  },
  {
   "cell_type": "code",
   "execution_count": null,
   "metadata": {},
   "outputs": [],
   "source": []
  }
 ],
 "metadata": {
  "kernelspec": {
   "display_name": "scraper",
   "language": "python",
   "name": "python3"
  },
  "language_info": {
   "codemirror_mode": {
    "name": "ipython",
    "version": 3
   },
   "file_extension": ".py",
   "mimetype": "text/x-python",
   "name": "python",
   "nbconvert_exporter": "python",
   "pygments_lexer": "ipython3",
   "version": "3.1.0"
  },
  "orig_nbformat": 4
 },
 "nbformat": 4,
 "nbformat_minor": 2
}
