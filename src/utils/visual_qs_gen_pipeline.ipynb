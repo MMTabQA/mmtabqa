{
 "cells": [
  {
   "cell_type": "code",
   "execution_count": null,
   "metadata": {},
   "outputs": [],
   "source": [
    "import json\n",
    "\n",
    "import pickle"
   ]
  },
  {
   "cell_type": "code",
   "execution_count": null,
   "metadata": {},
   "outputs": [],
   "source": [
    "pkl_file = open(\n",
    "    '/home/turning/Jainit/SM/GptQueries/visual_qs/ftq/nd/ftq_explict_categories.pkl', 'rb')\n",
    "\n",
    "questions = pickle.load(pkl_file)"
   ]
  },
  {
   "cell_type": "code",
   "execution_count": null,
   "metadata": {},
   "outputs": [],
   "source": [
    "path = \"/home/turning/Jainit/SM/GptQueries/visual_qs/ftq/nd/questions.jsonl\"\n",
    "\n",
    "questions_list = {}\n",
    "with open(path, 'r') as f:\n",
    "    for line in f:\n",
    "        aa = json.loads(line)\n",
    "        questions_list.update({aa['question_id']: aa['table_context']})"
   ]
  },
  {
   "cell_type": "code",
   "execution_count": null,
   "metadata": {},
   "outputs": [],
   "source": [
    "q_ids = list(questions.keys())\n"
   ]
  },
  {
   "cell_type": "code",
   "execution_count": null,
   "metadata": {},
   "outputs": [],
   "source": [
    "table_ids = []\n",
    "for q_id in q_ids:\n",
    "    table_ids.append(questions_list[int(q_id.split(':')[0])])"
   ]
  },
  {
   "cell_type": "code",
   "execution_count": null,
   "metadata": {},
   "outputs": [],
   "source": [
    "table_ids"
   ]
  },
  {
   "cell_type": "code",
   "execution_count": null,
   "metadata": {},
   "outputs": [],
   "source": [
    "img_ids_to_path = json.load(open(\n",
    "    '/home/turning/Jainit/SM/GptQueries/visual_qs/image_id_to_refined_path.json', 'r'))\n",
    "img_ids_to_path_old = json.load(open(\n",
    "    '/home/turning/Jainit/SM/GptQueries/visual_qs/ftq/nd/image_id_to_image_path.json', 'r'))"
   ]
  },
  {
   "cell_type": "code",
   "execution_count": null,
   "metadata": {},
   "outputs": [],
   "source": [
    "for k, v in img_ids_to_path_old.items():\n",
    "    v = v.replace(\"/home/suyash/final_repo/fetaqa_MM_cleaned/\", \"\")\n",
    "    v = v.replace(\"/scratch/jainit_ftq/ftq_images/\", \"\")\n",
    "    img_ids_to_path_old[k] = v"
   ]
  },
  {
   "cell_type": "code",
   "execution_count": null,
   "metadata": {},
   "outputs": [],
   "source": [
    "import os\n",
    "all_images = {}\n",
    "list = []\n",
    "poster_ids = set()\n",
    "for k, q in questions.items():\n",
    "    try:\n",
    "        all_images.update(\n",
    "            {q['original_entity'][0][0]: q['original_entity'][0][1]})\n",
    "        if q['original_entity'][0][1] == 'poster':\n",
    "            list.append((questions_list[int(k[0])], k[1]))\n",
    "            poster_ids.add(q['original_entity'][0][0])\n",
    "        if 'all_images' in q:\n",
    "            for other in q['all_images']:\n",
    "                if other[1] == 'poster':\n",
    "                    poster_ids.add(other[0])\n",
    "                all_images.update({other[0]: other[1]})\n",
    "    except:\n",
    "        all\n",
    "        # print(q)"
   ]
  },
  {
   "cell_type": "code",
   "execution_count": null,
   "metadata": {},
   "outputs": [],
   "source": [
    "len(poster_ids)"
   ]
  },
  {
   "cell_type": "code",
   "execution_count": null,
   "metadata": {},
   "outputs": [],
   "source": [
    "set(all_images.values())"
   ]
  },
  {
   "cell_type": "code",
   "execution_count": null,
   "metadata": {},
   "outputs": [],
   "source": [
    "query_img_to_path = {}\n",
    "for k, v in all_images.items():\n",
    "    if k in poster_ids:\n",
    "        print(img_ids_to_path[k])\n",
    "        query_img_to_path.update({k: img_ids_to_path[k]})\n",
    "    else:\n",
    "        query_img_to_path.update({k: img_ids_to_path_old[k]})"
   ]
  },
  {
   "cell_type": "code",
   "execution_count": null,
   "metadata": {},
   "outputs": [],
   "source": [
    "query_img_to_path"
   ]
  },
  {
   "cell_type": "code",
   "execution_count": null,
   "metadata": {},
   "outputs": [],
   "source": [
    "\n",
    "prompts_flag_seal = \"\"\"You are given an image. Do the following: \n",
    "1. Analyse the image whether it contains a collage of images. \n",
    "if it contains a collage of images, then do the following:\n",
    "1.1 Identify the number of images in the collage. \n",
    "1.2 Identify the type of images in the collage.\n",
    "1.3 Write the image attributes and objects of each image in json format. Example of json is given under the heading \"JSON FOR COLLAGE\"\n",
    "2. if is not a collage of images, then do the following:\n",
    "2.1 Identify the type of image.\n",
    "2.2 Write the image attributes and objects in json format. Example of json is given under the heading \"JSON FOR SINGLE IMAGE\"\n",
    "\n",
    "JSON FOR COLLAGE\n",
    "{\n",
    "  \"number_of_images\": x,\n",
    "  \"image_1\": { \"imagetype\": \"Type of Image whether it is seal, coat of arms, flag, badge, etc\", \"attribute1\":[object1 , object2, object3, ...],\"attribute1\":[object1 , object2, object3, ...],...,\"text\" :[ \"text in the image\"]},\n",
    "   \"image_2\": { \"imagetype\": \"Type of Image whether it is seal, coat of arms, flag, badge, etc\", \"attribute1\":[object1 , object2, object3, ...],\"attribute1\":[object1 , object2, object3, ...],...,\"text\" :[ \"text in the image\"]},\n",
    "   \"image_3\": { \"imagetype\": \"Type of Image whether it is seal, coat of arms, flag, badge, etc\", \"attribute1\":[object1 , object2, object3, ...],\"attribute1\":[object1 , object2, object3, ...],...,\"text\" :[ \"text in the image\"]}\n",
    "\n",
    "}\n",
    "\n",
    "JSON FOR SINGLE IMAGE\n",
    "{\n",
    "  \"imagetype\": \"Type of Image whether it is seal, coat of arms, flag, badge, etc\",\n",
    "  \"attribute1\":[object1 , object2, object3, ...],\n",
    "  \"attribute1\":[object1 , object2, object3, ...],\n",
    "  ...\n",
    "  \"text\" : [\"text in the image\"]\n",
    "}\n",
    "\n",
    "Note(Very Important):\n",
    "You can use the suggested attributes for different image types given below: \n",
    "Flag ->  colours, shapes, patterns (stripes, bands or chevrons), mottos, animate objects, inanimate objects\n",
    "coat of arms -> Colour, shield, Crest(often resembling an animal/object), Motto, animate objects, inanimate objects\n",
    "seal -> shape, colour, animate objects, inanimate objects\n",
    "logo -> Shape, colour, animate objects, inanimate objects\n",
    "\n",
    "\n",
    "\n",
    "Example output for an single image   :\n",
    "{\n",
    "  \"imagetype\": \"flag\",\n",
    "  \"colours\": [\"red\", \"white\", \"blue\"],\n",
    "  \"shapes\": [\"rectangle\"],\n",
    "  \"patterns\": [\"stripes\"],\n",
    "  \"text\": [\"hail\"]\n",
    "}\n",
    "\n",
    "\n",
    "Example output for collage  :\n",
    "{\n",
    "  \"number_of_images\": 2,\n",
    "  \"image_1\": {\n",
    "    \"imagetype\": \"flag\",\n",
    "    \"colours\": [\"black\", \"yellow\", \"gray\"],\n",
    "    \"shapes\": [\"rectangle\"],\n",
    "    \"patterns\": [\"stripes\"],\n",
    "    \"text\": [\"hail\"]\n",
    "  },\n",
    "  \"image_2\": {\n",
    "    \"imagetype\": \"seal\",\n",
    "    \"shape\": [\"circle\"],\n",
    "    \"colour\": [\"blue\"],\n",
    "    \"animate_objects\": [\"monkey\"],\n",
    "    \"inanimate_objects\": [\"soccer ball\"],\n",
    "    \"text\": [\"Truth Alone Triumphs\"]\n",
    "  }\n",
    "}\n",
    ">>> Give the reponse in json format. There is no need to write other info other than json not even ticks.\n",
    "Also avoid using quotes and new line characters inside json values as it may give json parsing error while doing json.dumps(<your output>)\n",
    "You should not use instances like {\"text\":[\"THis \\\\n is \"quotes in quotes\" \"]}. \n",
    "\"\"\""
   ]
  },
  {
   "cell_type": "code",
   "execution_count": null,
   "metadata": {},
   "outputs": [],
   "source": [
    "prompt_for_poster = \"\"\"You are given an image of a poster. It can be a movie, song, label any poster. Do the following:\n",
    "If the image is not a poster, then do the following:\n",
    "  Return JSON as {\"error\": \"The image is not a poster\"}\n",
    "If the image is a poster, then do the following:\n",
    "  1. Identify the type of border and frames used in the poster.\n",
    "  2. Identify the layout of the poster.\n",
    "  3. Identify the famous celebrities mentioned in the poster.\n",
    "  4. Identify the fictional characters mentioned in the poster.\n",
    "  5. Identify the animate objects in the poster.\n",
    "  6. Identify the inanimate objects in the poster.\n",
    "  7. Identify the color scheme of the poster.\n",
    "  8. Identify the text in the image.\n",
    "\n",
    "JSON FORMAT\n",
    "{\n",
    "  \"border and frames\":[\"List of borders and frames in the image\"],\n",
    "  \"Layout\":[(How the visual elements, image and text are arranged in the poster)],\n",
    "  \"Famous celebrities\":[List of famous celebrities in the poster],\n",
    "  \"Fictional characters\":[List of fictional characters in the poster],\n",
    "  \"animate objects\":[List of animate objects in the poster],\n",
    "  \"inanimate objects\":[List of inanimate objects in the poster],\n",
    "  \"color scheme\":[List of colors used in the poster],\n",
    "  \"text\" : [text in the image]\n",
    "}\n",
    ">>> Give the reponse in json format. There is no need to write other info other than json not even ticks.\n",
    "Also avoid using quotes and new line characters inside json values as it may give json parsing error while doing json.dumps(<your output>)\n",
    "You should not use instances like {\"text\":[\"THis \\\\n is \"quotes in quotes\" \"]}. \n",
    "Example output : \n",
    "{\n",
    "  \"border and frames\": [\"Orange border with Black dots\"],\n",
    "  \"Layout\": [\"The poster has a bathtub with a man in it. The bathtub is in a bathroom. The man is wearing a suit and has a drink in his hand. The title of the movie is at the bottom of the poster. The names of the cast are listed below the title.\"],\n",
    "  \"Famous celebrities\": [\"Dudley Moore\", \"Liza Minnelli\", \"John Gielgud\"],\n",
    "  \"Fictional characters\": [\"Medusa\", \"Scooby doo\"],\n",
    "  \"animate objects\": [\"Man\"],\n",
    "  \"inanimate objects\": [\"Bathtub\", \"Drink\"],\n",
    "  \"color scheme\": [\"Brown\", \"Black\", \"Orange\"],\n",
    "  \"text\":[ \"Don't you wish you were Arthur?\",\"Arthur\"]\n",
    "}\n",
    "\n",
    "\"\"\""
   ]
  },
  {
   "cell_type": "code",
   "execution_count": null,
   "metadata": {},
   "outputs": [],
   "source": [
    "prompt_for_landscape = \"\"\"You are given an image of a landscape. Do the following:\n",
    "1. Identify the type of landscape.\n",
    "2. Identify the objects in the landscape.\n",
    "3. Identify the landmarks in the landscape.\n",
    "4. Identify the buildings in the landscape.\n",
    "5. Identify the architecture type in the landscape.   \n",
    "6. Write the image attributes and objects in json format. Example of json is given under the heading \"JSON Template\"\n",
    "\n",
    "JSON Template\n",
    "{\n",
    "  \"landscape type\": \"Type of landscape\",\n",
    "  \"animate objects\":[List of animate objects in the landscape],\n",
    "  \"inanimate objects\":[List of inanimate objects in the landscape],\n",
    "  \"recognisable landmarks\":[List of recognisable landmarks in the landscape],\n",
    "  \"recognisable buildings\":[List of recognisable buildings in the landscape],\n",
    "  \"architecture type\":[List of architecture types in the landscape]\n",
    "}\n",
    ">>> Give the reponse in json format. There is no need to write other info other than json not even ticks.\n",
    "Also avoid using quotes and new line characters inside json values as it may give json parsing error while doing json.dumps(<your output>)\n",
    "You should not use instances like {\"text\":[\"THis \\\\n  is \"quotes in quotes\" \"]}\n",
    "\n",
    "Example Output :\n",
    "{\n",
    "    \"landscape type\": \"City\",\n",
    "    \"animate objects\": [\"People\", \"Birds\"],\n",
    "    \"inanimate objects\": [\"Buildings\", \"Cars\", \"Trees\"],\n",
    "    \"recognisable landmarks\": [\"Erasmusbrug\", \"De Rotterdam\", \"Euromast\"],\n",
    "    \"recognisable buildings\": [\"De Rotterdam\", \"KPN Telecom Building\", \"Maastoren\"],\n",
    "    \"architecture type\": [\"Modern\", \"Contemporary\"]\n",
    "}\n",
    "\n",
    "\n",
    "\"\"\""
   ]
  },
  {
   "cell_type": "code",
   "execution_count": null,
   "metadata": {},
   "outputs": [],
   "source": [
    "poster_images = [k for k, v in all_images.items() if v == 'poster']\n",
    "poster_paths = {k: v for k, v in query_img_to_path.items()\n",
    "                if k in poster_images}"
   ]
  },
  {
   "cell_type": "code",
   "execution_count": null,
   "metadata": {},
   "outputs": [],
   "source": []
  },
  {
   "cell_type": "code",
   "execution_count": null,
   "metadata": {},
   "outputs": [],
   "source": [
    "landscape_images = [k for k, v in all_images.items() if v == 'landscape']\n",
    "landscape_paths = {k: v for k, v in query_img_to_path.items()\n",
    "                   if k in landscape_images}"
   ]
  },
  {
   "cell_type": "code",
   "execution_count": null,
   "metadata": {},
   "outputs": [],
   "source": [
    "seal_images = [k for k, v in all_images.items() if v !=\n",
    "               'poster' and v != 'landscape']\n",
    "seal_paths = {k: v for k, v in query_img_to_path.items() if k in seal_images}"
   ]
  },
  {
   "cell_type": "code",
   "execution_count": null,
   "metadata": {},
   "outputs": [],
   "source": [
    "len(poster_paths), len(landscape_paths), len(seal_paths)"
   ]
  },
  {
   "cell_type": "code",
   "execution_count": null,
   "metadata": {},
   "outputs": [],
   "source": [
    "poster_paths"
   ]
  },
  {
   "cell_type": "code",
   "execution_count": null,
   "metadata": {},
   "outputs": [],
   "source": [
    "# now we will create the prompt file for each image type\n",
    "prompts = []\n",
    "PATH = '/home/turning/refactored_images/'\n",
    "for v in set(poster_paths.values()):\n",
    "\n",
    "    prompts.append((prompt_for_poster, v))\n",
    "\n",
    "for v in set(landscape_paths.values()):\n",
    "\n",
    "    prompts.append((prompt_for_landscape, PATH+v))\n",
    "    print(PATH + v)\n",
    "\n",
    "for v in set(seal_paths.values()):\n",
    "\n",
    "    prompts.append((prompts_flag_seal, PATH+v))\n",
    "    print(PATH + v)"
   ]
  },
  {
   "cell_type": "code",
   "execution_count": null,
   "metadata": {},
   "outputs": [],
   "source": [
    "# len(prompts), len(poster_paths), len(landscape_paths), len(seal_paths)"
   ]
  },
  {
   "cell_type": "code",
   "execution_count": null,
   "metadata": {},
   "outputs": [],
   "source": [
    "json.dump(prompts, open(\n",
    "    '/home/turning/Jainit/SM/GptQueries/visual_qs/ftq/nd/ftq_explict_categories_prompts.json', 'w'))"
   ]
  },
  {
   "cell_type": "code",
   "execution_count": null,
   "metadata": {},
   "outputs": [],
   "source": [
    "# json.dump(prompts[:10], open('/home/turning/Jainit/SM/GptQueries/visual_qs/ftq/ftq_images_test_prompts_10.json', 'w'))"
   ]
  },
  {
   "cell_type": "code",
   "execution_count": null,
   "metadata": {},
   "outputs": [],
   "source": [
    "# #RERUN for landscapes\n",
    "# landscape_prompts = []\n",
    "# for  v in set(landscape_paths.values()):\n",
    "#     landscape_prompts.append((prompt_for_landscape, PATH+v))"
   ]
  },
  {
   "cell_type": "code",
   "execution_count": null,
   "metadata": {},
   "outputs": [],
   "source": [
    "# #json.dump(landscape_prompts, open('/home/turning/Jainit/SM/GptQueries/visual_qs/wtq_landscape_prompts.json', 'w'))"
   ]
  },
  {
   "cell_type": "code",
   "execution_count": null,
   "metadata": {},
   "outputs": [],
   "source": []
  },
  {
   "cell_type": "code",
   "execution_count": null,
   "metadata": {},
   "outputs": [],
   "source": [
    "\n",
    "results = json.load(open(\n",
    "    '/home/turning/Jainit/SM/GptQueries/visual_qs/ftq/nd/ftq_explict_categories_prompts.json.results.json', 'r'))"
   ]
  },
  {
   "cell_type": "code",
   "execution_count": null,
   "metadata": {},
   "outputs": [],
   "source": [
    "all_results_dict = {}\n",
    "\n",
    "for r in results:\n",
    "    all_results_dict.update({r[0]: r[1]})"
   ]
  },
  {
   "cell_type": "code",
   "execution_count": null,
   "metadata": {},
   "outputs": [],
   "source": [
    "# #json.dump(all_results_dict, open('/home/turning/Jainit/SM/GptQueries/visual_qs/wtq_explict_categories_image_results.json', 'w'))"
   ]
  },
  {
   "cell_type": "code",
   "execution_count": null,
   "metadata": {},
   "outputs": [],
   "source": [
    "def text_to_dict(key, text):\n",
    "    if text is None:\n",
    "        return None\n",
    "    if not isinstance(text, str) and text[1] is None:\n",
    "        return None\n",
    "    # take the text from first { to last }\n",
    "    # Remove the code block syntax if present\n",
    "    text = text.replace(\"```json\\n\", \"\").replace(\"\\n```\", \"\")\n",
    "    text = text.replace(\"```JSON\\n\", \"\").replace(\"\\n```\", \"\")\n",
    "    text = text.replace(\"```\", \"\")\n",
    "    # text = text.replace(\"\\n\", \" \")\n",
    "    if \"This is not a movie poster\" in text:\n",
    "        return {\"imagetype\": \"This is not a movie poster\"}\n",
    "    text = text[text.find(\"{\"):text.rfind(\"}\")+1]\n",
    "    # Convert the string to a dictionary\n",
    "    try:\n",
    "        # Since the input text is expected to be in JSON format, we can use json.loads\n",
    "        dict_obj = json.loads(text)\n",
    "        return dict_obj\n",
    "    except Exception as e:\n",
    "\n",
    "        # print(key)\n",
    "        # print(text)\n",
    "\n",
    "        return text"
   ]
  },
  {
   "cell_type": "code",
   "execution_count": null,
   "metadata": {},
   "outputs": [],
   "source": [
    "parsed_results = {}\n",
    "None_results = []\n",
    "\n",
    "\n",
    "None_results = []\n",
    "for r in all_results_dict.items():\n",
    "    parsed_dict = text_to_dict(r[0], r[1])\n",
    "    if parsed_dict == None:\n",
    "        # print(r[1])\n",
    "        None_results.append((r[0], r[1]))\n",
    "    if isinstance(parsed_dict, str):\n",
    "        print(str(parsed_dict))\n",
    "\n",
    "    parsed_results.update({r[0]: parsed_dict})"
   ]
  },
  {
   "cell_type": "code",
   "execution_count": null,
   "metadata": {},
   "outputs": [],
   "source": [
    "for k, v in parsed_results.items():\n",
    "    if not isinstance(v, dict) and v != \"\" and v is not None:\n",
    "        print(k)\n",
    "        print(v)\n",
    "        print(\"\\n\\n\\n\")"
   ]
  },
  {
   "cell_type": "code",
   "execution_count": null,
   "metadata": {},
   "outputs": [],
   "source": [
    "# parsed_results = json.load(open('/home/turning/Jainit/SM/GptQueries/visual_qs/ftq/od/ftq_explict_categories_image_results_parsed.json', 'r'))"
   ]
  },
  {
   "cell_type": "code",
   "execution_count": null,
   "metadata": {},
   "outputs": [],
   "source": []
  },
  {
   "cell_type": "code",
   "execution_count": null,
   "metadata": {},
   "outputs": [],
   "source": [
    "for k, v in correct_dict.items():\n",
    "    # if k not in parsed_results:\n",
    "    parsed_results.update({k: v})"
   ]
  },
  {
   "cell_type": "code",
   "execution_count": null,
   "metadata": {},
   "outputs": [],
   "source": [
    "len(parsed_results)"
   ]
  },
  {
   "cell_type": "code",
   "execution_count": null,
   "metadata": {},
   "outputs": [],
   "source": [
    "# parsed_results = json.load(open('/home/turning/Jainit/SM/GptQueries/visual_qs/ftq/ftq_explict_categories_image_results.json', 'r'))"
   ]
  },
  {
   "cell_type": "code",
   "execution_count": null,
   "metadata": {},
   "outputs": [],
   "source": [
    "# pickle.dump(parsed_results, open('/home/turning/Jainit/SM/GptQueries/visual_qs/ftq/nd/ftq_explict_categories_image_results_parsed.pkl', 'wb'))"
   ]
  },
  {
   "cell_type": "code",
   "execution_count": null,
   "metadata": {},
   "outputs": [],
   "source": [
    "parsed_results = pickle.load(open(\n",
    "    '/home/turning/Jainit/SM/GptQueries/visual_qs/ftq/nd/ftq_explict_categories_image_results_parsed.pkl', 'rb'))"
   ]
  },
  {
   "cell_type": "code",
   "execution_count": null,
   "metadata": {},
   "outputs": [],
   "source": [
    "parsed_results.update(json.load(\n",
    "    open(\"/home/turning/Jainit/SM/GptQueries/visual_qs/all_results_parsed.json\")))"
   ]
  },
  {
   "cell_type": "code",
   "execution_count": null,
   "metadata": {},
   "outputs": [],
   "source": [
    "parsed_results"
   ]
  },
  {
   "cell_type": "code",
   "execution_count": null,
   "metadata": {},
   "outputs": [],
   "source": [
    "\n",
    "prompt_for_uniq1 = \"\"\"\n",
    "You are given descriptions of various images. These images are divided into two types - \"KEY\" image and \"NON-KEY\" images.\n",
    "The visual attributes of the \"KEY\" are listed under the heading \"KEY IMAGE ATTRIBUTES\" and the visual attributes of the \"NON-KEY\" images are listed under the heading \"NON-KEY IMAGE ATTRIBUTES\".\n",
    "You should do the following:\n",
    "1. Observe the visual attributes of the \"KEY\" image and the \"NON-KEY\" images. Observe all types of attributes especially non-\"text\" ones.\n",
    "2. Find all the attributes from all the categories which are present in \"KEY\" Image but are not present in any of the \"NON-KEY\" images.\n",
    "3. Find all such attributes and store them in a json format. Example of json is given under the heading \"JSON FORMAT\".\n",
    "\n",
    "\n",
    "\n",
    ">>> Give the reponse in json format. There is no need to write other info other than json not even ticks.\n",
    "Also avoid using quotes and new line characters inside json values as it may give json parsing error while doing json.dumps(<your output>)\n",
    "You should not use instances like {\"text\":[\"This \\\\n is \"quotes in quotes\" \"]}.\n",
    " \n",
    "JSON FORMAT: \n",
    "{ \"Image Type\": \"<Image Type of Key Image>\", \"Unique attributes\": { \"<attribute1>\": [\"<value1>\", \"<value2>\", \"<value3>\", ...], \"<attribute2>\": [\"<value1>\", \"<value2>\", \"<value3>\", ...], ... } }\n",
    "\n",
    "\n",
    "\n",
    "Example 1: \n",
    "\n",
    "KEY Image Attributes: \n",
    "\n",
    "{\n",
    "  \"imagetype\": \"badge\",\n",
    "  \"colour\": [\n",
    "    \"black\",\n",
    "    \"white\",\n",
    "    \"yellow\"\n",
    "  ],\n",
    "  \"animate_objects\": [\n",
    "    \"monkey\"\n",
    "  ],\n",
    "  \"inanimate_objects\": [\n",
    "    \"soccer ball\"\n",
    "  ],\n",
    "  \"text\": [\n",
    "    \"Port Vale F.C.\"\n",
    "  ]\n",
    "}\n",
    "NON-KEY Images Attributes: \n",
    "\n",
    "NON-KEY Image 1 Attributes :\n",
    " {\n",
    "  \"imagetype\": \"logo\",\n",
    "  \"shape\": [\n",
    "    \"circle\"\n",
    "  ],\n",
    "  \"colour\": [\n",
    "    \"blue\",\n",
    "    \"white\",\n",
    "    \"green\",\n",
    "    \"yellow\",\n",
    "    \"brown\"\n",
    "  ],\n",
    "  \"animate_objects\": [\n",
    "    \"tree\"\n",
    "  ],\n",
    "  \"inanimate_objects\": [\n",
    "    \"crown\",\n",
    "    \"soccer ball\"\n",
    "  ],\n",
    "  \"text\": [\n",
    "    \"wigan\",\n",
    "    \"athletic\",\n",
    "    \"1932\"\n",
    "  ]\n",
    "}\n",
    "\n",
    "\n",
    "Unique Attributes : \n",
    "{\n",
    "  \"imagetype\": \"badge\",\n",
    "  \n",
    "  \"Unique attributes\": {\n",
    "  \"colour\": [\n",
    "    \"black\",],\n",
    "  \"animate_objects\": [\n",
    "    \"monkey\"\n",
    "  ],\n",
    "  \"inanimate_objects\": [],\n",
    "  \"text\": [\n",
    "    \"Port Vale F.C.\"\n",
    "  ]\n",
    "  }\n",
    "}\n",
    "\n",
    "\n",
    "Example  2: \n",
    "KEY Image Attributes 2: \n",
    "\n",
    "{\n",
    "  \"landscape type\": \"City\",\n",
    "  \"animate objects\": [\n",
    "    \"People\",\n",
    "    \"Birds\"\n",
    "  ],\n",
    "  \"inanimate objects\": [\n",
    "    \"Buildings\",\n",
    "    \"Cars\",\n",
    "    \"Trees\",\n",
    "    \"Water\",\n",
    "    \"Sky\"\n",
    "  ],\n",
    "  \"recognisable landmarks\": [\n",
    "    \"Helsinki Cathedral\",\n",
    "    \"Suomenlinna\",\n",
    "    \"Kiasma Museum of Contemporary Art\"\n",
    "  ],\n",
    "  \"recognisable buildings\": [\n",
    "    \"Helsinki Cathedral\",\n",
    "    \"Government Palace\",\n",
    "    \"Kiasma Museum of Contemporary Art\"\n",
    "  ],\n",
    "  \"architecture type\": [\n",
    "    \"Neoclassical\",\n",
    "    \"Modern\",\n",
    "    \"Contemporary\"\n",
    "  ]\n",
    "}\n",
    "NON-KEY Images Attributes : \n",
    "\n",
    "NON-KEY Image 1 Attributes :\n",
    " {\n",
    "  \"landscape type\": \"City\",\n",
    "  \"animate objects\": [\n",
    "    \"People\",\n",
    "    \"Birds\"\n",
    "  ],\n",
    "  \"inanimate objects\": [\n",
    "    \"Buildings\",\n",
    "    \"Cars\",\n",
    "    \"Trees\",\n",
    "    \"Fountain\"\n",
    "  ],\n",
    "  \"recognisable landmarks\": [\n",
    "    \"Aso Rock\",\n",
    "    \"National Mosque\",\n",
    "    \"Maitama\"\n",
    "  ],\n",
    "  \"recognisable buildings\": [\n",
    "    \"National Mosque\",\n",
    "    \"CBN Headquarters\",\n",
    "    \"NASS Complex\"\n",
    "  ],\n",
    "  \"architecture type\": [\n",
    "    \"Modern\",\n",
    "    \"Contemporary\",\n",
    "    \"Sudanese\"\n",
    "  ]\n",
    "}\n",
    "NON-KEY Image 2 Attributes :\n",
    " {\n",
    "  \"landscape type\": \"City\",\n",
    "  \"animate objects\": [\n",
    "    \"People\"\n",
    "  ],\n",
    "  \"inanimate objects\": [\n",
    "    \"Buildings\",\n",
    "    \"Monuments\"\n",
    "  ],\n",
    "  \"recognisable landmarks\": [\n",
    "    \"Temple of Heaven\",\n",
    "    \"Tiananmen Square\",\n",
    "    \"Great Wall of China\",\n",
    "    \"National Centre for the Performing Arts\"\n",
    "  ],\n",
    "  \"recognisable buildings\": [\n",
    "    \"Temple of Heaven\",\n",
    "    \"Tiananmen Square\",\n",
    "    \"Great Wall of China\",\n",
    "    \"National Centre for the Performing Arts\"\n",
    "  ],\n",
    "  \"architecture type\": [\n",
    "    \"Ancient Chinese\",\n",
    "    \"Modern Chinese\"\n",
    "  ]\n",
    "}\n",
    "NON-KEY Image 3 Attributes :\n",
    " {\n",
    "  \"landscape type\": \"City\",\n",
    "  \"animate objects\": [\n",
    "    \"People\"\n",
    "  ],\n",
    "  \"inanimate objects\": [\n",
    "    \"Buildings\",\n",
    "    \"Cars\",\n",
    "    \"Trees\",\n",
    "    \"Statues\"\n",
    "  ],\n",
    "  \"recognisable landmarks\": [\n",
    "    \"Charminar\",\n",
    "    \"Golconda Fort\",\n",
    "    \"Hussain Sagar Lake\",\n",
    "    \"Birla Mandir Temple\",\n",
    "    \"Qutub Shahi Tombs\",\n",
    "    \"Lumbini Park\"\n",
    "  ],\n",
    "  \"recognisable buildings\": [\n",
    "    \"Charminar\",\n",
    "    \"Golconda Fort\",\n",
    "    \"Hussain Sagar Lake\",\n",
    "    \"Birla Mandir Temple\",\n",
    "    \"Qutub Shahi Tombs\",\n",
    "    \"Lumbini Park\"\n",
    "  ],\n",
    "  \"architecture type\": [\n",
    "    \"Modern\",\n",
    "    \"Contemporary\"\n",
    "  ]\n",
    "}\n",
    "\n",
    "Unique Attributes: \n",
    "\n",
    "{\n",
    "  \"landscape type\": \"City\",\n",
    "  \"Unique attributes\": {\n",
    "      \"recognisable landmarks\": [\n",
    "      \"Helsinki Cathedral\",\n",
    "      \"Suomenlinna\",\n",
    "      \"Kiasma Museum of Contemporary Art\"\n",
    "      ],\n",
    "      \"recognisable buildings\": [\n",
    "      \"Helsinki Cathedral\",\n",
    "      \"Government Palace\",\n",
    "      \"Kiasma Museum of Contemporary Art\"\n",
    "      ],\n",
    "      \"architecture type\": [\n",
    "      \"Neoclassical\"\n",
    "      ]\n",
    "      }\n",
    "}\n",
    "Here in the above examples, the unique attributes are such that they are present in \"KEY\" Image but these attributes are not present in any of the \"NON-KEY\" images and the attributes are considered. Do not mention any attributes which are not present in the KEY image attributes.\n",
    "Now based upon above examples perform the task below:\n",
    "\n",
    "KEY Image Attributes: \n",
    "\n",
    "\"\"\"\n",
    "\n",
    "prompt_for_uniq2 = \"\"\"\n",
    "NON-KEY Images Attributes: \n",
    "\n",
    "\"\"\"\n",
    "\n",
    "Example_string = \"\"\"\n",
    "Unique Attributes:\n",
    "\n",
    "\"\"\""
   ]
  },
  {
   "cell_type": "code",
   "execution_count": null,
   "metadata": {},
   "outputs": [],
   "source": []
  },
  {
   "cell_type": "code",
   "execution_count": null,
   "metadata": {},
   "outputs": [],
   "source": [
    "parsed_dict_from_id = {}\n",
    "PATH = '/home/turning/Jainit/SM/GptQueries/visual_qs/ftq/'\n",
    "PATH2 = '/home/turning/refactored_images/'\n",
    "not_in_results = []\n",
    "for k, v in query_img_to_path.items():\n",
    "    try:\n",
    "        if k in poster_ids:\n",
    "            parsed_dict_from_id.update({k: parsed_results[PATH2+v]})\n",
    "        else:\n",
    "            parsed_dict_from_id.update({k: parsed_results[PATH+v]})\n",
    "    except Exception as e:\n",
    "        print(e)\n",
    "        not_in_results.append((k, v))\n",
    "        print(k, v)"
   ]
  },
  {
   "cell_type": "code",
   "execution_count": null,
   "metadata": {},
   "outputs": [],
   "source": [
    "len(parsed_dict_from_id), len(not_in_results)"
   ]
  },
  {
   "cell_type": "code",
   "execution_count": null,
   "metadata": {},
   "outputs": [],
   "source": [
    "questions[('12054', 'stoke')]"
   ]
  },
  {
   "cell_type": "code",
   "execution_count": null,
   "metadata": {},
   "outputs": [],
   "source": [
    "Unique_attributes_prompts = {}\n",
    "\n",
    "for question in questions:\n",
    "    try:\n",
    "        key_image_id = questions[question]['original_entity'][0][0]\n",
    "        key_image_attributes = parsed_dict_from_id[key_image_id]\n",
    "        unique_paths = [query_img_to_path[key_image_id]]\n",
    "\n",
    "        other_images = []\n",
    "        for imgs in questions[question]['all_images']:\n",
    "            if query_img_to_path[imgs[0]] in unique_paths:\n",
    "                continue\n",
    "            other_images.append(imgs[0])\n",
    "            unique_paths.append(query_img_to_path[imgs[0]])\n",
    "        other_images_attributes = [parsed_dict_from_id[img]\n",
    "                                   for img in other_images if img in parsed_dict_from_id]\n",
    "        key_attr_string = json.dumps(key_image_attributes, indent=2)\n",
    "\n",
    "        other_attr_string = \"\"\n",
    "        for i, img in enumerate(other_images):\n",
    "            other_attr_string += f\"NON-KEY Image {i+1} Attributes :\\n {json.dumps(parsed_dict_from_id[img], indent=2)}\\n\"\n",
    "\n",
    "        prompt = prompt_for_uniq1 + key_attr_string + \\\n",
    "            prompt_for_uniq2 + other_attr_string + Example_string\n",
    "\n",
    "        Unique_attributes_prompts.update({question[0]+\":\"+question[1]: prompt})\n",
    "        # print(prompt)|\n",
    "        if question[0]+\":\"+question[1] == '9314:doctor who':\n",
    "            print(unique_paths)\n",
    "    except:\n",
    "        # print(question)\n",
    "        # print(key_image_id)\n",
    "        # print(other_images)\n",
    "        # print(key_image_attributes)\n",
    "        # print(other_images_attributes)\n",
    "        # print(\"\\n   \\n\")\n",
    "        pass"
   ]
  },
  {
   "cell_type": "code",
   "execution_count": null,
   "metadata": {},
   "outputs": [],
   "source": [
    "questions[('9314', 'doctor who')]"
   ]
  },
  {
   "cell_type": "code",
   "execution_count": null,
   "metadata": {},
   "outputs": [],
   "source": [
    "print(test_prompts['9314:doctor who'])"
   ]
  },
  {
   "cell_type": "code",
   "execution_count": null,
   "metadata": {},
   "outputs": [],
   "source": [
    "json.dump(Unique_attributes_prompts, open(\"ftq_unique_prompts.json\", \"w\"))"
   ]
  },
  {
   "cell_type": "code",
   "execution_count": null,
   "metadata": {},
   "outputs": [],
   "source": [
    "# create a test dict of unique attribbutes prompts\n",
    "st = \"15673:chicago black hawks\"\n",
    "\n",
    "test_prompts = {}\n",
    "test_prompts.update({st: Unique_attributes_prompts[st]})\n",
    "i = 0\n",
    "for k, v in Unique_attributes_prompts.items():\n",
    "    test_prompts.update({k: v})\n",
    "    i += 1\n",
    "    if i == 100:\n",
    "        break"
   ]
  },
  {
   "cell_type": "code",
   "execution_count": null,
   "metadata": {},
   "outputs": [],
   "source": [
    "json.dump(test_prompts, open(\n",
    "    '/home/turning/Jainit/SM/GptQueries/visual_qs/ftq/nd/ftq_explict_categories_unique_attributes_test_prompts_new.json', 'w'))"
   ]
  },
  {
   "cell_type": "code",
   "execution_count": null,
   "metadata": {},
   "outputs": [],
   "source": [
    "import json\n",
    "with open('/home/turning/Jainit/SM/GptQueries/visual_qs/ftq/nd/ftq_explict_categories_unique_attributes_test_prompts_new.json', 'r') as f:\n",
    "    test_prompts = json.load(f)"
   ]
  },
  {
   "cell_type": "code",
   "execution_count": null,
   "metadata": {},
   "outputs": [],
   "source": [
    "print(Unique_attributes_prompts['14619:shaun of the dead'])"
   ]
  },
  {
   "cell_type": "code",
   "execution_count": null,
   "metadata": {},
   "outputs": [],
   "source": [
    "test_prompts_results = json.load(open(\n",
    "    '/home/turning/Jainit/SM/GptQueries/visual_qs/ftq/nd/ftq_explict_categories_unique_attributes_test_prompts.json.results.json', 'r'))"
   ]
  },
  {
   "cell_type": "code",
   "execution_count": null,
   "metadata": {},
   "outputs": [],
   "source": [
    "test_prompts_results_dict = {}\n",
    "\n",
    "for r in test_prompts_results:\n",
    "    parsed_dict = text_to_dict(r[0], r[1])\n",
    "    if parsed_dict == None:\n",
    "        print(r[1])\n",
    "    if isinstance(parsed_dict, str):\n",
    "        print(str(parsed_dict))\n",
    "    print(r[0])\n",
    "    print(test_prompts[r[0]])\n",
    "    test_prompts_results_dict.update({r[0]: parsed_dict})"
   ]
  },
  {
   "cell_type": "code",
   "execution_count": null,
   "metadata": {},
   "outputs": [],
   "source": [
    "from pprint import pprint\n",
    "\n",
    "pprint(test_prompts_results_dict)"
   ]
  },
  {
   "cell_type": "code",
   "execution_count": null,
   "metadata": {},
   "outputs": [],
   "source": [
    "json.dump(Unique_attributes_prompts, open(\n",
    "    '/home/turning/Jainit/SM/GptQueries/visual_qs/ftq/nd/ftq_explict_categories_unique_attributes_prompts.json', 'w'))"
   ]
  },
  {
   "cell_type": "code",
   "execution_count": null,
   "metadata": {},
   "outputs": [],
   "source": []
  },
  {
   "cell_type": "code",
   "execution_count": null,
   "metadata": {},
   "outputs": [],
   "source": [
    "for i, (key, prompt) in enumerate(Unique_attributes_prompts.items()):\n",
    "    print(i, key, prompt)\n",
    "    print(1)"
   ]
  },
  {
   "cell_type": "code",
   "execution_count": null,
   "metadata": {},
   "outputs": [],
   "source": [
    "unique_attributes = json.load(open(\n",
    "    '/home/turning/Jainit/SM/GptQueries/visual_qs/all_unique_attrs_parsed_latest.json', 'r'))"
   ]
  },
  {
   "cell_type": "code",
   "execution_count": null,
   "metadata": {},
   "outputs": [],
   "source": [
    "unique_attributes_dict = {}\n",
    "\n",
    "for r in unique_attributes:\n",
    "    unique_attributes_dict.update({r[0]: text_to_dict(r[0], r[1])})"
   ]
  },
  {
   "cell_type": "code",
   "execution_count": null,
   "metadata": {},
   "outputs": [],
   "source": [
    "len(unique_attributes_dict), len(questions)"
   ]
  },
  {
   "cell_type": "code",
   "execution_count": null,
   "metadata": {},
   "outputs": [],
   "source": [
    "len(unique_attributes_dict)"
   ]
  },
  {
   "cell_type": "code",
   "execution_count": null,
   "metadata": {},
   "outputs": [],
   "source": [
    "for k, v in unique_attributes_dict.items():\n",
    "    if not isinstance(v, dict) and v != \"\" and v is not None:\n",
    "        print(k)\n",
    "        print(v)\n",
    "        print(\"\\n\\n\\n\")"
   ]
  },
  {
   "cell_type": "code",
   "execution_count": null,
   "metadata": {},
   "outputs": [],
   "source": [
    "# json.dump(unique_attributes_dict, open(\n",
    "    # '/home/turning/Jainit/SM/GptQueries/visual_qs/all_unique_attrs_parsed_latest.json', 'w'))"
   ]
  },
  {
   "cell_type": "code",
   "execution_count": null,
   "metadata": {},
   "outputs": [],
   "source": [
    "pprint(unique_attributes_dict)"
   ]
  },
  {
   "cell_type": "code",
   "execution_count": null,
   "metadata": {},
   "outputs": [],
   "source": [
    "question_making_prompt = \"\"\"\n",
    "Your task is to rephrase the original question using image attributes of an entity mentioned in the question.\n",
    "You will be given the original question, the entity mentioned to be replaced, the image attributes of the entity that is to be replaced and also the image type whether it is a landscape, a flag, a poster, a logo, a seal, etc.\n",
    "Make sure you use these important points: \n",
    "1. Use only the mentioned image attributes to rephrase the question. Avoid using any other image attributes which are not given.\n",
    "3. The rephrased question should be in the form of a question and should be grammatically correct.\n",
    "3. The rephrased question should be such that the answer does not change. This is very important. \n",
    "4. The response should be in JSON format with the rephrased question, the entity and the attributes used to rephrase the question.\n",
    "5. The rephrased question should be such that it is not too similar to the original question and also the answer the question is trying to ask SHOULD NOT CHANGE.\n",
    "6. Do not assume any information. Only use the information given in the image attributes. You can return an empty string for the rephrased question if you think it is not possible to rephrase the question using the given image attributes without writing the entity's name.\n",
    "7. The answer to rephrased question should be same as original question i.e. the semantic meaning of question should not change.\n",
    "8. You can use any attributes landmarks, buildings, shape, color, animate objects, inanimate objects, fictional characters, etc. mentioned in the image attributes dict to rephrase the question.\n",
    "The rephrased question should not contain any instance of string \"{entity_name}\". This is the most crucial thing.\n",
    "Take a look at the examples below and then proceed to the task.\n",
    "\n",
    "\"\"\"\n",
    "question_warning = \"\"\"\n",
    ">>> Give the reponse in json format. There is no need to write other info other than json not even ticks.\n",
    "Also avoid using quotes and new line characters inside json values as it may give json parsing error while doing json.dumps(<your output>)\n",
    "You should not use instances like {\\\"text\\\":[\\\"THis \\\\n is \\\"quotes in quotes\\\" \\\"]}. \n",
    "The json format of your response should be \n",
    "\"\"\"\n",
    "question3 = \"\"\"\n",
    "{\\\"Original Question\\\":Question which is provided to you , \\\"Rephrased Question\\\": The rephrased question , \\\"Entity\\\": The entity that is to be replaced, \\\"Used Attributes\\\":\\\"The attributes you used to make the rephrased question\\\" }'\n",
    "\n",
    "Example 1 Input :\n",
    "\n",
    "\"\"\""
   ]
  },
  {
   "cell_type": "code",
   "execution_count": null,
   "metadata": {},
   "outputs": [],
   "source": [
    "unique_attributes_dict = json.load(open('/home/turning/Jainit/SM/GptQueries/visual_qs/all_unique_attrs_parsed_latest.json'))"
   ]
  },
  {
   "cell_type": "code",
   "execution_count": null,
   "metadata": {},
   "outputs": [],
   "source": [
    "unique_attributes"
   ]
  },
  {
   "cell_type": "code",
   "execution_count": null,
   "metadata": {},
   "outputs": [],
   "source": [
    "# in unique_attributes_dict, iterate over each value and remove image_type from it\n",
    "\n",
    "# for k, v in unique_attributes_dict.items():\n",
    "#     try:\n",
    "#         for key, value in v.items():\n",
    "#             if key == \"unique_attributes\":\n",
    "#                 if \"image_type\" in value:\n",
    "#                     value.pop(\"image_type\")\n",
    "#                 if \"imagetype\" in value:\n",
    "#                     value.pop(\"imagetype\")\n",
    "#     except:\n",
    "\n",
    "#         pass"
   ]
  },
  {
   "cell_type": "code",
   "execution_count": null,
   "metadata": {},
   "outputs": [],
   "source": [
    "# json.dump(unique_attributes_dict, open('/home/turning/Jainit/SM/GptQueries/visual_qs/ftq/ftq_uniq_attr.json', 'w'))"
   ]
  },
  {
   "cell_type": "code",
   "execution_count": null,
   "metadata": {},
   "outputs": [],
   "source": [
    "# unique_attributes_dict = json.load(open('/home/turning/Jainit/SM/GptQueries/visual_qs/ftq/ftq_uniq_attr.json', 'r'))"
   ]
  },
  {
   "cell_type": "code",
   "execution_count": null,
   "metadata": {},
   "outputs": [],
   "source": [
    "path = \"/home/turning/Jainit/SM/GptQueries/visual_qs/ftq/nd/questions.jsonl\"\n",
    "\n",
    "questions_list = {}\n",
    "with open(path, 'r') as f:\n",
    "    for line in f:\n",
    "        aa = json.loads(line)\n",
    "        questions_list.update({aa['question_id']: aa['question']})"
   ]
  },
  {
   "cell_type": "code",
   "execution_count": null,
   "metadata": {},
   "outputs": [],
   "source": [
    "unique_attributes_dict[\"15673:chicago black hawks\"]"
   ]
  },
  {
   "cell_type": "code",
   "execution_count": null,
   "metadata": {},
   "outputs": [],
   "source": [
    "questions_list = {str(k): v for k, v in questions_list.items()}"
   ]
  },
  {
   "cell_type": "code",
   "execution_count": null,
   "metadata": {},
   "outputs": [],
   "source": [
    "questions_list['15673']"
   ]
  },
  {
   "cell_type": "code",
   "execution_count": null,
   "metadata": {},
   "outputs": [],
   "source": [
    "question_1 = \"20845:liverpool\"\n",
    "# question_1 = \"nt-13107:Buick\"\n",
    "\n",
    "questions_list[question_1.split(\":\")[0]]"
   ]
  },
  {
   "cell_type": "code",
   "execution_count": null,
   "metadata": {},
   "outputs": [],
   "source": [
    "q = questions_list[question_1.split(\":\")[0]]"
   ]
  },
  {
   "cell_type": "code",
   "execution_count": null,
   "metadata": {},
   "outputs": [],
   "source": [
    "unique_attributes_dict[question_1]"
   ]
  },
  {
   "cell_type": "code",
   "execution_count": null,
   "metadata": {},
   "outputs": [],
   "source": [
    "question2= \"\"\"\"{\"Original Question\":Which nominations did Fragment receive at the 2014 World Music Awards and what song were they for?, \"Entity_TO_BE_REPLACED\": \"Liverpool\", \"Image Attributes\": {\n",
    "  \"Image Type\": \"badge\",\n",
    "  \"Unique attributes\": {\n",
    "    \"colour\": [\n",
    "      \"red\"\n",
    "    ],\n",
    "    \"text\": [\n",
    "      \"You'll Never Walk Alone\",\n",
    "      \"Liverpool\",\n",
    "      \"Football Club\",\n",
    "      \"Est 1892\"\n",
    "    ],\n",
    "    \"animate_objects\": [\n",
    "      \"liver bird\"\n",
    "    ],\n",
    "    \"inanimate_objects\": [\n",
    "      \"flames\"\n",
    "    ]\n",
    "  }\n",
    "} }\n",
    "\n",
    "Example 1 Output:\n",
    "\n",
    "{ \"Original Question\":Which nominations did Fragment receive at the 2014 World Music Awards and what song were they for?, \"Rephrased Question\": \"When did David Martin play for the football club whose logo has bird and flames, in the Premier League?\", \"Entity\": \"Liverpool\", \"Used Attributes\": {\"animate objects\": [\"bird\"], \"inanimate objects\": [\"flames\"]}}\n",
    "\n",
    "Example 2 Input:\n",
    "\n",
    "{\"Original Question\":How many NHL games did Magnuson play for the Chicago Black Hawks in total, and how many scores did he make?, \"Entity_TO_BE_REPLACED\": \"Chicago Black Hawks\", \"Image Attributes\": {\n",
    "  \"Image Type\": \"logo\",\n",
    "  \"Unique attributes\": {\n",
    "    \"colour\": [\n",
    "      \"black\",\n",
    "      \"green\"\n",
    "    ],\n",
    "    \"animate_objects\": [\n",
    "      \"native american\"\n",
    "    ],\n",
    "    \"inanimate_objects\": [\n",
    "      \"feathers\"\n",
    "    ]\n",
    "  }\n",
    "} }\n",
    "\n",
    "Example 2 Output:\n",
    "\n",
    "{ \"Original Question\":How many NHL games did Magnuson play for the Chicago Black Hawks in total, and how many scores did he make?, \"Rephrased Question\": \"How many NHL games did Magnuson play for the football club whose logo has a head of a native american in total, and how many scores did he make?\", \"Entity\": \"Chicago Black Hawks\", \"Used Attributes\": { \"animate objects\": [\"head of a Native American\"] }}\n",
    "\n",
    "Example 3 Input:\n",
    "\n",
    "{\"Original Question\":Which nominations did Fragment receive at the 2014 World Music Awards and what song were they for?, \"Entity_TO_BE_REPLACED\": \"world music awards\", \"Image Attributes\": {\n",
    "  \"Image Type\": \"logo\",\n",
    "  \"Unique attributes\": {\n",
    "    \"colour\": [\n",
    "      \"black\"\n",
    "    ],\n",
    "    \"shape\": [\n",
    "      \"rectangle\"\n",
    "    ],\n",
    "    \"text\": [\n",
    "      \"world music awards\"\n",
    "    ],\n",
    "    \"animate_objects\": [],\n",
    "    \"inanimate_objects\": []\n",
    "  }\n",
    "}\n",
    "\n",
    "Example 3 Output:\n",
    "\n",
    "{ \"Original Question\":Which nominations did Fragment receive at the 2014 World Music Awards and what song were they for?, \"Rephrased Question\": \"Which nominations did Fragment receive at the event whose logo is rectangular and has black color in it, and what song were they for?\", \"Entity\": \"world music awards\", \"Used Attributes\": {\"colour\": [\"black\"],\"shape\":[\"rectangle\"] }}\n",
    "\n",
    "Example 4 Input: \n",
    "{\"Original Question\": \"which is deeper, lake tuz or lake palas tuzla?\", \"Entity\": \"Tuzla\", \"Image Attributes\": {\n",
    "\"Image Type\": \"City\",\n",
    "\"Unique attributes\": {\n",
    "\"animate objects\": [\n",
    "\"Birds\"\n",
    "],\n",
    "\"inanimate objects\": [\n",
    "\"Cars\",\n",
    "\"Trees\"\n",
    "],\n",
    "\"recognisable landmarks\": [\n",
    "\"Spomenik palim borcima NOR-a i \\u017ertvama fa\\u0161isti\\u010dkog terora\",\n",
    "\"Banski dvor\"\n",
    "],\n",
    "\"recognisable buildings\": [\n",
    "\"Gradska ku\\u0107a\"\n",
    "],\n",
    "\"architecture type\": [\n",
    "\"Contemporary\"\n",
    "]\n",
    "}\n",
    "}}\n",
    "\n",
    "Example 4 Output:\n",
    "\n",
    "{ \"Original Question\": \"which is deeper, lake tuz or lake palas tuzla?\", \"Rephrased Question\": \"which is deeper, lake tuz or the lake named after the city whose architecture is Contemporary and has Banski dvor as a landmark?\", \"Entity\": \"Tuzla\", \"Used Attributes\": {\"architecture type\": [\"Contemporary\"], \"recognisable landmarks\": [\"Banski dvor\"]}}\n",
    "As you can see in the above examples in none of the rephrased questions the name of entity to be replaced is mentioned. Now having seen some examples above make a rephrased question using its image attributes given below. \n",
    "\n",
    "Input:\n",
    "\n",
    "\"\"\""
   ]
  },
  {
   "cell_type": "code",
   "execution_count": null,
   "metadata": {},
   "outputs": [],
   "source": [
    "# inputt = f'{{\"Original Question\":{q}, \"Entity_TO_BE_REPLACED\": \"Liverpool\", \"Image Attributes\": {json.dumps(unique_attributes_dict[question_1], indent=2)} }}'\n",
    "# outputt = f'{{ \"Original Question\":{q}, \"Rephrased Question\": \"When did David Martin play for the football club whose logo has bird and flames, in the Premier League?\", \"Entity\": \"Liverpool\", \"Used Attributes\": {{\"animate objects\": [\"bird\"], \"inanimate objects\": [\"flames\"]}}}}'\n",
    "# question2 = (question2 + inputt+\"\\n\\nExample Output:\\n\\n\" + outputt)\n",
    "# question2 = (question2 + \"\\n\\n Example Input:\\n\\n\")\n",
    "# question_2 = \"15673:chicago black hawks\"\n",
    "# q = questions_list[question_2.split(\":\")[0]]\n",
    "# inputt = f'{{\"Original Question\":{q}, \"Entity_TO_BE_REPLACED\": \"Chicago Black Hawks\", \"Image Attributes\": {json.dumps(unique_attributes_dict[question_2], indent=2)} }}'\n",
    "# outputt = f'{{ \"Original Question\":{q}, \"Rephrased Question\": \"How many NHL games did Magnuson play for the football club whose logo has a head of a native american in total, and how many scores did he make?\", \"Entity\": \"Chicago Black Hawks\", \"Used Attributes\": {{ \"animate objects\": [\"head of a Native American\"] }}}}'\n",
    "# question2 = (question2 + inputt+\"\\n\\nExample Output:\\n\\n\" + outputt)\n",
    "# question2 = (question2 + \"\\n\\n Example Input:\\n\\n\")\n",
    "# question_3 = \"21691:world music awards\"\n",
    "# q = questions_list[question_3.split(\":\")[0]]\n",
    "# inputt = f'{{\"Original Question\":{q}, \"Entity_TO_BE_REPLACED\": \"world music awards\", \"Image Attributes\": {json.dumps({\"Image Type\": \"logo\",\"Unique attributes\": {\"colour\": [\"black\"],\"shape\":[\"rectangle\"],\"text\": [\"world music awards\"],\"animate_objects\": [],\"inanimate_objects\": []}} , indent=2)}'\n",
    "# outputt = f'{{ \"Original Question\":{q}, \"Rephrased Question\": \"Which nominations did Fragment receive at the event whose logo is rectangular and has black color in it, and what song were they for?\", \"Entity\": \"world music awards\", \"Used Attributes\": {{\"colour\": [\"black\"],\"shape\":[\"rectangle\"] }}}}'\n",
    "# question2 = (question2 + inputt+\"\\n\\nExample Output:\\n\\n\" + outputt)\n",
    "# question2 = (question2 + \"\\n\\nAs you can see in the above examples in none of the rephrased questions the name of entity to be replaced is mentioned. Now having seen some examples above make a rephrased question using its image attributes given below. \\n\\nInput:\\n\\n\")\n",
    "\n",
    "# print(question2)"
   ]
  },
  {
   "cell_type": "code",
   "execution_count": null,
   "metadata": {},
   "outputs": [],
   "source": [
    "# unique_attributes_dict[\"17319:mission\"]= {\"unique_attributes\":\"Nothing\"}"
   ]
  },
  {
   "cell_type": "code",
   "execution_count": null,
   "metadata": {},
   "outputs": [],
   "source": [
    "unique_attributes_dict[\"13072:ncis: los angeles\"]"
   ]
  },
  {
   "cell_type": "code",
   "execution_count": null,
   "metadata": {},
   "outputs": [],
   "source": [
    "all_questions_prompts = {}\n",
    "\n",
    "for k, v in unique_attributes_dict.items():\n",
    "    try:\n",
    "        question_id = k.split(\":\")[0]\n",
    "        entity = k.split(\":\")[1]\n",
    "        if len(k.split(\":\")) > 2:\n",
    "            entity = k.split(\":\")[1]+\":\"+k.split(\":\")[2]\n",
    "        question = questions_list[question_id]\n",
    "        image_type = questions[(question_id, entity)]['original_entity'][0][1]\n",
    "        attributes = unique_attributes_dict[k]\n",
    "        prompt = question_making_prompt.format(entity_name=entity) + question_warning + question3 + question2 + \\\n",
    "            f'{{\"Original Question\": \"{question}\", \"Entity\": \"{entity}\", \"Image Attributes\": {json.dumps(attributes, indent=2)}}}'\n",
    "\n",
    "        all_questions_prompts.update({k: prompt})\n",
    "        print(prompt)\n",
    "    except Exception as error:\n",
    "        # print(error)\n",
    "        # print(k, v)\n",
    "        pass"
   ]
  },
  {
   "cell_type": "code",
   "execution_count": null,
   "metadata": {},
   "outputs": [],
   "source": [
    "json.dump(all_questions_prompts, open(\n",
    "    '/home/turning/Jainit/SM/GptQueries/visual_qs/ftq/nd/ftq_explict_categories_question_making_prompts_latest.json', 'w'))"
   ]
  },
  {
   "cell_type": "code",
   "execution_count": null,
   "metadata": {},
   "outputs": [],
   "source": [
    "len(all_questions_prompts)"
   ]
  },
  {
   "cell_type": "code",
   "execution_count": null,
   "metadata": {},
   "outputs": [],
   "source": [
    "import json"
   ]
  },
  {
   "cell_type": "markdown",
   "metadata": {},
   "source": []
  },
  {
   "cell_type": "code",
   "execution_count": null,
   "metadata": {},
   "outputs": [],
   "source": [
    "rephrased_questions = json.load(open(\n",
    "    '/home/turning/Jainit/SM/GptQueries/visual_qs/ftq/nd/ftq_explict_categories_question_making_prompts.json.results.json', 'r'))"
   ]
  },
  {
   "cell_type": "code",
   "execution_count": null,
   "metadata": {},
   "outputs": [],
   "source": [
    "def text_to_dict(key, text):\n",
    "    if text is None:\n",
    "        return None\n",
    "    if not isinstance(text, str) and text[1] is None:\n",
    "        return None\n",
    "    # take the text from first { to last }\n",
    "    # Remove the code block syntax if present\n",
    "    text = text.replace(\"```json\\n\", \"\").replace(\"\\n```\", \"\")\n",
    "    text = text.replace(\"```JSON\\n\", \"\").replace(\"\\n```\", \"\")\n",
    "    text = text.replace(\"```\", \"\")\n",
    "    # text = text.replace(\"\\n\", \" \")\n",
    "    if \"This is not a movie poster\" in text:\n",
    "        return {\"imagetype\": \"This is not a movie poster\"}\n",
    "    text = text[text.find(\"{\"):text.rfind(\"}\")+1]\n",
    "    # Convert the string to a dictionary\n",
    "    try:\n",
    "        # Since the input text is expected to be in JSON format, we can use json.loads\n",
    "        dict_obj = json.loads(text)\n",
    "        return dict_obj\n",
    "    except Exception as e:\n",
    "\n",
    "        print(key)\n",
    "        print(text)\n",
    "\n",
    "        return text"
   ]
  },
  {
   "cell_type": "code",
   "execution_count": null,
   "metadata": {},
   "outputs": [],
   "source": [
    "rephrased_questions_dict = {}\n",
    "for r in rephrased_questions:\n",
    "    parsed_dict = text_to_dict(r[0], r[1])\n",
    "    question_id = r[0].split(\":\")[0]\n",
    "    try:\n",
    "        rephrased_questions_dict.update(\n",
    "            {\"Original Question\": questions_list[str(question_id)]})\n",
    "    except Exception as e:\n",
    "        print(question_id)\n",
    "        print(e)\n",
    "    rephrased_questions_dict.update({r[0]: parsed_dict})"
   ]
  },
  {
   "cell_type": "code",
   "execution_count": null,
   "metadata": {},
   "outputs": [],
   "source": [
    "for k, v in rephrased_questions_dict.items():\n",
    "    if not isinstance(v, dict):\n",
    "        print(k)\n",
    "        print(v)\n",
    "        print(\"\\n\\n\\n\")"
   ]
  },
  {
   "cell_type": "code",
   "execution_count": null,
   "metadata": {},
   "outputs": [],
   "source": []
  },
  {
   "cell_type": "code",
   "execution_count": null,
   "metadata": {},
   "outputs": [],
   "source": [
    "for k, v in correct_dict.items():\n",
    "    rephrased_questions_dict.update({k: v})"
   ]
  },
  {
   "cell_type": "code",
   "execution_count": null,
   "metadata": {},
   "outputs": [],
   "source": [
    "rerun_rephrased_questions_dict = {}\n",
    "for k, v in rephrased_questions_dict.items():\n",
    "    if isinstance(v, dict) and 'Rephrased Question' in v and v['Rephrased Question'] == \"\":\n",
    "        rerun_rephrased_questions_dict.update({k: all_questions_prompts[k]})\n",
    "for k, v in rephrased_questions_dict.items():\n",
    "    if isinstance(v, dict) and 'Rephrased Question' in v and v['Rephrased Question'] == \"\":\n",
    "        pprint(v)\n",
    "        print(k)\n",
    "        print(unique_attributes_dict[k])\n",
    "        # break"
   ]
  },
  {
   "cell_type": "code",
   "execution_count": null,
   "metadata": {},
   "outputs": [],
   "source": [
    "json.dump(rephrased_questions_dict, open(\n",
    "    '/home/turning/Jainit/SM/GptQueries/visual_qs/ftq/nd/final_questions.json', 'w'))\n",
    "json.dump(rerun_rephrased_questions_dict, open(\n",
    "    '/home/turning/Jainit/SM/GptQueries/visual_qs/ftq/nd/ftq_explict_categories_question_making_prompts_rerun.json', 'w'))"
   ]
  },
  {
   "cell_type": "code",
   "execution_count": null,
   "metadata": {},
   "outputs": [],
   "source": [
    "rerun_rephrased_questions_dict_results = json.load(open(\n",
    "    '/home/turning/Jainit/SM/GptQueries/visual_qs/ftq/nd/ftq_explict_categories_question_making_prompts_rerun.json.results.json', 'r'))"
   ]
  },
  {
   "cell_type": "code",
   "execution_count": null,
   "metadata": {},
   "outputs": [],
   "source": [
    "for k in rerun_rephrased_questions_dict_results:\n",
    "    rephrased_questions_dict.update({k[0]: text_to_dict(k[0], k[1])})"
   ]
  },
  {
   "cell_type": "code",
   "execution_count": null,
   "metadata": {},
   "outputs": [],
   "source": [
    "json.dump(rephrased_questions_dict, open(\n",
    "    '/home/turning/Jainit/SM/GptQueries/visual_qs/ftq/nd/ftq_final_questions.json', 'w'))"
   ]
  },
  {
   "cell_type": "code",
   "execution_count": null,
   "metadata": {},
   "outputs": [],
   "source": [
    "# answers = json.load(open('/home/turning/Jainit/SM/GptQueries/visual_qs/wtq_explict_categories_question_making_prompts_new.json.results.json', 'r'))"
   ]
  },
  {
   "cell_type": "code",
   "execution_count": null,
   "metadata": {},
   "outputs": [],
   "source": [
    "# asnwers_dict = {}\n",
    "# for a in answers:\n",
    "#     asnwers_dict.update({a[0]: text_to_dict(a[0], a[1])})"
   ]
  },
  {
   "cell_type": "code",
   "execution_count": null,
   "metadata": {},
   "outputs": [],
   "source": [
    "# json.dump(asnwers_dict, open('/home/turning/Jainit/SM/GptQueries/visual_qs/new_questions_ahh.json', 'w'))"
   ]
  },
  {
   "cell_type": "code",
   "execution_count": null,
   "metadata": {},
   "outputs": [],
   "source": []
  }
 ],
 "metadata": {
  "kernelspec": {
   "display_name": "Python 3",
   "language": "python",
   "name": "python3"
  },
  "language_info": {
   "codemirror_mode": {
    "name": "ipython",
    "version": 3
   },
   "file_extension": ".py",
   "mimetype": "text/x-python",
   "name": "python",
   "nbconvert_exporter": "python",
   "pygments_lexer": "ipython3",
   "version": "3.10.12"
  }
 },
 "nbformat": 4,
 "nbformat_minor": 2
}
