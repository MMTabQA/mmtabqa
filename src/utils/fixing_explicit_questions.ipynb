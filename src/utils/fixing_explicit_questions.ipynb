{
 "cells": [
  {
   "cell_type": "code",
   "execution_count": 37,
   "metadata": {},
   "outputs": [],
   "source": [
    "import json\n",
    "import os\n",
    "\n",
    "# BASE_DIR = \"/home/suyash/final_repo/WikiTableQuestions\"\n",
    "BASE_DIR = \"/home/suyash/final_repo/HybridQA_Tab_MM/Hybrid_QA_MM\"\n",
    "with open(os.path.join(BASE_DIR, \"final_dataset_filtered\", \"explicit_questions_data.json\")) as f:\n",
    "    og_explicit_data = json.load(f)"
   ]
  },
  {
   "cell_type": "code",
   "execution_count": 38,
   "metadata": {},
   "outputs": [
    {
     "name": "stdout",
     "output_type": "stream",
     "text": [
      "('00009b9649d0dd0a', [{'img_id': '{IMG-{HTQ-0-4-2-0}}', 'table': 'List_of_mosques_in_Afghanistan_0', 'img_string': 'herat', 'cell_string': '{IMG-{HTQ-0-4-2-0}}', 'column_header': 'City', 'cell_idx': [4, 2]}])\n"
     ]
    }
   ],
   "source": [
    "print(list(og_explicit_data.items())[0])"
   ]
  },
  {
   "cell_type": "code",
   "execution_count": 39,
   "metadata": {},
   "outputs": [],
   "source": [
    "with open(os.path.join(BASE_DIR, \"experiment_ready_dataset\", \"explicit_questions_data.json\")) as f:\n",
    "    new_explicit_data = json.load(f)"
   ]
  },
  {
   "cell_type": "code",
   "execution_count": 40,
   "metadata": {},
   "outputs": [
    {
     "name": "stdout",
     "output_type": "stream",
     "text": [
      "('00009b9649d0dd0a', {'table_id': 'List_of_mosques_in_Afghanistan_0', 'cell_indices': [[4, 2]]})\n"
     ]
    }
   ],
   "source": [
    "print(list(new_explicit_data.items())[0])"
   ]
  },
  {
   "cell_type": "code",
   "execution_count": 41,
   "metadata": {},
   "outputs": [],
   "source": [
    "with open(os.path.join(BASE_DIR, \"experiment_ready_dataset\", \"image_id_to_image_path.json\")) as f:\n",
    "    new_image_id_to_image_path = json.load(f)\n",
    "\n",
    "with open(os.path.join(BASE_DIR, \"final_dataset_filtered\", \"image_id_to_image_path.json\")) as f:\n",
    "    og_image_id_to_image_path = json.load(f)\n",
    "\n",
    "tables_dict = {}\n",
    "with open(os.path.join(BASE_DIR, \"experiment_ready_dataset\", \"tables.jsonl\")) as f:\n",
    "    for line in f.readlines():\n",
    "        table = json.loads(line)\n",
    "        tables_dict[table[\"table_id\"]] = table"
   ]
  },
  {
   "cell_type": "code",
   "execution_count": 42,
   "metadata": {},
   "outputs": [],
   "source": [
    "import re\n",
    "def get_all_image_tags(text):\n",
    "    pattern = r\"\\{IMG-\\{.*?\\}\\}\"\n",
    "    matches = re.findall(pattern, text)\n",
    "    return matches\n"
   ]
  },
  {
   "cell_type": "code",
   "execution_count": 43,
   "metadata": {},
   "outputs": [],
   "source": [
    "from collections import defaultdict\n",
    "\n",
    "final_explicit_data = defaultdict(list)\n",
    "\n",
    "\n",
    "\n",
    "for qid in new_explicit_data:\n",
    "    new_cells = new_explicit_data[qid]['cell_indices']\n",
    "    new_cells = tuple([tuple(cell) for cell in new_cells])\n",
    "    new_cells_set = set(new_cells)\n",
    "    \n",
    "    og_data = og_explicit_data[qid]\n",
    "    for og_cell in og_data:\n",
    "\n",
    "        og_cell_idx = tuple(og_cell['cell_idx'])\n",
    "        if og_cell_idx in new_cells_set:\n",
    "            table_id = new_explicit_data[qid]['table_id']\n",
    "\n",
    "            table_cell = tables_dict[table_id]['table_array'][og_cell_idx[0]][og_cell_idx[1]]\n",
    "\n",
    "            image_tags = get_all_image_tags(table_cell)\n",
    "            \n",
    "            img_string = og_cell['img_string']\n",
    "            for img_tag in image_tags:\n",
    "                if og_image_id_to_image_path[og_cell['img_id']] == new_image_id_to_image_path[img_tag]:\n",
    "                    final_explicit_data[qid].append({\n",
    "                        'img_id': img_tag,\n",
    "                        'table': table_id,\n",
    "                        'img_string': img_string,\n",
    "                        'cell_idx': og_cell['cell_idx'],\n",
    "                        'cell_string': table_cell,\n",
    "                        'column_header': og_cell['column_header'],\n",
    "                    })\n",
    "                    break\n",
    "    # print(new_cells)\n",
    "    # for cell in new_cells:\n",
    "    #     og_data = og_explicit_data[qid]\n",
    "    #     for og_cell in og_data:\n",
    "    #         if cell == og_cell['cell_idx']:\n",
    "    #             print(\"YAY\")\n",
    "    #             final_explicit_data\n",
    "    #         print(og_cell)\n",
    "    # break"
   ]
  },
  {
   "cell_type": "code",
   "execution_count": 44,
   "metadata": {},
   "outputs": [],
   "source": [
    "len_to_freq = {}\n",
    "for qid, q_data in final_explicit_data.items():\n",
    "    len_to_freq[len(q_data)] = len_to_freq.get(len(q_data), 0) + 1"
   ]
  },
  {
   "cell_type": "code",
   "execution_count": 45,
   "metadata": {},
   "outputs": [
    {
     "data": {
      "text/plain": [
       "{1: 4076,\n",
       " 2: 748,\n",
       " 5: 106,\n",
       " 8: 58,\n",
       " 9: 41,\n",
       " 10: 22,\n",
       " 4: 158,\n",
       " 3: 325,\n",
       " 13: 21,\n",
       " 6: 101,\n",
       " 14: 14,\n",
       " 15: 40,\n",
       " 11: 24,\n",
       " 7: 54,\n",
       " 12: 22,\n",
       " 24: 2,\n",
       " 16: 3,\n",
       " 18: 2,\n",
       " 27: 2}"
      ]
     },
     "execution_count": 45,
     "metadata": {},
     "output_type": "execute_result"
    }
   ],
   "source": [
    "len_to_freq"
   ]
  },
  {
   "cell_type": "code",
   "execution_count": 46,
   "metadata": {},
   "outputs": [],
   "source": [
    "with open(os.path.join(BASE_DIR, \"experiment_ready_dataset\", \"explicit_questions_data.json\"), \"w\") as f:\n",
    "    json.dump(final_explicit_data, f, indent=4)"
   ]
  },
  {
   "cell_type": "code",
   "execution_count": null,
   "metadata": {},
   "outputs": [],
   "source": []
  }
 ],
 "metadata": {
  "kernelspec": {
   "display_name": "transformer-new",
   "language": "python",
   "name": "python3"
  },
  "language_info": {
   "codemirror_mode": {
    "name": "ipython",
    "version": 3
   },
   "file_extension": ".py",
   "mimetype": "text/x-python",
   "name": "python",
   "nbconvert_exporter": "python",
   "pygments_lexer": "ipython3",
   "version": "3.10.13"
  }
 },
 "nbformat": 4,
 "nbformat_minor": 2
}
