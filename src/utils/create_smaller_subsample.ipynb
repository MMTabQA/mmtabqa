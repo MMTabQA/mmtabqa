{
 "cells": [
  {
   "cell_type": "code",
   "execution_count": 1,
   "metadata": {},
   "outputs": [],
   "source": [
    "num_questions = 500\n",
    "nuum_questions = num_questions\n",
    "DATASET = \"HybridQA_Tab_MM/Hybrid_QA_MM\"\n",
    "Q_TYPE = \"visual\"\n",
    "# types = [\"implicit\", \"visual\"]"
   ]
  },
  {
   "cell_type": "code",
   "execution_count": 94,
   "metadata": {},
   "outputs": [],
   "source": [
    "import json\n",
    "\n",
    "tableid_to_table = {}\n",
    "\n",
    "with open(f\"/home/suyash/final_repo/{DATASET}/experiment_ready_dataset/tables.jsonl\") as f:\n",
    "    for line in f.readlines():\n",
    "        line = json.loads(line)\n",
    "        tableid_to_table[line['table_id']] = line"
   ]
  },
  {
   "cell_type": "code",
   "execution_count": 95,
   "metadata": {},
   "outputs": [
    {
     "name": "stdout",
     "output_type": "stream",
     "text": [
      "('List_of_car-free_places_0', {'table_id': 'List_of_car-free_places_0', 'table_idx': 7704, 'table_array': [['State', 'Location', 'Area', 'Character'], ['{IMG-{HTQ-7704-1-0-0}}', 'halibut cove', 'entire Town', \"Originally a fishing village , Halibut Cove , located inside Kachemak Bay State Park , is now home to several art studios/galleries and businesses . One of the world 's only floating towns , it is a popular tourist destination . Only way to get around the cove is by boat . Outside access is by water taxis from Homer , 6 miles away\"], ['{IMG-{HTQ-7704-2-0-0}}', 'arcosanti', 'entire town', 'Arcology being built by {IMG-{HTQ-7704-2-3-0}}'], ['arizona', 'phantom ranch', 'entire village', 'Tourist village on the Colorado River inside {IMG-{HTQ-7704-3-3-0}} ten miles ( plus one vertical mile ) from nearest road with access by foot , raft , or mule'], ['{IMG-{HTQ-7704-4-0-0}}', 'Supai , Arizona', 'entire town', 'In the havasupai Nation , the capital of Supai is eight miles from the nearest road . The town has refused all offers to extend the road . Access is by foot , mule , or helicopter . Supai is probably the largest not completely tourism dependent absolutely car-free town in the contiguous USA'], ['{IMG-{HTQ-7704-5-0-0}}', 'Catalina Island', 'most of Island', 'Car free except for gasoline-powered golf carts , Smart Fortwos , Minis , and buses in the town of Avalon'], ['{IMG-{HTQ-7704-6-0-0}}', 'Columbia', 'Pedestrian mall', 'Small car-free district at the center'], ['{IMG-{HTQ-7704-7-0-0}}', 'Riverside', 'Downtown Main Street', \"Riverside 's Main Street Pedestrian Mall is car free from 10th Street to 6th Street in downtown Riverside , with traffic crossing points at 9th Street , University Ave , and Mission Inn Ave . Notable sites include the historic Mission Inn , the california museum of photography , and statues of {IMG-{HTQ-7704-7-3-1}} , {IMG-{HTQ-7704-7-3-2}} , and {IMG-{HTQ-7704-7-3-3}} . Small boutiques , antique stores , and restaurants are mixed with business and government offices , including Riverside 's City Hall and the State 's 11-story California Tower\"], ['{IMG-{HTQ-7704-8-0-0}}', 'Sacramento', 'K Street Mall', \"Covers 12 blocks ( 1 mile ) of K Street , including an outdoor shopping mall , a pedestrian freeway underpass to the city 's historic district , shopping , entertainment , and a business and mixed-use residential district\"], ['{IMG-{HTQ-7704-9-0-0}}', 'Santa Monica', 'third street promenade , 1/2 mile ( 800 m ) of 3rd Street', 'Car-free shopping district , with further expansion planned'], ['{IMG-{HTQ-7704-10-0-0}}', 'Venice', 'venice canals', 'A small portion of a large canal system created by Abbot Kinney to be the Venice of America still exists . A majority of the canals were filled in 1929 to make way for the automobile , though a square roughly 1,000 ft ( 300 m ) still exists on one side'], ['{IMG-{HTQ-7704-11-0-0}}', 'Aspen', 'Pedestrian malls', 'Three blocks of E. Hyman Ave. , S. Mill St. , and E. Cooper Ave. in downtown , adjacent to Wagner Park , have been pedestrianized'], ['colorado', 'Boulder', 'Pedestrian mall', 'At the city center ; there is some debate as to whether this really is a car free area or not . The Pearl Street Mall is absolutely car free , and extends through several blocks of the center of the city'], ['{IMG-{HTQ-7704-13-0-0}}', '{IMG-{HTQ-7704-13-1-0}}', '16th Street Mall , about a mile ( 1.6 km ) long', \"Transit mall with pedestrian-only extensions . However , electric buses and police cars drive throughout the area at all times , alongside pedicabs and horse-drawn carriages . It is forbidden to ride ordinary bicycles along the mall except on Sundays , and bicycles parked on the mall are impounded by police after a few hours ' notice\"], ['colorado', 'Fort Collins', '1 street', 'Old Town Square commercial district'], ['{IMG-{HTQ-7704-15-0-0}}', 'Fort Collins', '{IMG-{HTQ-7704-15-2-0}} , 4 long streets', 'car free area of university campus , to be expanded'], ['colorado', 'Vail', 'Most of the town', 'Resort town with several European-style car-free squares and streets'], ['{IMG-{HTQ-7704-17-0-0}}', 'Miami Beach', 'lincoln road Mall , 7 blocks or 0.5 mile ( 800 m )', 'Shopping , socializing , cafes , dining al fresco in the heart of the Art Deco district'], ['{IMG-{HTQ-7704-18-0-0}}', 'St. Augustine', 'St. George Street , 4 blocks or 0.4 mile ( 600 m )', 'Pedestrian only street , historic structure , shopping , dining , attractions ,'], ['Georgia', 'Metro {IMG-{HTQ-7704-19-1-0}}', 'East Lake Commons , 67 dwellings planned', 'Parking will be located on the perimeter of the village . Access within the village core will be by walking , carts , and bicycles'], ['{IMG-{HTQ-7704-20-0-0}}', '{IMG-{HTQ-7704-20-1-0}}', 'Canal Walk', 'One-and-a-half mile section of the Indiana Central Canal through downtown indianapolis . Features sidewalks on either side and is lined by apartments , museums ( with cafes ) , hotels , and the white river state park . Opportunity to rent kayaks , Segways , bicycles , paddleboats , etc . Completely car-free']], 'original_table_array': [['State', 'Location', 'Area', 'Character'], ['Alaska', 'Halibut Cove', 'entire Town', \"Originally a fishing village , Halibut Cove , located inside Kachemak Bay State Park , is now home to several art studios/galleries and businesses . One of the world 's only floating towns , it is a popular tourist destination . Only way to get around the cove is by boat . Outside access is by water taxis from Homer , 6 miles away\"], ['Arizona', 'Arcosanti', 'entire town', 'Arcology being built by Paolo Soleri'], ['Arizona', 'Phantom Ranch', 'entire village', 'Tourist village on the Colorado River inside Grand Canyon National Park ten miles ( plus one vertical mile ) from nearest road with access by foot , raft , or mule'], ['Arizona', 'Supai , Arizona', 'entire town', 'In the Havasupai Nation , the capital of Supai is eight miles from the nearest road . The town has refused all offers to extend the road . Access is by foot , mule , or helicopter . Supai is probably the largest not completely tourism dependent absolutely car-free town in the contiguous USA'], ['California', 'Catalina Island', 'most of Island', 'Car free except for gasoline-powered golf carts , Smart Fortwos , Minis , and buses in the town of Avalon'], ['California', 'Columbia', 'Pedestrian mall', 'Small car-free district at the center'], ['California', 'Riverside', 'Downtown Main Street', \"Riverside 's Main Street Pedestrian Mall is car free from 10th Street to 6th Street in downtown Riverside , with traffic crossing points at 9th Street , University Ave , and Mission Inn Ave . Notable sites include the historic Mission Inn , the California Museum of Photography , and statues of Martin Luther King , Mahatma Gandhi , and An Chang-ho . Small boutiques , antique stores , and restaurants are mixed with business and government offices , including Riverside 's City Hall and the State 's 11-story California Tower\"], ['California', 'Sacramento', 'K Street Mall', \"Covers 12 blocks ( 1 mile ) of K Street , including an outdoor shopping mall , a pedestrian freeway underpass to the city 's historic district , shopping , entertainment , and a business and mixed-use residential district\"], ['California', 'Santa Monica', 'Third Street Promenade , 1/2 mile ( 800 m ) of 3rd Street', 'Car-free shopping district , with further expansion planned'], ['California', 'Venice', 'Venice Canals', 'A small portion of a large canal system created by Abbot Kinney to be the Venice of America still exists . A majority of the canals were filled in 1929 to make way for the automobile , though a square roughly 1,000 ft ( 300 m ) still exists on one side'], ['Colorado', 'Aspen', 'Pedestrian malls', 'Three blocks of E. Hyman Ave. , S. Mill St. , and E. Cooper Ave. in downtown , adjacent to Wagner Park , have been pedestrianized'], ['Colorado', 'Boulder', 'Pedestrian mall', 'At the city center ; there is some debate as to whether this really is a car free area or not . The Pearl Street Mall is absolutely car free , and extends through several blocks of the center of the city'], ['Colorado', 'Denver', '16th Street Mall , about a mile ( 1.6 km ) long', \"Transit mall with pedestrian-only extensions . However , electric buses and police cars drive throughout the area at all times , alongside pedicabs and horse-drawn carriages . It is forbidden to ride ordinary bicycles along the mall except on Sundays , and bicycles parked on the mall are impounded by police after a few hours ' notice\"], ['Colorado', 'Fort Collins', '1 street', 'Old Town Square commercial district'], ['Colorado', 'Fort Collins', 'Colorado State University , 4 long streets', 'car free area of university campus , to be expanded'], ['Colorado', 'Vail', 'Most of the town', 'Resort town with several European-style car-free squares and streets'], ['Florida', 'Miami Beach', 'Lincoln Road Mall , 7 blocks or 0.5 mile ( 800 m )', 'Shopping , socializing , cafes , dining al fresco in the heart of the Art Deco district'], ['Florida', 'St. Augustine', 'St. George Street , 4 blocks or 0.4 mile ( 600 m )', 'Pedestrian only street , historic structure , shopping , dining , attractions ,'], ['Georgia', 'Metro Atlanta', 'East Lake Commons , 67 dwellings planned', 'Parking will be located on the perimeter of the village . Access within the village core will be by walking , carts , and bicycles'], ['Indiana', 'Indianapolis', 'Canal Walk', 'One-and-a-half mile section of the Indiana Central Canal through downtown Indianapolis . Features sidewalks on either side and is lined by apartments , museums ( with cafes ) , hotels , and the White River State Park . Opportunity to rent kayaks , Segways , bicycles , paddleboats , etc . Completely car-free']], 'url': 'https://en.wikipedia.org/wiki/List_of_car-free_places', 'cells_to_link': [[1, 0, ['/wiki/Alaska']], [1, 1, ['/wiki/Halibut_Cove']], [2, 0, ['/wiki/Arizona']], [2, 1, ['/wiki/Arcosanti']], [2, 3, ['/wiki/Arcology', '/wiki/Paolo_Soleri']], [3, 0, ['/wiki/Arizona']], [3, 1, ['/wiki/Phantom_Ranch']], [3, 3, ['/wiki/Grand_Canyon_National_Park']], [4, 0, ['/wiki/Arizona']], [4, 1, ['/wiki/Supai,_Arizona']], [4, 3, ['/wiki/Havasupai']], [5, 0, ['/wiki/California']], [5, 1, ['/wiki/Santa_Catalina_Island,_California']], [5, 3, ['/wiki/Smart_Fortwo', '/wiki/Mini', '/wiki/Avalon,_California']], [6, 0, ['/wiki/California']], [6, 1, ['/wiki/Columbia,_California']], [7, 0, ['/wiki/California']], [7, 1, ['/wiki/Riverside,_California']], [7, 3, ['/wiki/The_Mission_Inn_Hotel_&_Spa', '/wiki/California_Museum_of_Photography', '/wiki/Martin_Luther_King', '/wiki/Mahatma_Gandhi', '/wiki/An_Chang-ho']], [8, 0, ['/wiki/California']], [8, 1, ['/wiki/Sacramento,_California']], [9, 0, ['/wiki/California']], [9, 1, ['/wiki/Santa_Monica,_California']], [9, 2, ['/wiki/Third_Street_Promenade']], [10, 0, ['/wiki/California']], [10, 1, ['/wiki/Venice,_Los_Angeles']], [10, 2, ['/wiki/Venice_Canals']], [11, 0, ['/wiki/Colorado']], [11, 1, ['/wiki/Aspen,_Colorado']], [12, 0, ['/wiki/Colorado']], [12, 1, ['/wiki/Boulder,_Colorado']], [12, 3, ['/wiki/Pearl_Street_Mall']], [13, 0, ['/wiki/Colorado']], [13, 1, ['/wiki/Denver']], [14, 0, ['/wiki/Colorado']], [14, 1, ['/wiki/Fort_Collins,_Colorado']], [15, 0, ['/wiki/Colorado']], [15, 1, ['/wiki/Fort_Collins,_Colorado']], [15, 2, ['/wiki/Colorado_State_University']], [16, 0, ['/wiki/Colorado']], [16, 1, ['/wiki/Vail,_Colorado']], [17, 0, ['/wiki/Florida']], [17, 1, ['/wiki/Miami_Beach,_Florida']], [17, 2, ['/wiki/Lincoln_Road']], [18, 0, ['/wiki/Florida']], [18, 1, ['/wiki/St._Augustine,_Florida']], [19, 0, ['/wiki/Georgia_(U.S._state)']], [19, 1, ['/wiki/Atlanta']], [20, 0, ['/wiki/Indiana']], [20, 1, ['/wiki/Indianapolis']], [20, 3, ['/wiki/Indiana_Central_Canal', '/wiki/Downtown_Indianapolis', '/wiki/White_River_State_Park']]]})\n"
     ]
    }
   ],
   "source": [
    "print(list(tableid_to_table.items())[0])"
   ]
  },
  {
   "cell_type": "code",
   "execution_count": 96,
   "metadata": {},
   "outputs": [],
   "source": [
    "# with open(\"/home/suyash/final_repo/[temp]train_test_questions/fetaqa_MM_cleaned/test_explicit_questions.jsonl\") as f:\n",
    "#     questions = f.readlines()\n",
    "# len(questions)\n",
    "# with open(\"/home/suyash/final_repo/gpt_test_samples/fetaqa_MM_cleaned/test_explicit_questions.jsonl\", \"w\") as f:\n",
    "#     for question in questions[:num_questions]:\n",
    "#         f.write(question)"
   ]
  },
  {
   "cell_type": "code",
   "execution_count": 4,
   "metadata": {},
   "outputs": [
    {
     "name": "stdout",
     "output_type": "stream",
     "text": [
      "1874\n",
      "500\n"
     ]
    }
   ],
   "source": [
    "import os\n",
    "import random\n",
    "import json\n",
    "random.seed(20)\n",
    "\n",
    "types = [\"visual\"]\n",
    "nuum_questions = 500\n",
    "\n",
    "for q_type in types:\n",
    "    # og_path = f\"/home/suyash/final_repo/[temp]train_test_questions/{DATASET}/test_{q_type}_questions.jsonl\"\n",
    "    # os.makedirs(f\"/home/suyash/final_repo/redone_samples_700cap/{DATASET}\", exist_ok=True)\n",
    "    new_path = f\"/home/suyash/final_repo/gpt_test_samples/{DATASET}/test_{q_type}_questions.jsonl\"\n",
    "    \n",
    "    # questions = []\n",
    "    # with open(og_path) as f:\n",
    "    #     for line in f.readlines():\n",
    "    #         line = json.loads(line)\n",
    "    #         questions.append(line)\n",
    "    # print(len(questions))\n",
    "    questions = []\n",
    "    if len(questions) < nuum_questions:\n",
    "        purana_path = f\"/home/suyash/final_repo/{DATASET}/experiment_ready_dataset/{q_type}_questions.jsonl\"\n",
    "        questions = []\n",
    "        with open(purana_path) as f:\n",
    "            for line in f.readlines():\n",
    "                line = json.loads(line)\n",
    "                questions.append(line)\n",
    "        print(len(questions))\n",
    "    \n",
    "    sampled_questions = random.sample(questions, min(len(questions), nuum_questions))\n",
    "    print(len(sampled_questions))\n",
    "    with open(new_path, \"w\") as f:\n",
    "        for question in sampled_questions:\n",
    "            f.write(json.dumps(question) + \"\\n\")"
   ]
  },
  {
   "cell_type": "code",
   "execution_count": 98,
   "metadata": {},
   "outputs": [
    {
     "ename": "NameError",
     "evalue": "name 'new_path' is not defined",
     "output_type": "error",
     "traceback": [
      "\u001b[0;31m---------------------------------------------------------------------------\u001b[0m",
      "\u001b[0;31mNameError\u001b[0m                                 Traceback (most recent call last)",
      "Cell \u001b[0;32mIn[98], line 1\u001b[0m\n\u001b[0;32m----> 1\u001b[0m \u001b[38;5;28mprint\u001b[39m(new_path)\n",
      "\u001b[0;31mNameError\u001b[0m: name 'new_path' is not defined"
     ]
    }
   ],
   "source": [
    "print(new_path)"
   ]
  },
  {
   "cell_type": "code",
   "execution_count": 99,
   "metadata": {},
   "outputs": [],
   "source": [
    "import json\n",
    "with open(\"/home/suyash/final_repo/subsampling_outputs/all_instances.json\") as f:\n",
    "    all_instances = json.load(f)\n",
    "with open(\"/home/suyash/final_repo/subsampling_outputs/all_all_qids.json\") as f:\n",
    "    all_all_qids = json.load(f)\n",
    "\n",
    "with open(\"/home/suyash/final_repo/subsampling_outputs/all_links.json\") as f:\n",
    "    all_links = json.load(f)\n",
    "with open(\"/home/suyash/final_repo/subsampling_outputs/all_templates.json\") as f:\n",
    "    all_templates = json.load(f)\n"
   ]
  },
  {
   "cell_type": "code",
   "execution_count": 100,
   "metadata": {},
   "outputs": [],
   "source": [
    "import pandas as pd\n",
    "with open(\"/home/suyash/final_repo/WikiTableQuestions/WikiTableQuestions/misc/table-metadata.tsv\") as f:\n",
    "    WTQ_METADATA = pd.read_csv(f, sep=\"\\t\")\n",
    "\n",
    "def get_wtq_metadata(table_id):\n",
    "    table_metadata = WTQ_METADATA[WTQ_METADATA[\"contextId\"] == table_id.replace(\"WTQ/\", \"\")]\n",
    "\n",
    "    page_title = table_metadata[\"title\"].values[0]\n",
    "    headers = table_metadata['headers'].values[0]\n",
    "    page_id = table_metadata[\"pageId\"].values[0]\n",
    "    return page_id"
   ]
  },
  {
   "cell_type": "code",
   "execution_count": 101,
   "metadata": {},
   "outputs": [
    {
     "name": "stdout",
     "output_type": "stream",
     "text": [
      "('https://www.wikidata.org/wiki/Q6607494', ['Wikimedia music-related list'])\n",
      "('https://en.wikipedia.org/?curid=10809368', 'Q4565821')\n",
      "https://en.wikipedia.org/?curid=10809368\n",
      "('https://en.wikipedia.org/?curid=10809368', ['Template:Infobox_Australian_rules_football_season'])\n"
     ]
    }
   ],
   "source": [
    "print(list(all_instances.items())[5])\n",
    "print(list(all_all_qids.items())[5])\n",
    "print(list(all_links)[5])\n",
    "print(list(all_templates.items())[5])"
   ]
  },
  {
   "cell_type": "code",
   "execution_count": 102,
   "metadata": {},
   "outputs": [
    {
     "name": "stdout",
     "output_type": "stream",
     "text": [
      "3\n",
      "700\n"
     ]
    }
   ],
   "source": [
    "import json\n",
    "\n",
    "cnt1 = 0\n",
    "cnt2=0\n",
    "quesid_to_category = {}\n",
    "quesid_to_infobox = {}\n",
    "quesid_to_question = {}\n",
    "with open(f\"/home/suyash/final_repo/redone_samples_700cap/{DATASET.split('/')[-1]}/test_{Q_TYPE}_questions.jsonl\") as f:\n",
    "# with open(f\"/home/suyash/final_repo/gpt_test_samples/{DATASET.split('/')[-1]}/test_{Q_TYPE}_questions.jsonl\") as f:\n",
    "    for line in f.readlines():\n",
    "        line = json.loads(line)\n",
    "        quesid_to_question[line['question_id']] = line\n",
    "        table_id = line[\"table_context\"]\n",
    "        table = tableid_to_table[table_id]\n",
    "        try:\n",
    "            if DATASET == \"WikiTableQuestions\":\n",
    "                page_id = get_wtq_metadata(table_id)\n",
    "                wikilink = \"https://en.wikipedia.org/?curid=\" + str(page_id)\n",
    "            elif DATASET == \"WikiSQL\":\n",
    "                page_id = table[\"page_id\"]\n",
    "                wikilink = \"https://en.wikipedia.org/?curid=\" + str(page_id)\n",
    "            elif DATASET == \"fetaqa_MM_cleaned\":\n",
    "                wikilink = table['page_wikipedia_url']\n",
    "            elif DATASET == \"HybridQA_Tab_MM/Hybrid_QA_MM\":\n",
    "                wikilink = table['url']\n",
    "            qid = all_all_qids[wikilink]\n",
    "            wikidata_link = f\"https://www.wikidata.org/wiki/{qid}\"\n",
    "            category = all_instances[wikidata_link]\n",
    "            if len(category) == 0:\n",
    "                category = [\"None\"]\n",
    "            quesid_to_category[line['question_id']] = category\n",
    "            \n",
    "        \n",
    "        except:\n",
    "            cnt2 += 1\n",
    "            quesid_to_category[line['question_id']] = [\"None\"]\n",
    "print(cnt2)\n",
    "print(len(quesid_to_category))\n"
   ]
  },
  {
   "cell_type": "code",
   "execution_count": 103,
   "metadata": {},
   "outputs": [],
   "source": [
    "category_frequency = {}\n",
    "for k, v in quesid_to_category.items():\n",
    "    for category in v:\n",
    "        if category not in category_frequency:\n",
    "            category_frequency[category] = 0\n",
    "        category_frequency[category] += 1"
   ]
  },
  {
   "cell_type": "code",
   "execution_count": 104,
   "metadata": {},
   "outputs": [
    {
     "data": {
      "text/plain": [
       "700"
      ]
     },
     "execution_count": 104,
     "metadata": {},
     "output_type": "execute_result"
    }
   ],
   "source": [
    "len(quesid_to_category)"
   ]
  },
  {
   "cell_type": "code",
   "execution_count": 105,
   "metadata": {},
   "outputs": [
    {
     "name": "stdout",
     "output_type": "stream",
     "text": [
      "[('Wikimedia list article', 264),\n",
      " ('sports season', 63),\n",
      " ('human', 31),\n",
      " ('None', 29),\n",
      " ('Olympic delegation', 23),\n",
      " ('television series season', 18),\n",
      " ('Wikimedia music-related list', 16),\n",
      " ('events in a specific year or time period', 14),\n",
      " ('award', 14),\n",
      " ('filmography', 8),\n",
      " ('class of award', 8),\n",
      " ('World Athletics Half Marathon Championships', 8),\n",
      " ('sports discipline', 8),\n",
      " ('International Cross Country Championships', 7),\n",
      " ('sports competition', 7),\n",
      " ('sports league', 7),\n",
      " ('business', 6),\n",
      " ('nation at sport competition', 6),\n",
      " ('figure skating competition', 5),\n",
      " ('association football league', 5),\n",
      " ('association football team season', 5),\n",
      " ('legislative term', 4),\n",
      " ('television series', 4),\n",
      " (\"UCI Women's Road World Cup\", 4),\n",
      " ('college and university ranking', 4),\n",
      " ('sports award', 4),\n",
      " ('female beauty pageant', 4),\n",
      " ('list of atheists', 3),\n",
      " ('San Marino Grand Prix', 3),\n",
      " ('ranking', 3),\n",
      " ('Wikimedia artist discography', 3),\n",
      " ('ranked list', 3),\n",
      " ('annual list', 3),\n",
      " ('transmitter station', 3),\n",
      " ('tournament', 3),\n",
      " ('Wikimedia list of persons', 3),\n",
      " ('enterprise', 2),\n",
      " ('sport in a geographic region', 2),\n",
      " ('position', 2),\n",
      " ('programming contest', 2),\n",
      " ('award ceremony', 2),\n",
      " ('Austrian Grand Prix', 2),\n",
      " ('United States federal prison', 2),\n",
      " ('professional sports league', 2),\n",
      " ('rugby union competition', 2),\n",
      " ('product model', 2),\n",
      " ('UCI Europe Tour', 2),\n",
      " ('sport competition at a multi-sport event', 2),\n",
      " ('National Football League draft', 2),\n",
      " ('Brazilian Grand Prix', 2),\n",
      " ('Australian Grand Prix', 2),\n",
      " ('sports season of a sports club', 2),\n",
      " ('Paralympics delegation', 2),\n",
      " ('Japanese Grand Prix', 2),\n",
      " ('film festival', 2),\n",
      " ('sports team', 2),\n",
      " ('baseball team', 2),\n",
      " ('college sports team', 2),\n",
      " ('French Grand Prix', 2),\n",
      " ('recurring sporting event', 2),\n",
      " ('Canadian Grand Prix', 2),\n",
      " ('draft', 2),\n",
      " ('Latin Grammy Awards', 1),\n",
      " ('award for best direction', 1),\n",
      " ('mixed martial arts organization', 1),\n",
      " ('automobile manufacturer', 1),\n",
      " ('fabricator', 1),\n",
      " ('expansion draft', 1),\n",
      " ('ship type', 1),\n",
      " ('Major League Baseball All-Star Game', 1),\n",
      " ('city', 1),\n",
      " ('Spanish Grand Prix', 1),\n",
      " ('bibliography', 1),\n",
      " ('papal election', 1),\n",
      " ('walk of fame', 1),\n",
      " ('United States federal medical center', 1),\n",
      " ('zone', 1),\n",
      " ('Cabinet of Afghanistan', 1),\n",
      " ('Portuguese Grand Prix', 1),\n",
      " ('cultural depiction', 1),\n",
      " ('Detroit Grand Prix', 1),\n",
      " ('profession', 1),\n",
      " ('sovereign state', 1),\n",
      " ('country', 1),\n",
      " ('school', 1),\n",
      " ('Bahrain Grand Prix', 1),\n",
      " ('electoral history', 1),\n",
      " ('European Grand Prix', 1),\n",
      " ('electoral alliance', 1),\n",
      " ('lower house of U.S. state legislature', 1),\n",
      " ('house of representatives', 1),\n",
      " ('international airport', 1),\n",
      " ('airport', 1),\n",
      " ('commercial traffic aerodrome', 1),\n",
      " ('United States Grand Prix', 1),\n",
      " ('championship', 1),\n",
      " ('recurring sporting event edition', 1),\n",
      " ('aspect in a geographic region', 1),\n",
      " ('law school', 1),\n",
      " ('national championship', 1),\n",
      " ('World Athletics Championships', 1),\n",
      " ('club world championship', 1),\n",
      " ('basketball tournament', 1),\n",
      " ('film production company', 1),\n",
      " ('television production company', 1),\n",
      " ('spacecraft family', 1),\n",
      " ('aircraft fleet', 1),\n",
      " ('video game series', 1),\n",
      " ('television station', 1),\n",
      " ('television in a country', 1),\n",
      " ('auto racing team', 1),\n",
      " ('baseball team season', 1),\n",
      " ('combined statistical area', 1),\n",
      " ('dot-com company', 1),\n",
      " ('conclave', 1),\n",
      " ('hospital', 1),\n",
      " ('world record', 1),\n",
      " ('high school', 1),\n",
      " ('Hungarian Grand Prix', 1),\n",
      " ('television program', 1),\n",
      " ('product category', 1),\n",
      " ('Acrobatic Gymnastics World Championships', 1),\n",
      " ('mobile phone series', 1),\n",
      " ('international organization', 1),\n",
      " ('Wikimedia list of fictional characters', 1),\n",
      " ('discography', 1),\n",
      " ('order of merit', 1),\n",
      " ('transport by country or region', 1),\n",
      " ('science award', 1),\n",
      " ('film', 1),\n",
      " ('Wikimedia list of persons by nationality (P27) and occupation (P166)', 1),\n",
      " ('association football competition', 1),\n",
      " ('Silver age', 1),\n",
      " ('Royal Rumble', 1),\n",
      " ('nation at the Mediterranean Games', 1),\n",
      " ('athletic conference', 1),\n",
      " ('airline', 1),\n",
      " ('political organization', 1),\n",
      " ('501(c)(4) organization', 1),\n",
      " ('designation for an administrative territorial entity of a single country',\n",
      "  1),\n",
      " ('Italian Grand Prix', 1),\n",
      " ('college athletic conference', 1),\n",
      " ('video game', 1),\n",
      " ('esports discipline', 1),\n",
      " ('international association football clubs cup', 1),\n",
      " ('multi-sport event', 1),\n",
      " ('sports division', 1),\n",
      " ('Berlin Marathon', 1),\n",
      " ('sports hall of fame', 1),\n",
      " ('prize', 1),\n",
      " ('constitutive treaty', 1),\n",
      " ('chair', 1),\n",
      " ('joint venture', 1),\n",
      " ('supreme court', 1)]\n"
     ]
    }
   ],
   "source": [
    "# Sort the category frequency dictionary\n",
    "from pprint import pprint\n",
    "category_frequency_list = list(sorted(category_frequency.items(), key=lambda item: item[1], reverse=True))\n",
    "categories_priortized = [x[0] for x in category_frequency_list]\n",
    "pprint(category_frequency_list)"
   ]
  },
  {
   "cell_type": "code",
   "execution_count": 106,
   "metadata": {},
   "outputs": [],
   "source": [
    "quesid_to_dominant_category = {}\n",
    "for k, v in quesid_to_category.items():\n",
    "    indexed_v = [(categories_priortized.index(x), x) for x in v]\n",
    "    dominant_category = sorted(indexed_v, key=lambda x: x[0])\n",
    "    if len(v) == 0:\n",
    "        quesid_to_dominant_category[k] = \"None\"\n",
    "        print(\"NO\")\n",
    "    else:\n",
    "        quesid_to_dominant_category[k] = v[0]"
   ]
  },
  {
   "cell_type": "code",
   "execution_count": 107,
   "metadata": {},
   "outputs": [
    {
     "name": "stdout",
     "output_type": "stream",
     "text": [
      "500\n"
     ]
    }
   ],
   "source": [
    "print(nuum_questions)"
   ]
  },
  {
   "cell_type": "code",
   "execution_count": 108,
   "metadata": {},
   "outputs": [
    {
     "name": "stdout",
     "output_type": "stream",
     "text": [
      "[('Wikimedia list article', 188), ('sports season', 45), ('human', 22), ('None', 20), ('Olympic delegation', 16), ('television series season', 12), ('Wikimedia music-related list', 11), ('Others', 186)]\n"
     ]
    }
   ],
   "source": [
    "relevnat_limit = min(0.02*len(quesid_to_category), 20)\n",
    "relevant_categories = [(x[0], int(nuum_questions*x[1]/len(quesid_to_category))) for x in category_frequency_list if x[1] > relevnat_limit]\n",
    "total_left = nuum_questions - sum([x[1] for x in relevant_categories])\n",
    "relevant_categories.append((\"Others\", total_left))\n",
    "print(relevant_categories)"
   ]
  },
  {
   "cell_type": "code",
   "execution_count": 109,
   "metadata": {},
   "outputs": [
    {
     "name": "stdout",
     "output_type": "stream",
     "text": [
      "{'Olympic delegation', 'Wikimedia list article', 'Others', 'television series season', 'sports season', 'Wikimedia music-related list', 'None', 'human'}\n"
     ]
    }
   ],
   "source": [
    "from collections import defaultdict\n",
    "category_to_quesarray = defaultdict(list)\n",
    "category_set = set([x[0] for x in relevant_categories])\n",
    "print(category_set)"
   ]
  },
  {
   "cell_type": "code",
   "execution_count": 110,
   "metadata": {},
   "outputs": [
    {
     "name": "stdout",
     "output_type": "stream",
     "text": [
      "700\n"
     ]
    }
   ],
   "source": [
    "for quesid, category in quesid_to_dominant_category.items():\n",
    "    if category in category_set:\n",
    "        category_to_quesarray[category].append(quesid)\n",
    "    else:\n",
    "        category_to_quesarray[\"Others\"].append(quesid)\n",
    "print(len(quesid_to_dominant_category))"
   ]
  },
  {
   "cell_type": "code",
   "execution_count": 111,
   "metadata": {},
   "outputs": [],
   "source": [
    "import random\n",
    "\n",
    "final_sampled_qids = []\n",
    "for category, num_ques in relevant_categories:\n",
    "    sampled_qids = random.sample(category_to_quesarray[category], num_ques)\n",
    "    final_sampled_qids.extend(sampled_qids)"
   ]
  },
  {
   "cell_type": "code",
   "execution_count": 112,
   "metadata": {},
   "outputs": [
    {
     "data": {
      "text/plain": [
       "500"
      ]
     },
     "execution_count": 112,
     "metadata": {},
     "output_type": "execute_result"
    }
   ],
   "source": [
    "len(final_sampled_qids)"
   ]
  },
  {
   "cell_type": "code",
   "execution_count": 113,
   "metadata": {},
   "outputs": [
    {
     "name": "stdout",
     "output_type": "stream",
     "text": [
      "/home/suyash/final_repo/gpt_test_samples/HybridQA_Tab_MM/Hybrid_QA_MM/test_implicit_questions.jsonl\n"
     ]
    }
   ],
   "source": [
    "import os\n",
    "sampled_questions = [quesid_to_question[x] for x in final_sampled_qids]\n",
    "os.makedirs(f\"/home/suyash/final_repo/gpt_test_samples/{DATASET}\", exist_ok=True)\n",
    "with open(f\"/home/suyash/final_repo/gpt_test_samples/{DATASET}/test_{Q_TYPE}_questions.jsonl\", \"w\") as f:\n",
    "    print(f\"/home/suyash/final_repo/gpt_test_samples/{DATASET}/test_{Q_TYPE}_questions.jsonl\")\n",
    "    for question in sampled_questions:\n",
    "        f.write(json.dumps(question) + \"\\n\")"
   ]
  },
  {
   "cell_type": "code",
   "execution_count": 114,
   "metadata": {},
   "outputs": [
    {
     "name": "stdout",
     "output_type": "stream",
     "text": [
      "[('Wikimedia list article', 188),\n",
      " ('sports season', 45),\n",
      " ('human', 22),\n",
      " ('None', 20),\n",
      " ('Olympic delegation', 16),\n",
      " ('television series season', 12),\n",
      " ('Wikimedia music-related list', 11),\n",
      " ('events in a specific year or time period', 10),\n",
      " ('award', 10),\n",
      " ('sports discipline', 6),\n",
      " ('nation at sport competition', 6),\n",
      " ('sports league', 5),\n",
      " ('sports competition', 5),\n",
      " ('class of award', 5),\n",
      " ('business', 5),\n",
      " ('figure skating competition', 5),\n",
      " ('International Cross Country Championships', 5),\n",
      " ('sports award', 4),\n",
      " ('television series', 4),\n",
      " ('filmography', 4),\n",
      " ('association football team season', 4),\n",
      " ('legislative term', 3),\n",
      " ('tournament', 3),\n",
      " ('World Athletics Half Marathon Championships', 3),\n",
      " ('ranking', 3),\n",
      " (\"UCI Women's Road World Cup\", 3),\n",
      " ('award ceremony', 2),\n",
      " ('San Marino Grand Prix', 2),\n",
      " ('Wikimedia artist discography', 2),\n",
      " ('National Football League draft', 2),\n",
      " ('professional sports league', 2),\n",
      " ('sport competition at a multi-sport event', 2),\n",
      " ('association football league', 2),\n",
      " ('French Grand Prix', 2),\n",
      " ('draft', 2),\n",
      " ('recurring sporting event', 2),\n",
      " ('transmitter station', 2),\n",
      " ('UCI Europe Tour', 2),\n",
      " ('sport in a geographic region', 2),\n",
      " ('film festival', 2),\n",
      " ('sports season of a sports club', 2),\n",
      " ('electoral alliance', 1),\n",
      " ('video game series', 1),\n",
      " ('international association football clubs cup', 1),\n",
      " ('Detroit Grand Prix', 1),\n",
      " ('Paralympics delegation', 1),\n",
      " ('profession', 1),\n",
      " ('film', 1),\n",
      " ('political organization', 1),\n",
      " ('sports team', 1),\n",
      " ('position', 1),\n",
      " ('city', 1),\n",
      " ('college and university ranking', 1),\n",
      " ('Brazilian Grand Prix', 1),\n",
      " ('sovereign state', 1),\n",
      " ('Hungarian Grand Prix', 1),\n",
      " ('cultural depiction', 1),\n",
      " ('Austrian Grand Prix', 1),\n",
      " ('Royal Rumble', 1),\n",
      " ('Acrobatic Gymnastics World Championships', 1),\n",
      " ('discography', 1),\n",
      " ('dot-com company', 1),\n",
      " ('sports hall of fame', 1),\n",
      " ('aircraft fleet', 1),\n",
      " ('college athletic conference', 1),\n",
      " ('film production company', 1),\n",
      " ('ranked list', 1),\n",
      " ('aspect in a geographic region', 1),\n",
      " ('school', 1),\n",
      " ('television station', 1),\n",
      " ('Portuguese Grand Prix', 1),\n",
      " ('Wikimedia list of fictional characters', 1),\n",
      " ('spacecraft family', 1),\n",
      " ('Italian Grand Prix', 1),\n",
      " ('transport by country or region', 1),\n",
      " ('Berlin Marathon', 1),\n",
      " ('club world championship', 1),\n",
      " ('bibliography', 1),\n",
      " ('sports division', 1),\n",
      " ('championship', 1),\n",
      " ('supreme court', 1),\n",
      " ('programming contest', 1),\n",
      " ('World Athletics Championships', 1),\n",
      " ('expansion draft', 1),\n",
      " ('Wikimedia list of persons by nationality (P27) and occupation (P166)', 1),\n",
      " ('baseball team season', 1),\n",
      " ('designation for an administrative territorial entity of a single country',\n",
      "  1),\n",
      " ('product model', 1),\n",
      " ('walk of fame', 1),\n",
      " ('Australian Grand Prix', 1),\n",
      " ('television in a country', 1),\n",
      " ('international airport', 1),\n",
      " ('Bahrain Grand Prix', 1),\n",
      " ('combined statistical area', 1),\n",
      " ('Canadian Grand Prix', 1),\n",
      " ('joint venture', 1),\n",
      " ('zone', 1),\n",
      " ('nation at the Mediterranean Games', 1),\n",
      " ('female beauty pageant', 1),\n",
      " ('prize', 1),\n",
      " ('ship type', 1),\n",
      " ('electoral history', 1),\n",
      " ('European Grand Prix', 1),\n",
      " ('Wikimedia list of persons', 1)]\n"
     ]
    }
   ],
   "source": [
    "sanity_check_frequency = {}\n",
    "for sample in sampled_questions:\n",
    "    category = quesid_to_dominant_category[sample['question_id']]\n",
    "    if category not in sanity_check_frequency:\n",
    "        sanity_check_frequency[category] = 0\n",
    "    sanity_check_frequency[category] += 1\n",
    "\n",
    "sorted_sanity_check_frequency = list(sorted(sanity_check_frequency.items(), key=lambda item: item[1], reverse=True))\n",
    "pprint(sorted_sanity_check_frequency)"
   ]
  },
  {
   "cell_type": "code",
   "execution_count": null,
   "metadata": {},
   "outputs": [],
   "source": []
  }
 ],
 "metadata": {
  "kernelspec": {
   "display_name": "Python 3 (ipykernel)",
   "language": "python",
   "name": "python3"
  },
  "language_info": {
   "codemirror_mode": {
    "name": "ipython",
    "version": 3
   },
   "file_extension": ".py",
   "mimetype": "text/x-python",
   "name": "python",
   "nbconvert_exporter": "python",
   "pygments_lexer": "ipython3",
   "version": "3.11.4"
  }
 },
 "nbformat": 4,
 "nbformat_minor": 2
}
